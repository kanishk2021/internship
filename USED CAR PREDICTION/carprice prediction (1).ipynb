{
 "cells": [
  {
   "cell_type": "code",
   "execution_count": 1,
   "id": "cd548f36",
   "metadata": {},
   "outputs": [],
   "source": [
    "import pandas as pd\n",
    "import numpy as np\n",
    "import warnings\n",
    "warnings.filterwarnings('ignore')"
   ]
  },
  {
   "cell_type": "code",
   "execution_count": 2,
   "id": "c116fa33",
   "metadata": {},
   "outputs": [],
   "source": [
    "df=pd.read_csv(\"used_cars.csv\")"
   ]
  },
  {
   "cell_type": "code",
   "execution_count": 3,
   "id": "d0aa20d9",
   "metadata": {},
   "outputs": [
    {
     "data": {
      "text/html": [
       "<div>\n",
       "<style scoped>\n",
       "    .dataframe tbody tr th:only-of-type {\n",
       "        vertical-align: middle;\n",
       "    }\n",
       "\n",
       "    .dataframe tbody tr th {\n",
       "        vertical-align: top;\n",
       "    }\n",
       "\n",
       "    .dataframe thead th {\n",
       "        text-align: right;\n",
       "    }\n",
       "</style>\n",
       "<table border=\"1\" class=\"dataframe\">\n",
       "  <thead>\n",
       "    <tr style=\"text-align: right;\">\n",
       "      <th></th>\n",
       "      <th>LOCATION</th>\n",
       "      <th>MNF_YEAR</th>\n",
       "      <th>BRAND</th>\n",
       "      <th>MODEL</th>\n",
       "      <th>VARIANT</th>\n",
       "      <th>DRIVEN_KM</th>\n",
       "      <th>FUELTYPE</th>\n",
       "      <th>NOOF_OWNERS</th>\n",
       "      <th>PRICE</th>\n",
       "    </tr>\n",
       "  </thead>\n",
       "  <tbody>\n",
       "    <tr>\n",
       "      <th>0</th>\n",
       "      <td>New Delhi</td>\n",
       "      <td>2019</td>\n",
       "      <td>Toyota</td>\n",
       "      <td>Innova Crysta 2.4 VX 7 STR</td>\n",
       "      <td>Manual</td>\n",
       "      <td>31,235 km</td>\n",
       "      <td>Diesel</td>\n",
       "      <td>1st Owner</td>\n",
       "      <td>₹18,00,000</td>\n",
       "    </tr>\n",
       "    <tr>\n",
       "      <th>1</th>\n",
       "      <td>New Delhi</td>\n",
       "      <td>2015</td>\n",
       "      <td>Mahindra</td>\n",
       "      <td>TUV300 T8 AT</td>\n",
       "      <td>Automatic</td>\n",
       "      <td>65,766 km</td>\n",
       "      <td>Diesel</td>\n",
       "      <td>1st Owner</td>\n",
       "      <td>₹5,16,000</td>\n",
       "    </tr>\n",
       "    <tr>\n",
       "      <th>2</th>\n",
       "      <td>New Delhi</td>\n",
       "      <td>2015</td>\n",
       "      <td>Maruti</td>\n",
       "      <td>Ertiga ZDI</td>\n",
       "      <td>Manual</td>\n",
       "      <td>65,754 km</td>\n",
       "      <td>Diesel</td>\n",
       "      <td>1st Owner</td>\n",
       "      <td>₹5,99,000</td>\n",
       "    </tr>\n",
       "    <tr>\n",
       "      <th>3</th>\n",
       "      <td>New Delhi</td>\n",
       "      <td>2019</td>\n",
       "      <td>Renault</td>\n",
       "      <td>TRIBER 1.0 RXT</td>\n",
       "      <td>NaN</td>\n",
       "      <td>48,151 km</td>\n",
       "      <td>Petrol</td>\n",
       "      <td>1st Owner</td>\n",
       "      <td>₹4,99,000</td>\n",
       "    </tr>\n",
       "    <tr>\n",
       "      <th>4</th>\n",
       "      <td>New Delhi</td>\n",
       "      <td>2018</td>\n",
       "      <td>Maruti</td>\n",
       "      <td>Vitara Brezza VDI AMT</td>\n",
       "      <td>Manual</td>\n",
       "      <td>28,944 km</td>\n",
       "      <td>Diesel</td>\n",
       "      <td>1st Owner</td>\n",
       "      <td>₹8,15,000</td>\n",
       "    </tr>\n",
       "    <tr>\n",
       "      <th>...</th>\n",
       "      <td>...</td>\n",
       "      <td>...</td>\n",
       "      <td>...</td>\n",
       "      <td>...</td>\n",
       "      <td>...</td>\n",
       "      <td>...</td>\n",
       "      <td>...</td>\n",
       "      <td>...</td>\n",
       "      <td>...</td>\n",
       "    </tr>\n",
       "    <tr>\n",
       "      <th>7853</th>\n",
       "      <td>Ahmedabad</td>\n",
       "      <td>2020</td>\n",
       "      <td>Hyundai</td>\n",
       "      <td>VENUE S MT 1.2 KAPPA</td>\n",
       "      <td>Manual</td>\n",
       "      <td>9,730 km</td>\n",
       "      <td>Petrol</td>\n",
       "      <td>1st Owner</td>\n",
       "      <td>₹8,17,299</td>\n",
       "    </tr>\n",
       "    <tr>\n",
       "      <th>7854</th>\n",
       "      <td>Ahmedabad</td>\n",
       "      <td>2020</td>\n",
       "      <td>Maruti</td>\n",
       "      <td>Vitara Brezza LXI</td>\n",
       "      <td>Manual</td>\n",
       "      <td>10,172 km</td>\n",
       "      <td>Petrol</td>\n",
       "      <td>1st Owner</td>\n",
       "      <td>₹8,43,780</td>\n",
       "    </tr>\n",
       "    <tr>\n",
       "      <th>7855</th>\n",
       "      <td>Ahmedabad</td>\n",
       "      <td>2018</td>\n",
       "      <td>Maruti</td>\n",
       "      <td>Eeco 5 STR WITH AC PLUSHTR</td>\n",
       "      <td>Manual</td>\n",
       "      <td>11,995 km</td>\n",
       "      <td>Petrol</td>\n",
       "      <td>1st Owner</td>\n",
       "      <td>₹4,19,899</td>\n",
       "    </tr>\n",
       "    <tr>\n",
       "      <th>7856</th>\n",
       "      <td>Ahmedabad</td>\n",
       "      <td>2016</td>\n",
       "      <td>Maruti</td>\n",
       "      <td>Vitara Brezza ZDI PLUS</td>\n",
       "      <td>Manual</td>\n",
       "      <td>50,845 km</td>\n",
       "      <td>Diesel</td>\n",
       "      <td>1st Owner</td>\n",
       "      <td>₹7,05,799</td>\n",
       "    </tr>\n",
       "    <tr>\n",
       "      <th>7857</th>\n",
       "      <td>Ahmedabad</td>\n",
       "      <td>2017</td>\n",
       "      <td>Maruti</td>\n",
       "      <td>Ertiga VDI SHVS</td>\n",
       "      <td>Manual</td>\n",
       "      <td>36,002 km</td>\n",
       "      <td>Diesel</td>\n",
       "      <td>1st Owner</td>\n",
       "      <td>₹7,37,699</td>\n",
       "    </tr>\n",
       "  </tbody>\n",
       "</table>\n",
       "<p>7858 rows × 9 columns</p>\n",
       "</div>"
      ],
      "text/plain": [
       "       LOCATION  MNF_YEAR     BRAND                       MODEL    VARIANT  \\\n",
       "0     New Delhi      2019    Toyota  Innova Crysta 2.4 VX 7 STR     Manual   \n",
       "1     New Delhi      2015  Mahindra                TUV300 T8 AT  Automatic   \n",
       "2     New Delhi      2015    Maruti                  Ertiga ZDI     Manual   \n",
       "3     New Delhi      2019   Renault              TRIBER 1.0 RXT        NaN   \n",
       "4     New Delhi      2018    Maruti       Vitara Brezza VDI AMT     Manual   \n",
       "...         ...       ...       ...                         ...        ...   \n",
       "7853  Ahmedabad      2020   Hyundai        VENUE S MT 1.2 KAPPA     Manual   \n",
       "7854  Ahmedabad      2020    Maruti           Vitara Brezza LXI     Manual   \n",
       "7855  Ahmedabad      2018    Maruti  Eeco 5 STR WITH AC PLUSHTR     Manual   \n",
       "7856  Ahmedabad      2016    Maruti      Vitara Brezza ZDI PLUS     Manual   \n",
       "7857  Ahmedabad      2017    Maruti             Ertiga VDI SHVS     Manual   \n",
       "\n",
       "      DRIVEN_KM FUELTYPE NOOF_OWNERS       PRICE  \n",
       "0     31,235 km   Diesel   1st Owner  ₹18,00,000  \n",
       "1     65,766 km   Diesel   1st Owner   ₹5,16,000  \n",
       "2     65,754 km   Diesel   1st Owner   ₹5,99,000  \n",
       "3     48,151 km   Petrol   1st Owner   ₹4,99,000  \n",
       "4     28,944 km   Diesel   1st Owner   ₹8,15,000  \n",
       "...         ...      ...         ...         ...  \n",
       "7853   9,730 km   Petrol   1st Owner   ₹8,17,299  \n",
       "7854  10,172 km   Petrol   1st Owner   ₹8,43,780  \n",
       "7855  11,995 km   Petrol   1st Owner   ₹4,19,899  \n",
       "7856  50,845 km   Diesel   1st Owner   ₹7,05,799  \n",
       "7857  36,002 km   Diesel   1st Owner   ₹7,37,699  \n",
       "\n",
       "[7858 rows x 9 columns]"
      ]
     },
     "execution_count": 3,
     "metadata": {},
     "output_type": "execute_result"
    }
   ],
   "source": [
    "df"
   ]
  },
  {
   "cell_type": "code",
   "execution_count": 4,
   "id": "602d4364",
   "metadata": {},
   "outputs": [
    {
     "data": {
      "text/plain": [
       "(7858, 9)"
      ]
     },
     "execution_count": 4,
     "metadata": {},
     "output_type": "execute_result"
    }
   ],
   "source": [
    "df.shape"
   ]
  },
  {
   "cell_type": "code",
   "execution_count": 5,
   "id": "3a5fff3c",
   "metadata": {},
   "outputs": [
    {
     "data": {
      "text/plain": [
       "LOCATION         0\n",
       "MNF_YEAR         0\n",
       "BRAND            0\n",
       "MODEL            0\n",
       "VARIANT        287\n",
       "DRIVEN_KM        0\n",
       "FUELTYPE         0\n",
       "NOOF_OWNERS      0\n",
       "PRICE            0\n",
       "dtype: int64"
      ]
     },
     "execution_count": 5,
     "metadata": {},
     "output_type": "execute_result"
    }
   ],
   "source": [
    "df.isnull().sum()"
   ]
  },
  {
   "cell_type": "code",
   "execution_count": 6,
   "id": "600217be",
   "metadata": {},
   "outputs": [
    {
     "data": {
      "text/plain": [
       "Manual       6461\n",
       "Automatic    1110\n",
       "Name: VARIANT, dtype: int64"
      ]
     },
     "execution_count": 6,
     "metadata": {},
     "output_type": "execute_result"
    }
   ],
   "source": [
    "df[\"VARIANT\"].value_counts()"
   ]
  },
  {
   "cell_type": "code",
   "execution_count": 7,
   "id": "491fdd2c",
   "metadata": {},
   "outputs": [],
   "source": [
    "df[\"VARIANT\"].fillna(\"Manual\",inplace=True)"
   ]
  },
  {
   "cell_type": "code",
   "execution_count": 8,
   "id": "701ec839",
   "metadata": {},
   "outputs": [
    {
     "data": {
      "text/plain": [
       "LOCATION       0\n",
       "MNF_YEAR       0\n",
       "BRAND          0\n",
       "MODEL          0\n",
       "VARIANT        0\n",
       "DRIVEN_KM      0\n",
       "FUELTYPE       0\n",
       "NOOF_OWNERS    0\n",
       "PRICE          0\n",
       "dtype: int64"
      ]
     },
     "execution_count": 8,
     "metadata": {},
     "output_type": "execute_result"
    }
   ],
   "source": [
    "df.isnull().sum()"
   ]
  },
  {
   "cell_type": "code",
   "execution_count": 9,
   "id": "445b90d6",
   "metadata": {},
   "outputs": [
    {
     "data": {
      "text/html": [
       "<div>\n",
       "<style scoped>\n",
       "    .dataframe tbody tr th:only-of-type {\n",
       "        vertical-align: middle;\n",
       "    }\n",
       "\n",
       "    .dataframe tbody tr th {\n",
       "        vertical-align: top;\n",
       "    }\n",
       "\n",
       "    .dataframe thead th {\n",
       "        text-align: right;\n",
       "    }\n",
       "</style>\n",
       "<table border=\"1\" class=\"dataframe\">\n",
       "  <thead>\n",
       "    <tr style=\"text-align: right;\">\n",
       "      <th></th>\n",
       "      <th>MNF_YEAR</th>\n",
       "    </tr>\n",
       "  </thead>\n",
       "  <tbody>\n",
       "    <tr>\n",
       "      <th>count</th>\n",
       "      <td>7858.000000</td>\n",
       "    </tr>\n",
       "    <tr>\n",
       "      <th>mean</th>\n",
       "      <td>2015.082336</td>\n",
       "    </tr>\n",
       "    <tr>\n",
       "      <th>std</th>\n",
       "      <td>2.825765</td>\n",
       "    </tr>\n",
       "    <tr>\n",
       "      <th>min</th>\n",
       "      <td>2007.000000</td>\n",
       "    </tr>\n",
       "    <tr>\n",
       "      <th>25%</th>\n",
       "      <td>2013.000000</td>\n",
       "    </tr>\n",
       "    <tr>\n",
       "      <th>50%</th>\n",
       "      <td>2015.000000</td>\n",
       "    </tr>\n",
       "    <tr>\n",
       "      <th>75%</th>\n",
       "      <td>2017.000000</td>\n",
       "    </tr>\n",
       "    <tr>\n",
       "      <th>max</th>\n",
       "      <td>2021.000000</td>\n",
       "    </tr>\n",
       "  </tbody>\n",
       "</table>\n",
       "</div>"
      ],
      "text/plain": [
       "          MNF_YEAR\n",
       "count  7858.000000\n",
       "mean   2015.082336\n",
       "std       2.825765\n",
       "min    2007.000000\n",
       "25%    2013.000000\n",
       "50%    2015.000000\n",
       "75%    2017.000000\n",
       "max    2021.000000"
      ]
     },
     "execution_count": 9,
     "metadata": {},
     "output_type": "execute_result"
    }
   ],
   "source": [
    "df.describe()"
   ]
  },
  {
   "cell_type": "code",
   "execution_count": 10,
   "id": "192e4443",
   "metadata": {},
   "outputs": [
    {
     "name": "stdout",
     "output_type": "stream",
     "text": [
      "<class 'pandas.core.frame.DataFrame'>\n",
      "RangeIndex: 7858 entries, 0 to 7857\n",
      "Data columns (total 9 columns):\n",
      " #   Column       Non-Null Count  Dtype \n",
      "---  ------       --------------  ----- \n",
      " 0   LOCATION     7858 non-null   object\n",
      " 1   MNF_YEAR     7858 non-null   int64 \n",
      " 2   BRAND        7858 non-null   object\n",
      " 3   MODEL        7858 non-null   object\n",
      " 4   VARIANT      7858 non-null   object\n",
      " 5   DRIVEN_KM    7858 non-null   object\n",
      " 6   FUELTYPE     7858 non-null   object\n",
      " 7   NOOF_OWNERS  7858 non-null   object\n",
      " 8   PRICE        7858 non-null   object\n",
      "dtypes: int64(1), object(8)\n",
      "memory usage: 552.6+ KB\n"
     ]
    }
   ],
   "source": [
    "df.info()"
   ]
  },
  {
   "cell_type": "code",
   "execution_count": 11,
   "id": "8aba1faa",
   "metadata": {},
   "outputs": [],
   "source": [
    "df['PRICE'] = df['PRICE'].str.replace(r'\\D', '').astype(int)\n",
    "df['DRIVEN_KM'] = df['DRIVEN_KM'].str.replace(r'\\D', '').astype(int)"
   ]
  },
  {
   "cell_type": "code",
   "execution_count": 12,
   "id": "796ad670",
   "metadata": {},
   "outputs": [
    {
     "name": "stdout",
     "output_type": "stream",
     "text": [
      "<class 'pandas.core.frame.DataFrame'>\n",
      "RangeIndex: 7858 entries, 0 to 7857\n",
      "Data columns (total 9 columns):\n",
      " #   Column       Non-Null Count  Dtype \n",
      "---  ------       --------------  ----- \n",
      " 0   LOCATION     7858 non-null   object\n",
      " 1   MNF_YEAR     7858 non-null   int64 \n",
      " 2   BRAND        7858 non-null   object\n",
      " 3   MODEL        7858 non-null   object\n",
      " 4   VARIANT      7858 non-null   object\n",
      " 5   DRIVEN_KM    7858 non-null   int32 \n",
      " 6   FUELTYPE     7858 non-null   object\n",
      " 7   NOOF_OWNERS  7858 non-null   object\n",
      " 8   PRICE        7858 non-null   int32 \n",
      "dtypes: int32(2), int64(1), object(6)\n",
      "memory usage: 491.2+ KB\n"
     ]
    }
   ],
   "source": [
    "df.info()"
   ]
  },
  {
   "cell_type": "code",
   "execution_count": 13,
   "id": "8dcefefd",
   "metadata": {},
   "outputs": [
    {
     "data": {
      "text/html": [
       "<div>\n",
       "<style scoped>\n",
       "    .dataframe tbody tr th:only-of-type {\n",
       "        vertical-align: middle;\n",
       "    }\n",
       "\n",
       "    .dataframe tbody tr th {\n",
       "        vertical-align: top;\n",
       "    }\n",
       "\n",
       "    .dataframe thead th {\n",
       "        text-align: right;\n",
       "    }\n",
       "</style>\n",
       "<table border=\"1\" class=\"dataframe\">\n",
       "  <thead>\n",
       "    <tr style=\"text-align: right;\">\n",
       "      <th></th>\n",
       "      <th>MNF_YEAR</th>\n",
       "      <th>DRIVEN_KM</th>\n",
       "      <th>PRICE</th>\n",
       "    </tr>\n",
       "  </thead>\n",
       "  <tbody>\n",
       "    <tr>\n",
       "      <th>count</th>\n",
       "      <td>7858.000000</td>\n",
       "      <td>7858.000000</td>\n",
       "      <td>7.858000e+03</td>\n",
       "    </tr>\n",
       "    <tr>\n",
       "      <th>mean</th>\n",
       "      <td>2015.082336</td>\n",
       "      <td>60871.191397</td>\n",
       "      <td>5.906122e+05</td>\n",
       "    </tr>\n",
       "    <tr>\n",
       "      <th>std</th>\n",
       "      <td>2.825765</td>\n",
       "      <td>42090.015743</td>\n",
       "      <td>3.643825e+05</td>\n",
       "    </tr>\n",
       "    <tr>\n",
       "      <th>min</th>\n",
       "      <td>2007.000000</td>\n",
       "      <td>199.000000</td>\n",
       "      <td>7.200000e+04</td>\n",
       "    </tr>\n",
       "    <tr>\n",
       "      <th>25%</th>\n",
       "      <td>2013.000000</td>\n",
       "      <td>30768.000000</td>\n",
       "      <td>3.500248e+05</td>\n",
       "    </tr>\n",
       "    <tr>\n",
       "      <th>50%</th>\n",
       "      <td>2015.000000</td>\n",
       "      <td>53184.500000</td>\n",
       "      <td>4.900000e+05</td>\n",
       "    </tr>\n",
       "    <tr>\n",
       "      <th>75%</th>\n",
       "      <td>2017.000000</td>\n",
       "      <td>81299.750000</td>\n",
       "      <td>7.362990e+05</td>\n",
       "    </tr>\n",
       "    <tr>\n",
       "      <th>max</th>\n",
       "      <td>2021.000000</td>\n",
       "      <td>912380.000000</td>\n",
       "      <td>4.725000e+06</td>\n",
       "    </tr>\n",
       "  </tbody>\n",
       "</table>\n",
       "</div>"
      ],
      "text/plain": [
       "          MNF_YEAR      DRIVEN_KM         PRICE\n",
       "count  7858.000000    7858.000000  7.858000e+03\n",
       "mean   2015.082336   60871.191397  5.906122e+05\n",
       "std       2.825765   42090.015743  3.643825e+05\n",
       "min    2007.000000     199.000000  7.200000e+04\n",
       "25%    2013.000000   30768.000000  3.500248e+05\n",
       "50%    2015.000000   53184.500000  4.900000e+05\n",
       "75%    2017.000000   81299.750000  7.362990e+05\n",
       "max    2021.000000  912380.000000  4.725000e+06"
      ]
     },
     "execution_count": 13,
     "metadata": {},
     "output_type": "execute_result"
    }
   ],
   "source": [
    "df.describe()"
   ]
  },
  {
   "cell_type": "code",
   "execution_count": 14,
   "id": "f472acfa",
   "metadata": {},
   "outputs": [],
   "source": [
    "import seaborn as sns\n",
    "import matplotlib.pyplot as plt\n",
    "%matplotlib inline"
   ]
  },
  {
   "cell_type": "code",
   "execution_count": 15,
   "id": "8a3bf2ed",
   "metadata": {},
   "outputs": [
    {
     "data": {
      "text/plain": [
       "<AxesSubplot:xlabel='LOCATION', ylabel='PRICE'>"
      ]
     },
     "execution_count": 15,
     "metadata": {},
     "output_type": "execute_result"
    },
    {
     "data": {
      "image/png": "[encoded data removed]",
      "text/plain": [
       "<Figure size 1440x360 with 1 Axes>"
      ]
     },
     "metadata": {
      "needs_background": "light"
     },
     "output_type": "display_data"
    }
   ],
   "source": [
    "plt.figure(figsize=(20,5))\n",
    "sns.barplot(x = \"LOCATION\",y = \"PRICE\", data = df)"
   ]
  },
  {
   "cell_type": "code",
   "execution_count": 16,
   "id": "a62ded88",
   "metadata": {},
   "outputs": [
    {
     "data": {
      "text/plain": [
       "<AxesSubplot:xlabel='MNF_YEAR', ylabel='PRICE'>"
      ]
     },
     "execution_count": 16,
     "metadata": {},
     "output_type": "execute_result"
    },
    {
     "data": {
      "image/png": "[encoded data removed]",
      "text/plain": [
       "<Figure size 1440x360 with 1 Axes>"
      ]
     },
     "metadata": {
      "needs_background": "light"
     },
     "output_type": "display_data"
    }
   ],
   "source": [
    "plt.figure(figsize=(20,5))\n",
    "sns.barplot(x = \"MNF_YEAR\",y = \"PRICE\", data = df)"
   ]
  },
  {
   "cell_type": "code",
   "execution_count": 17,
   "id": "af31427f",
   "metadata": {},
   "outputs": [
    {
     "data": {
      "text/plain": [
       "<AxesSubplot:xlabel='BRAND', ylabel='PRICE'>"
      ]
     },
     "execution_count": 17,
     "metadata": {},
     "output_type": "execute_result"
    },
    {
     "data": {
      "image/png": "[encoded data removed]",
      "text/plain": [
       "<Figure size 1440x360 with 1 Axes>"
      ]
     },
     "metadata": {
      "needs_background": "light"
     },
     "output_type": "display_data"
    }
   ],
   "source": [
    "plt.figure(figsize=(20,5))\n",
    "sns.barplot(x = \"BRAND\",y = \"PRICE\", data = df)"
   ]
  },
  {
   "cell_type": "code",
   "execution_count": 18,
   "id": "045ce74a",
   "metadata": {},
   "outputs": [
    {
     "data": {
      "text/plain": [
       "<AxesSubplot:xlabel='VARIANT', ylabel='PRICE'>"
      ]
     },
     "execution_count": 18,
     "metadata": {},
     "output_type": "execute_result"
    },
    {
     "data": {
      "image/png": "[encoded data removed]",
      "text/plain": [
       "<Figure size 432x288 with 1 Axes>"
      ]
     },
     "metadata": {
      "needs_background": "light"
     },
     "output_type": "display_data"
    }
   ],
   "source": [
    "\n",
    "sns.barplot(x = \"VARIANT\",y = \"PRICE\", data = df)"
   ]
  },
  {
   "cell_type": "code",
   "execution_count": 19,
   "id": "52485f84",
   "metadata": {},
   "outputs": [
    {
     "data": {
      "text/plain": [
       "<AxesSubplot:xlabel='FUELTYPE', ylabel='PRICE'>"
      ]
     },
     "execution_count": 19,
     "metadata": {},
     "output_type": "execute_result"
    },
    {
     "data": {
      "image/png": "[encoded data removed]",
      "text/plain": [
       "<Figure size 1440x360 with 1 Axes>"
      ]
     },
     "metadata": {
      "needs_background": "light"
     },
     "output_type": "display_data"
    }
   ],
   "source": [
    "\n",
    "plt.figure(figsize=(20,5))\n",
    "sns.barplot(x = \"FUELTYPE\",y = \"PRICE\", data =df)"
   ]
  },
  {
   "cell_type": "code",
   "execution_count": 20,
   "id": "52570612",
   "metadata": {},
   "outputs": [
    {
     "data": {
      "text/plain": [
       "<AxesSubplot:xlabel='NOOF_OWNERS', ylabel='PRICE'>"
      ]
     },
     "execution_count": 20,
     "metadata": {},
     "output_type": "execute_result"
    },
    {
     "data": {
      "image/png": "[encoded data removed]",
      "text/plain": [
       "<Figure size 936x432 with 1 Axes>"
      ]
     },
     "metadata": {
      "needs_background": "light"
     },
     "output_type": "display_data"
    }
   ],
   "source": [
    "plt.figure(figsize=(13,6))\n",
    "sns.barplot(x = \"NOOF_OWNERS\",y = \"PRICE\", data =df)"
   ]
  },
  {
   "cell_type": "code",
   "execution_count": 21,
   "id": "85440997",
   "metadata": {},
   "outputs": [
    {
     "data": {
      "text/plain": [
       "<AxesSubplot:xlabel='DRIVEN_KM', ylabel='PRICE'>"
      ]
     },
     "execution_count": 21,
     "metadata": {},
     "output_type": "execute_result"
    },
    {
     "data": {
      "image/png": "[encoded data removed]",
      "text/plain": [
       "<Figure size 432x288 with 1 Axes>"
      ]
     },
     "metadata": {
      "needs_background": "light"
     },
     "output_type": "display_data"
    }
   ],
   "source": [
    "sns.scatterplot(x = 'DRIVEN_KM',y = \"PRICE\", data =df)"
   ]
  },
  {
   "cell_type": "code",
   "execution_count": 22,
   "id": "1c2ad849",
   "metadata": {},
   "outputs": [],
   "source": [
    "from sklearn.preprocessing import OrdinalEncoder\n",
    "enc=OrdinalEncoder()"
   ]
  },
  {
   "cell_type": "code",
   "execution_count": 23,
   "id": "d5d6ad8d",
   "metadata": {},
   "outputs": [],
   "source": [
    "for i in df.columns:\n",
    "    if df[i].dtypes==\"object\":\n",
    "        df[i]=enc.fit_transform(df[i].values.reshape(-1,1))"
   ]
  },
  {
   "cell_type": "code",
   "execution_count": 24,
   "id": "05f5c709",
   "metadata": {},
   "outputs": [
    {
     "data": {
      "text/plain": [
       "<AxesSubplot:>"
      ]
     },
     "execution_count": 24,
     "metadata": {},
     "output_type": "execute_result"
    },
    {
     "data": {
      "image/png": "[encoded data removed]",
      "text/plain": [
       "<Figure size 1440x720 with 2 Axes>"
      ]
     },
     "metadata": {
      "needs_background": "light"
     },
     "output_type": "display_data"
    }
   ],
   "source": [
    "plt.figure(figsize=[20,10])\n",
    "sns.heatmap(df.corr(),annot=True)"
   ]
  },
  {
   "cell_type": "code",
   "execution_count": 25,
   "id": "319e4e5d",
   "metadata": {},
   "outputs": [
    {
     "data": {
      "text/plain": [
       "PRICE          1.000000\n",
       "MNF_YEAR       0.440398\n",
       "BRAND          0.036790\n",
       "LOCATION      -0.000643\n",
       "MODEL         -0.052220\n",
       "DRIVEN_KM     -0.069376\n",
       "NOOF_OWNERS   -0.102016\n",
       "FUELTYPE      -0.355221\n",
       "VARIANT       -0.406373\n",
       "Name: PRICE, dtype: float64"
      ]
     },
     "execution_count": 25,
     "metadata": {},
     "output_type": "execute_result"
    }
   ],
   "source": [
    "df.corr()[\"PRICE\"].sort_values(ascending=False)"
   ]
  },
  {
   "cell_type": "code",
   "execution_count": 26,
   "id": "1763bd71",
   "metadata": {},
   "outputs": [
    {
     "data": {
      "text/plain": [
       "LOCATION      -0.376618\n",
       "MNF_YEAR      -0.368480\n",
       "BRAND          0.330513\n",
       "MODEL         -0.031115\n",
       "VARIANT       -2.060435\n",
       "DRIVEN_KM      2.300249\n",
       "FUELTYPE       0.115327\n",
       "NOOF_OWNERS    1.963582\n",
       "PRICE          2.296489\n",
       "dtype: float64"
      ]
     },
     "execution_count": 26,
     "metadata": {},
     "output_type": "execute_result"
    }
   ],
   "source": [
    "df.skew()"
   ]
  },
  {
   "cell_type": "code",
   "execution_count": 27,
   "id": "d3459ec5",
   "metadata": {},
   "outputs": [
    {
     "data": {
      "text/plain": [
       "<function matplotlib.pyplot.show(close=None, block=None)>"
      ]
     },
     "execution_count": 27,
     "metadata": {},
     "output_type": "execute_result"
    },
    {
     "data": {
      "image/png": "[encoded data removed]",
      "text/plain": [
       "<Figure size 1800x1800 with 35 Axes>"
      ]
     },
     "metadata": {
      "needs_background": "light"
     },
     "output_type": "display_data"
    }
   ],
   "source": [
    "df.plot(kind=\"density\",subplots=True,layout=(7,5),sharex=False,fontsize=1,figsize=(25,25))\n",
    "plt.show"
   ]
  },
  {
   "cell_type": "code",
   "execution_count": 28,
   "id": "38b8d496",
   "metadata": {},
   "outputs": [
    {
     "data": {
      "image/png": "[encoded data removed]",
      "text/plain": [
       "<Figure size 1080x1080 with 16 Axes>"
      ]
     },
     "metadata": {
      "needs_background": "light"
     },
     "output_type": "display_data"
    }
   ],
   "source": [
    "df.plot(kind='box', figsize=(15,15), layout=(4,4), sharex=False, subplots=True);"
   ]
  },
  {
   "cell_type": "code",
   "execution_count": 29,
   "id": "34b5af29",
   "metadata": {},
   "outputs": [
    {
     "data": {
      "text/plain": [
       "(array([   0,   41,   55,   78,   90,  111,  116,  129,  195,  230,  234,\n",
       "         244,  247,  309,  312,  343,  364,  371,  397,  398,  412,  413,\n",
       "         440,  451,  468,  475,  482,  483,  497,  512,  520,  522,  524,\n",
       "         548,  559,  563,  695,  799,  808,  902,  907,  920,  921,  928,\n",
       "         931,  939,  940,  945,  948,  950,  955,  955,  958,  959,  960,\n",
       "        1004, 1015, 1038, 1083, 1091, 1117, 1118, 1132, 1133, 1154, 1159,\n",
       "        1193, 1200, 1232, 1284, 1303, 1311, 1319, 1345, 1352, 1369, 1387,\n",
       "        1431, 1459, 1519, 1528, 1566, 1570, 1575, 1618, 1622, 1627, 1687,\n",
       "        1698, 1720, 1721, 1732, 1735, 1738, 1740, 1745, 1750, 1753, 1756,\n",
       "        1760, 1820, 1821, 1829, 1836, 1842, 1846, 1857, 1860, 1864, 1866,\n",
       "        1871, 1875, 1875, 1878, 1879, 1881, 1888, 1890, 1908, 1915, 1915,\n",
       "        1918, 1919, 1919, 1924, 1933, 1937, 1938, 1946, 1949, 1956, 1971,\n",
       "        1973, 1974, 1978, 1982, 1986, 1991, 2000, 2002, 2043, 2057, 2063,\n",
       "        2077, 2085, 2099, 2100, 2114, 2156, 2160, 2170, 2173, 2198, 2207,\n",
       "        2213, 2238, 2299, 2303, 2322, 2330, 2331, 2332, 2376, 2380, 2388,\n",
       "        2389, 2390, 2406, 2416, 2423, 2431, 2434, 2436, 2439, 2451, 2459,\n",
       "        2469, 2553, 2567, 2662, 2670, 2673, 2687, 2724, 2727, 2733, 2754,\n",
       "        2786, 2805, 2860, 2953, 2998, 3019, 3035, 3046, 3108, 3120, 3121,\n",
       "        3124, 3125, 3135, 3138, 3142, 3143, 3144, 3146, 3147, 3152, 3156,\n",
       "        3160, 3165, 3169, 3170, 3171, 3174, 3175, 3176, 3177, 3179, 3182,\n",
       "        3192, 3194, 3195, 3203, 3205, 3207, 3210, 3212, 3219, 3220, 3225,\n",
       "        3231, 3232, 3236, 3238, 3243, 3245, 3299, 3300, 3314, 3353, 3386,\n",
       "        3415, 3423, 3434, 3460, 3461, 3468, 3469, 3473, 3475, 3477, 3478,\n",
       "        3506, 3514, 3515, 3516, 3574, 3575, 3581, 3599, 3601, 3610, 3617,\n",
       "        3625, 3633, 3636, 3638, 3645, 3647, 3682, 3689, 3697, 3745, 3746,\n",
       "        3747, 3771, 3778, 3866, 3869, 3884, 3914, 3915, 3921, 3930, 3954,\n",
       "        3980, 3981, 3987, 4040, 4056, 4082, 4101, 4129, 4164, 4180, 4180,\n",
       "        4208, 4290, 4333, 4334, 4349, 4360, 4364, 4365, 4366, 4368, 4369,\n",
       "        4374, 4377, 4381, 4382, 4387, 4392, 4396, 4397, 4398, 4403, 4408,\n",
       "        4409, 4413, 4415, 4418, 4423, 4429, 4430, 4434, 4436, 4441, 4442,\n",
       "        4513, 4524, 4531, 4534, 4549, 4575, 4580, 4586, 4595, 4662, 4664,\n",
       "        4671, 4677, 4678, 4686, 4687, 4693, 4698, 4700, 4701, 4702, 4703,\n",
       "        4707, 4708, 4710, 4714, 4718, 4722, 4723, 4728, 4733, 4737, 4738,\n",
       "        4739, 4742, 4743, 4744, 4771, 4779, 4795, 4802, 4803, 4830, 4840,\n",
       "        4841, 4842, 4894, 4910, 4928, 4937, 4940, 4948, 4949, 4950, 4963,\n",
       "        4969, 4971, 5017, 5018, 5019, 5069, 5081, 5086, 5105, 5120, 5124,\n",
       "        5155, 5165, 5168, 5172, 5252, 5252, 5266, 5287, 5290, 5362, 5367,\n",
       "        5375, 5377, 5446, 5459, 5478, 5481, 5495, 5512, 5516, 5526, 5530,\n",
       "        5535, 5565, 5605, 5612, 5615, 5619, 5631, 5632, 5633, 5687, 5719,\n",
       "        5746, 5764, 5792, 5821, 5827, 5855, 5856, 5864, 5910, 5966, 5967,\n",
       "        5975, 6015, 6049, 6066, 6100, 6124, 6216, 6217, 6224, 6231, 6232,\n",
       "        6235, 6247, 6255, 6272, 6279, 6289, 6301, 6311, 6318, 6322, 6374,\n",
       "        6375, 6386, 6443, 6465, 6468, 6481, 6542, 6545, 6562, 6563, 6579,\n",
       "        6612, 6622, 6631, 6631, 6663, 6670, 6674, 6700, 6720, 6721, 6730,\n",
       "        6737, 6741, 6825, 6832, 6833, 6836, 6918, 7104, 7135, 7269, 7280,\n",
       "        7336, 7342, 7349, 7359, 7360, 7376, 7392, 7393, 7397, 7422, 7452,\n",
       "        7479, 7509, 7523, 7553, 7564, 7567, 7571, 7577, 7610, 7639, 7647,\n",
       "        7648, 7649, 7652, 7662, 7672, 7673, 7705, 7706, 7709, 7714, 7746],\n",
       "       dtype=int64),\n",
       " array([8, 8, 8, 7, 8, 8, 7, 8, 8, 7, 7, 5, 5, 5, 5, 7, 7, 7, 7, 7, 7, 7,\n",
       "        7, 7, 7, 5, 7, 7, 7, 7, 7, 7, 7, 7, 7, 7, 7, 7, 7, 7, 7, 8, 8, 8,\n",
       "        8, 8, 8, 8, 8, 8, 5, 8, 5, 8, 8, 7, 8, 7, 7, 7, 7, 7, 7, 7, 7, 7,\n",
       "        5, 7, 5, 7, 7, 7, 7, 5, 7, 7, 7, 7, 7, 7, 7, 7, 7, 7, 7, 7, 7, 7,\n",
       "        7, 8, 8, 8, 8, 8, 8, 8, 8, 8, 5, 8, 8, 8, 8, 8, 7, 7, 8, 8, 8, 8,\n",
       "        8, 5, 8, 5, 8, 7, 8, 8, 7, 7, 8, 8, 7, 8, 7, 5, 5, 8, 8, 8, 8, 8,\n",
       "        8, 7, 7, 8, 7, 7, 8, 8, 8, 8, 8, 8, 8, 8, 8, 8, 5, 7, 5, 5, 7, 8,\n",
       "        5, 7, 7, 5, 8, 5, 5, 5, 5, 8, 5, 5, 5, 7, 8, 7, 5, 5, 5, 7, 8, 5,\n",
       "        7, 7, 7, 7, 8, 7, 7, 7, 7, 5, 5, 7, 7, 7, 7, 7, 7, 7, 5, 5, 8, 8,\n",
       "        8, 8, 8, 7, 7, 8, 8, 8, 7, 5, 8, 7, 7, 7, 8, 7, 7, 8, 7, 8, 8, 7,\n",
       "        8, 7, 8, 8, 8, 7, 7, 7, 5, 5, 8, 8, 8, 8, 8, 8, 8, 7, 7, 7, 5, 7,\n",
       "        7, 7, 7, 8, 8, 8, 8, 8, 8, 7, 8, 7, 5, 7, 5, 5, 5, 5, 7, 7, 8, 7,\n",
       "        7, 5, 5, 5, 7, 8, 8, 7, 5, 5, 7, 5, 7, 5, 8, 7, 5, 7, 7, 5, 7, 5,\n",
       "        7, 7, 5, 7, 7, 7, 7, 5, 7, 6, 7, 7, 7, 7, 7, 7, 7, 7, 8, 8, 8, 7,\n",
       "        5, 8, 8, 5, 7, 7, 7, 8, 8, 7, 8, 8, 8, 8, 8, 8, 8, 8, 8, 8, 7, 5,\n",
       "        7, 7, 8, 7, 5, 7, 7, 5, 7, 7, 7, 5, 7, 5, 7, 5, 5, 8, 7, 8, 7, 7,\n",
       "        7, 8, 8, 7, 8, 8, 5, 7, 7, 7, 8, 7, 7, 8, 7, 7, 5, 8, 5, 5, 5, 5,\n",
       "        7, 5, 5, 8, 7, 8, 7, 5, 7, 5, 7, 7, 8, 7, 5, 8, 8, 7, 7, 7, 7, 5,\n",
       "        7, 8, 8, 8, 6, 7, 6, 7, 7, 7, 7, 5, 7, 7, 7, 8, 8, 8, 7, 7, 7, 5,\n",
       "        7, 7, 8, 8, 8, 8, 7, 5, 8, 5, 8, 5, 5, 5, 6, 6, 7, 6, 5, 6, 7, 6,\n",
       "        5, 7, 5, 5, 5, 8, 5, 7, 8, 7, 5, 5, 7, 5, 7, 7, 5, 5, 7, 7, 5, 7,\n",
       "        7, 7, 7, 6, 7, 7, 6, 7, 7, 7, 7, 7, 7, 6, 7, 7, 7, 7, 5, 5, 5, 7,\n",
       "        7, 7, 8, 7, 5, 5, 7, 7, 7, 7, 7, 7, 8, 7, 7, 7, 7, 8, 8, 7, 7, 7,\n",
       "        7, 7, 7, 7, 7, 7, 7, 7, 7, 7, 8, 8, 7, 8, 7, 7, 7, 8, 7, 8, 8, 7],\n",
       "       dtype=int64))"
      ]
     },
     "execution_count": 29,
     "metadata": {},
     "output_type": "execute_result"
    }
   ],
   "source": [
    "from scipy.stats import zscore\n",
    "import numpy as np\n",
    "z=np.abs(zscore(df))\n",
    "threshold=3\n",
    "np.where(z>3)"
   ]
  },
  {
   "cell_type": "code",
   "execution_count": 30,
   "id": "c0c8ea63",
   "metadata": {},
   "outputs": [
    {
     "data": {
      "text/html": [
       "<div>\n",
       "<style scoped>\n",
       "    .dataframe tbody tr th:only-of-type {\n",
       "        vertical-align: middle;\n",
       "    }\n",
       "\n",
       "    .dataframe tbody tr th {\n",
       "        vertical-align: top;\n",
       "    }\n",
       "\n",
       "    .dataframe thead th {\n",
       "        text-align: right;\n",
       "    }\n",
       "</style>\n",
       "<table border=\"1\" class=\"dataframe\">\n",
       "  <thead>\n",
       "    <tr style=\"text-align: right;\">\n",
       "      <th></th>\n",
       "      <th>LOCATION</th>\n",
       "      <th>MNF_YEAR</th>\n",
       "      <th>BRAND</th>\n",
       "      <th>MODEL</th>\n",
       "      <th>VARIANT</th>\n",
       "      <th>DRIVEN_KM</th>\n",
       "      <th>FUELTYPE</th>\n",
       "      <th>NOOF_OWNERS</th>\n",
       "      <th>PRICE</th>\n",
       "    </tr>\n",
       "  </thead>\n",
       "  <tbody>\n",
       "    <tr>\n",
       "      <th>1</th>\n",
       "      <td>7.0</td>\n",
       "      <td>2015</td>\n",
       "      <td>12.0</td>\n",
       "      <td>683.0</td>\n",
       "      <td>0.0</td>\n",
       "      <td>65766</td>\n",
       "      <td>0.0</td>\n",
       "      <td>0.0</td>\n",
       "      <td>516000</td>\n",
       "    </tr>\n",
       "    <tr>\n",
       "      <th>2</th>\n",
       "      <td>7.0</td>\n",
       "      <td>2015</td>\n",
       "      <td>13.0</td>\n",
       "      <td>325.0</td>\n",
       "      <td>1.0</td>\n",
       "      <td>65754</td>\n",
       "      <td>0.0</td>\n",
       "      <td>0.0</td>\n",
       "      <td>599000</td>\n",
       "    </tr>\n",
       "    <tr>\n",
       "      <th>3</th>\n",
       "      <td>7.0</td>\n",
       "      <td>2019</td>\n",
       "      <td>17.0</td>\n",
       "      <td>676.0</td>\n",
       "      <td>1.0</td>\n",
       "      <td>48151</td>\n",
       "      <td>1.0</td>\n",
       "      <td>0.0</td>\n",
       "      <td>499000</td>\n",
       "    </tr>\n",
       "    <tr>\n",
       "      <th>4</th>\n",
       "      <td>7.0</td>\n",
       "      <td>2018</td>\n",
       "      <td>13.0</td>\n",
       "      <td>748.0</td>\n",
       "      <td>1.0</td>\n",
       "      <td>28944</td>\n",
       "      <td>0.0</td>\n",
       "      <td>0.0</td>\n",
       "      <td>815000</td>\n",
       "    </tr>\n",
       "    <tr>\n",
       "      <th>5</th>\n",
       "      <td>7.0</td>\n",
       "      <td>2016</td>\n",
       "      <td>21.0</td>\n",
       "      <td>436.0</td>\n",
       "      <td>1.0</td>\n",
       "      <td>16070</td>\n",
       "      <td>0.0</td>\n",
       "      <td>0.0</td>\n",
       "      <td>1655000</td>\n",
       "    </tr>\n",
       "    <tr>\n",
       "      <th>...</th>\n",
       "      <td>...</td>\n",
       "      <td>...</td>\n",
       "      <td>...</td>\n",
       "      <td>...</td>\n",
       "      <td>...</td>\n",
       "      <td>...</td>\n",
       "      <td>...</td>\n",
       "      <td>...</td>\n",
       "      <td>...</td>\n",
       "    </tr>\n",
       "    <tr>\n",
       "      <th>7853</th>\n",
       "      <td>0.0</td>\n",
       "      <td>2020</td>\n",
       "      <td>8.0</td>\n",
       "      <td>702.0</td>\n",
       "      <td>1.0</td>\n",
       "      <td>9730</td>\n",
       "      <td>1.0</td>\n",
       "      <td>0.0</td>\n",
       "      <td>817299</td>\n",
       "    </tr>\n",
       "    <tr>\n",
       "      <th>7854</th>\n",
       "      <td>0.0</td>\n",
       "      <td>2020</td>\n",
       "      <td>13.0</td>\n",
       "      <td>746.0</td>\n",
       "      <td>1.0</td>\n",
       "      <td>10172</td>\n",
       "      <td>1.0</td>\n",
       "      <td>0.0</td>\n",
       "      <td>843780</td>\n",
       "    </tr>\n",
       "    <tr>\n",
       "      <th>7855</th>\n",
       "      <td>0.0</td>\n",
       "      <td>2018</td>\n",
       "      <td>13.0</td>\n",
       "      <td>283.0</td>\n",
       "      <td>1.0</td>\n",
       "      <td>11995</td>\n",
       "      <td>1.0</td>\n",
       "      <td>0.0</td>\n",
       "      <td>419899</td>\n",
       "    </tr>\n",
       "    <tr>\n",
       "      <th>7856</th>\n",
       "      <td>0.0</td>\n",
       "      <td>2016</td>\n",
       "      <td>13.0</td>\n",
       "      <td>755.0</td>\n",
       "      <td>1.0</td>\n",
       "      <td>50845</td>\n",
       "      <td>0.0</td>\n",
       "      <td>0.0</td>\n",
       "      <td>705799</td>\n",
       "    </tr>\n",
       "    <tr>\n",
       "      <th>7857</th>\n",
       "      <td>0.0</td>\n",
       "      <td>2017</td>\n",
       "      <td>13.0</td>\n",
       "      <td>318.0</td>\n",
       "      <td>1.0</td>\n",
       "      <td>36002</td>\n",
       "      <td>0.0</td>\n",
       "      <td>0.0</td>\n",
       "      <td>737699</td>\n",
       "    </tr>\n",
       "  </tbody>\n",
       "</table>\n",
       "<p>7337 rows × 9 columns</p>\n",
       "</div>"
      ],
      "text/plain": [
       "      LOCATION  MNF_YEAR  BRAND  MODEL  VARIANT  DRIVEN_KM  FUELTYPE  \\\n",
       "1          7.0      2015   12.0  683.0      0.0      65766       0.0   \n",
       "2          7.0      2015   13.0  325.0      1.0      65754       0.0   \n",
       "3          7.0      2019   17.0  676.0      1.0      48151       1.0   \n",
       "4          7.0      2018   13.0  748.0      1.0      28944       0.0   \n",
       "5          7.0      2016   21.0  436.0      1.0      16070       0.0   \n",
       "...        ...       ...    ...    ...      ...        ...       ...   \n",
       "7853       0.0      2020    8.0  702.0      1.0       9730       1.0   \n",
       "7854       0.0      2020   13.0  746.0      1.0      10172       1.0   \n",
       "7855       0.0      2018   13.0  283.0      1.0      11995       1.0   \n",
       "7856       0.0      2016   13.0  755.0      1.0      50845       0.0   \n",
       "7857       0.0      2017   13.0  318.0      1.0      36002       0.0   \n",
       "\n",
       "      NOOF_OWNERS    PRICE  \n",
       "1             0.0   516000  \n",
       "2             0.0   599000  \n",
       "3             0.0   499000  \n",
       "4             0.0   815000  \n",
       "5             0.0  1655000  \n",
       "...           ...      ...  \n",
       "7853          0.0   817299  \n",
       "7854          0.0   843780  \n",
       "7855          0.0   419899  \n",
       "7856          0.0   705799  \n",
       "7857          0.0   737699  \n",
       "\n",
       "[7337 rows x 9 columns]"
      ]
     },
     "execution_count": 30,
     "metadata": {},
     "output_type": "execute_result"
    }
   ],
   "source": [
    "df_new=df[(z<3).all(axis=1)]\n",
    "df_new"
   ]
  },
  {
   "cell_type": "code",
   "execution_count": 31,
   "id": "a4f9e254",
   "metadata": {},
   "outputs": [
    {
     "data": {
      "text/plain": [
       "(7337, 9)"
      ]
     },
     "execution_count": 31,
     "metadata": {},
     "output_type": "execute_result"
    }
   ],
   "source": [
    "df_new.shape"
   ]
  },
  {
   "cell_type": "code",
   "execution_count": 32,
   "id": "22df3b42",
   "metadata": {},
   "outputs": [
    {
     "data": {
      "text/plain": [
       "6.630185797912954"
      ]
     },
     "execution_count": 32,
     "metadata": {},
     "output_type": "execute_result"
    }
   ],
   "source": [
    "data_loss=((7858-7337)/7858)*100\n",
    "data_loss"
   ]
  },
  {
   "cell_type": "code",
   "execution_count": 33,
   "id": "25d8108d",
   "metadata": {},
   "outputs": [
    {
     "data": {
      "text/html": [
       "<div>\n",
       "<style scoped>\n",
       "    .dataframe tbody tr th:only-of-type {\n",
       "        vertical-align: middle;\n",
       "    }\n",
       "\n",
       "    .dataframe tbody tr th {\n",
       "        vertical-align: top;\n",
       "    }\n",
       "\n",
       "    .dataframe thead th {\n",
       "        text-align: right;\n",
       "    }\n",
       "</style>\n",
       "<table border=\"1\" class=\"dataframe\">\n",
       "  <thead>\n",
       "    <tr style=\"text-align: right;\">\n",
       "      <th></th>\n",
       "      <th>LOCATION</th>\n",
       "      <th>MNF_YEAR</th>\n",
       "      <th>BRAND</th>\n",
       "      <th>MODEL</th>\n",
       "      <th>VARIANT</th>\n",
       "      <th>DRIVEN_KM</th>\n",
       "      <th>FUELTYPE</th>\n",
       "      <th>NOOF_OWNERS</th>\n",
       "      <th>PRICE</th>\n",
       "    </tr>\n",
       "  </thead>\n",
       "  <tbody>\n",
       "    <tr>\n",
       "      <th>1</th>\n",
       "      <td>7.0</td>\n",
       "      <td>2015</td>\n",
       "      <td>12.0</td>\n",
       "      <td>683.0</td>\n",
       "      <td>0.0</td>\n",
       "      <td>65766</td>\n",
       "      <td>0.0</td>\n",
       "      <td>0.0</td>\n",
       "      <td>516000</td>\n",
       "    </tr>\n",
       "    <tr>\n",
       "      <th>2</th>\n",
       "      <td>7.0</td>\n",
       "      <td>2015</td>\n",
       "      <td>13.0</td>\n",
       "      <td>325.0</td>\n",
       "      <td>1.0</td>\n",
       "      <td>65754</td>\n",
       "      <td>0.0</td>\n",
       "      <td>0.0</td>\n",
       "      <td>599000</td>\n",
       "    </tr>\n",
       "    <tr>\n",
       "      <th>3</th>\n",
       "      <td>7.0</td>\n",
       "      <td>2019</td>\n",
       "      <td>17.0</td>\n",
       "      <td>676.0</td>\n",
       "      <td>1.0</td>\n",
       "      <td>48151</td>\n",
       "      <td>1.0</td>\n",
       "      <td>0.0</td>\n",
       "      <td>499000</td>\n",
       "    </tr>\n",
       "    <tr>\n",
       "      <th>4</th>\n",
       "      <td>7.0</td>\n",
       "      <td>2018</td>\n",
       "      <td>13.0</td>\n",
       "      <td>748.0</td>\n",
       "      <td>1.0</td>\n",
       "      <td>28944</td>\n",
       "      <td>0.0</td>\n",
       "      <td>0.0</td>\n",
       "      <td>815000</td>\n",
       "    </tr>\n",
       "    <tr>\n",
       "      <th>5</th>\n",
       "      <td>7.0</td>\n",
       "      <td>2016</td>\n",
       "      <td>21.0</td>\n",
       "      <td>436.0</td>\n",
       "      <td>1.0</td>\n",
       "      <td>16070</td>\n",
       "      <td>0.0</td>\n",
       "      <td>0.0</td>\n",
       "      <td>1655000</td>\n",
       "    </tr>\n",
       "    <tr>\n",
       "      <th>...</th>\n",
       "      <td>...</td>\n",
       "      <td>...</td>\n",
       "      <td>...</td>\n",
       "      <td>...</td>\n",
       "      <td>...</td>\n",
       "      <td>...</td>\n",
       "      <td>...</td>\n",
       "      <td>...</td>\n",
       "      <td>...</td>\n",
       "    </tr>\n",
       "    <tr>\n",
       "      <th>7853</th>\n",
       "      <td>0.0</td>\n",
       "      <td>2020</td>\n",
       "      <td>8.0</td>\n",
       "      <td>702.0</td>\n",
       "      <td>1.0</td>\n",
       "      <td>9730</td>\n",
       "      <td>1.0</td>\n",
       "      <td>0.0</td>\n",
       "      <td>817299</td>\n",
       "    </tr>\n",
       "    <tr>\n",
       "      <th>7854</th>\n",
       "      <td>0.0</td>\n",
       "      <td>2020</td>\n",
       "      <td>13.0</td>\n",
       "      <td>746.0</td>\n",
       "      <td>1.0</td>\n",
       "      <td>10172</td>\n",
       "      <td>1.0</td>\n",
       "      <td>0.0</td>\n",
       "      <td>843780</td>\n",
       "    </tr>\n",
       "    <tr>\n",
       "      <th>7855</th>\n",
       "      <td>0.0</td>\n",
       "      <td>2018</td>\n",
       "      <td>13.0</td>\n",
       "      <td>283.0</td>\n",
       "      <td>1.0</td>\n",
       "      <td>11995</td>\n",
       "      <td>1.0</td>\n",
       "      <td>0.0</td>\n",
       "      <td>419899</td>\n",
       "    </tr>\n",
       "    <tr>\n",
       "      <th>7856</th>\n",
       "      <td>0.0</td>\n",
       "      <td>2016</td>\n",
       "      <td>13.0</td>\n",
       "      <td>755.0</td>\n",
       "      <td>1.0</td>\n",
       "      <td>50845</td>\n",
       "      <td>0.0</td>\n",
       "      <td>0.0</td>\n",
       "      <td>705799</td>\n",
       "    </tr>\n",
       "    <tr>\n",
       "      <th>7857</th>\n",
       "      <td>0.0</td>\n",
       "      <td>2017</td>\n",
       "      <td>13.0</td>\n",
       "      <td>318.0</td>\n",
       "      <td>1.0</td>\n",
       "      <td>36002</td>\n",
       "      <td>0.0</td>\n",
       "      <td>0.0</td>\n",
       "      <td>737699</td>\n",
       "    </tr>\n",
       "  </tbody>\n",
       "</table>\n",
       "<p>7337 rows × 9 columns</p>\n",
       "</div>"
      ],
      "text/plain": [
       "      LOCATION  MNF_YEAR  BRAND  MODEL  VARIANT  DRIVEN_KM  FUELTYPE  \\\n",
       "1          7.0      2015   12.0  683.0      0.0      65766       0.0   \n",
       "2          7.0      2015   13.0  325.0      1.0      65754       0.0   \n",
       "3          7.0      2019   17.0  676.0      1.0      48151       1.0   \n",
       "4          7.0      2018   13.0  748.0      1.0      28944       0.0   \n",
       "5          7.0      2016   21.0  436.0      1.0      16070       0.0   \n",
       "...        ...       ...    ...    ...      ...        ...       ...   \n",
       "7853       0.0      2020    8.0  702.0      1.0       9730       1.0   \n",
       "7854       0.0      2020   13.0  746.0      1.0      10172       1.0   \n",
       "7855       0.0      2018   13.0  283.0      1.0      11995       1.0   \n",
       "7856       0.0      2016   13.0  755.0      1.0      50845       0.0   \n",
       "7857       0.0      2017   13.0  318.0      1.0      36002       0.0   \n",
       "\n",
       "      NOOF_OWNERS    PRICE  \n",
       "1             0.0   516000  \n",
       "2             0.0   599000  \n",
       "3             0.0   499000  \n",
       "4             0.0   815000  \n",
       "5             0.0  1655000  \n",
       "...           ...      ...  \n",
       "7853          0.0   817299  \n",
       "7854          0.0   843780  \n",
       "7855          0.0   419899  \n",
       "7856          0.0   705799  \n",
       "7857          0.0   737699  \n",
       "\n",
       "[7337 rows x 9 columns]"
      ]
     },
     "execution_count": 33,
     "metadata": {},
     "output_type": "execute_result"
    }
   ],
   "source": [
    "df_new"
   ]
  },
  {
   "cell_type": "code",
   "execution_count": 34,
   "id": "3aa9e88c",
   "metadata": {},
   "outputs": [],
   "source": [
    "x=df_new.drop(\"PRICE\",axis=1)\n",
    "y=df_new[\"PRICE\"]"
   ]
  },
  {
   "cell_type": "code",
   "execution_count": 35,
   "id": "22336371",
   "metadata": {},
   "outputs": [],
   "source": [
    "from sklearn.preprocessing import StandardScaler\n",
    "sc =StandardScaler()\n",
    "x_scaled=sc.fit_transform(x)\n",
    "x=pd.DataFrame(x_scaled, columns=x.columns)"
   ]
  },
  {
   "cell_type": "code",
   "execution_count": 36,
   "id": "fc97cf74",
   "metadata": {},
   "outputs": [
    {
     "data": {
      "text/html": [
       "<div>\n",
       "<style scoped>\n",
       "    .dataframe tbody tr th:only-of-type {\n",
       "        vertical-align: middle;\n",
       "    }\n",
       "\n",
       "    .dataframe tbody tr th {\n",
       "        vertical-align: top;\n",
       "    }\n",
       "\n",
       "    .dataframe thead th {\n",
       "        text-align: right;\n",
       "    }\n",
       "</style>\n",
       "<table border=\"1\" class=\"dataframe\">\n",
       "  <thead>\n",
       "    <tr style=\"text-align: right;\">\n",
       "      <th></th>\n",
       "      <th>vif</th>\n",
       "      <th>features</th>\n",
       "    </tr>\n",
       "  </thead>\n",
       "  <tbody>\n",
       "    <tr>\n",
       "      <th>0</th>\n",
       "      <td>1.047668</td>\n",
       "      <td>LOCATION</td>\n",
       "    </tr>\n",
       "    <tr>\n",
       "      <th>1</th>\n",
       "      <td>1.515151</td>\n",
       "      <td>MNF_YEAR</td>\n",
       "    </tr>\n",
       "    <tr>\n",
       "      <th>2</th>\n",
       "      <td>1.036348</td>\n",
       "      <td>BRAND</td>\n",
       "    </tr>\n",
       "    <tr>\n",
       "      <th>3</th>\n",
       "      <td>1.051879</td>\n",
       "      <td>MODEL</td>\n",
       "    </tr>\n",
       "    <tr>\n",
       "      <th>4</th>\n",
       "      <td>1.018663</td>\n",
       "      <td>VARIANT</td>\n",
       "    </tr>\n",
       "    <tr>\n",
       "      <th>5</th>\n",
       "      <td>1.576825</td>\n",
       "      <td>DRIVEN_KM</td>\n",
       "    </tr>\n",
       "    <tr>\n",
       "      <th>6</th>\n",
       "      <td>1.250243</td>\n",
       "      <td>FUELTYPE</td>\n",
       "    </tr>\n",
       "    <tr>\n",
       "      <th>7</th>\n",
       "      <td>1.090398</td>\n",
       "      <td>NOOF_OWNERS</td>\n",
       "    </tr>\n",
       "  </tbody>\n",
       "</table>\n",
       "</div>"
      ],
      "text/plain": [
       "        vif     features\n",
       "0  1.047668     LOCATION\n",
       "1  1.515151     MNF_YEAR\n",
       "2  1.036348        BRAND\n",
       "3  1.051879        MODEL\n",
       "4  1.018663      VARIANT\n",
       "5  1.576825    DRIVEN_KM\n",
       "6  1.250243     FUELTYPE\n",
       "7  1.090398  NOOF_OWNERS"
      ]
     },
     "execution_count": 36,
     "metadata": {},
     "output_type": "execute_result"
    }
   ],
   "source": [
    "from statsmodels.stats.outliers_influence import variance_inflation_factor\n",
    "vif=pd.DataFrame()\n",
    "vif[\"vif\"]=[variance_inflation_factor(x_scaled,i)for i in range(x_scaled.shape[1])]\n",
    "vif[\"features\"]=x.columns\n",
    "vif"
   ]
  },
  {
   "cell_type": "code",
   "execution_count": 37,
   "id": "b1eb3120",
   "metadata": {},
   "outputs": [],
   "source": [
    "from sklearn.model_selection import train_test_split\n",
    "x_train,x_test,y_train,y_test=train_test_split(x,y,test_size=0.2)"
   ]
  },
  {
   "cell_type": "code",
   "execution_count": 38,
   "id": "b5b29262",
   "metadata": {},
   "outputs": [
    {
     "name": "stdout",
     "output_type": "stream",
     "text": [
      "r2= 0.4768838840564813\n",
      "cv_score= [0.30946274 0.45031757 0.48344367 0.49642461 0.206869  ]\n"
     ]
    }
   ],
   "source": [
    "from sklearn.linear_model import LinearRegression\n",
    "from sklearn.metrics import mean_squared_error,r2_score\n",
    "from sklearn.model_selection import cross_val_score\n",
    "\n",
    "lr=LinearRegression()\n",
    "model=lr.fit(x_train,y_train)\n",
    "y_pred=model.predict(x_test)\n",
    "\n",
    "r2=r2_score(y_test, y_pred)\n",
    "print(\"r2=\",r2)\n",
    "score=cross_val_score(model,x,y,cv=5,scoring=\"r2\")\n",
    "print(\"cv_score=\",score)"
   ]
  },
  {
   "cell_type": "code",
   "execution_count": 39,
   "id": "54216be8",
   "metadata": {},
   "outputs": [
    {
     "name": "stdout",
     "output_type": "stream",
     "text": [
      "r2= 0.767349787126191\n",
      "cv_score= [0.46420934 0.53839269 0.56133345 0.56230584 0.32981291]\n"
     ]
    }
   ],
   "source": [
    "from sklearn.neighbors import KNeighborsRegressor\n",
    "from sklearn.metrics import mean_squared_error,r2_score\n",
    "from sklearn.model_selection import cross_val_score\n",
    "neigh = KNeighborsRegressor(n_neighbors=5)\n",
    "model = neigh.fit(x_train,y_train)\n",
    "y_pred=model.predict(x_test)\n",
    "\n",
    "r2=r2_score(y_test, y_pred)\n",
    "print(\"r2=\",r2)\n",
    "score=cross_val_score(model,x,y,cv=5,scoring=\"r2\")\n",
    "print(\"cv_score=\",score)"
   ]
  },
  {
   "cell_type": "code",
   "execution_count": 40,
   "id": "0a6e6307",
   "metadata": {},
   "outputs": [
    {
     "name": "stdout",
     "output_type": "stream",
     "text": [
      "r2= 0.360453013772865\n",
      "cv_score= [0.27997136 0.3189727  0.34285545 0.37895027 0.20195778]\n"
     ]
    }
   ],
   "source": [
    "from sklearn.ensemble import RandomForestRegressor\n",
    "from sklearn.metrics import mean_squared_error,r2_score\n",
    "from sklearn.model_selection import cross_val_score\n",
    "rf=RandomForestRegressor(max_depth=2, random_state=0)\n",
    "model=rf.fit(x_train,y_train)\n",
    "y_pred=model.predict(x_test)\n",
    "\n",
    "r2=r2_score(y_test, y_pred)\n",
    "print(\"r2=\",r2)\n",
    "score=cross_val_score(model,x,y,cv=5,scoring=\"r2\")\n",
    "print(\"cv_score=\",score)"
   ]
  },
  {
   "cell_type": "code",
   "execution_count": 41,
   "id": "1b6f2f70",
   "metadata": {},
   "outputs": [
    {
     "name": "stdout",
     "output_type": "stream",
     "text": [
      "r2= 0.8260140508566274\n",
      "cv_score= [0.70405749 0.73958824 0.75611169 0.74454408 0.68740606]\n"
     ]
    }
   ],
   "source": [
    "from sklearn.ensemble import GradientBoostingRegressor\n",
    "from sklearn.metrics import mean_squared_error,r2_score\n",
    "from sklearn.model_selection import cross_val_score\n",
    "gbr = GradientBoostingRegressor(random_state=0)\n",
    "model=gbr.fit(x_train,y_train)\n",
    "y_pred=model.predict(x_test)\n",
    "\n",
    "r2=r2_score(y_test, y_pred)\n",
    "print(\"r2=\",r2)\n",
    "score=cross_val_score(model,x,y,cv=5,scoring=\"r2\")\n",
    "print(\"cv_score=\",score)"
   ]
  },
  {
   "cell_type": "code",
   "execution_count": 42,
   "id": "1438724a",
   "metadata": {},
   "outputs": [
    {
     "name": "stdout",
     "output_type": "stream",
     "text": [
      "r2= 0.5175052476761461\n",
      "cv_score= [ 0.01728547  0.42659479  0.60749781  0.5753246  -0.3438619 ]\n"
     ]
    }
   ],
   "source": [
    "from sklearn.ensemble import AdaBoostRegressor\n",
    "from sklearn.metrics import mean_squared_error,r2_score\n",
    "from sklearn.model_selection import cross_val_score\n",
    "abr = AdaBoostRegressor(random_state=0)\n",
    "model=abr.fit(x_train,y_train)\n",
    "y_pred=model.predict(x_test)\n",
    "\n",
    "r2=r2_score(y_test, y_pred)\n",
    "print(\"r2=\",r2)\n",
    "score=cross_val_score(model,x,y,cv=5,scoring=\"r2\")\n",
    "print(\"cv_score=\",score)"
   ]
  },
  {
   "cell_type": "code",
   "execution_count": null,
   "id": "2891ad1e",
   "metadata": {},
   "outputs": [],
   "source": []
  },
  {
   "cell_type": "code",
   "execution_count": 43,
   "id": "835b7e26",
   "metadata": {},
   "outputs": [
    {
     "name": "stdout",
     "output_type": "stream",
     "text": [
      "Cross validation score of linear Regression model : 0.38930351896396226\n",
      "Cross validation score of Random Forest model : 0.3045415098916227\n",
      "Cross validation score of knn model : 0.4912108444685133\n",
      "Cross validation score of gbr model : 0.7263415125245165\n",
      "Cross validation score of abr model : 0.25656815355506735\n"
     ]
    }
   ],
   "source": [
    "from sklearn.model_selection import cross_val_score\n",
    "scr=cross_val_score(lr, x, y, cv=5)\n",
    "print(\"Cross validation score of linear Regression model :\",scr.mean())\n",
    "\n",
    "scr=cross_val_score(rf, x, y, cv=5)\n",
    "print(\"Cross validation score of Random Forest model :\",scr.mean())\n",
    "\n",
    "scr=cross_val_score(neigh, x, y, cv=5)\n",
    "print (\"Cross validation score of knn model :\",scr.mean())\n",
    "      \n",
    "scr=cross_val_score(gbr, x, y, cv=5)\n",
    "print (\"Cross validation score of gbr model :\",scr.mean())\n",
    "\n",
    "scr=cross_val_score(abr, x, y, cv=5)\n",
    "print (\"Cross validation score of abr model :\",scr.mean())\n",
    "\n"
   ]
  },
  {
   "cell_type": "code",
   "execution_count": 48,
   "id": "5f207d56",
   "metadata": {},
   "outputs": [
    {
     "data": {
      "text/plain": [
       "GridSearchCV(cv=5,\n",
       "             estimator=GradientBoostingRegressor(max_depth=8,\n",
       "                                                 max_features='sqrt',\n",
       "                                                 min_samples_leaf=50,\n",
       "                                                 min_samples_split=500,\n",
       "                                                 random_state=10,\n",
       "                                                 subsample=0.8),\n",
       "             param_grid={'n_estimators': range(10, 200, 10)}, scoring='r2')"
      ]
     },
     "execution_count": 48,
     "metadata": {},
     "output_type": "execute_result"
    }
   ],
   "source": [
    "from sklearn.model_selection import GridSearchCV\n",
    "param_test1 = {'n_estimators':range(10,200,10)}\n",
    "gsearch1 = GridSearchCV(estimator = GradientBoostingRegressor(learning_rate=0.1, min_samples_split=500,min_samples_leaf=50,max_depth=8,max_features='sqrt',subsample=0.8,random_state=10), \n",
    "param_grid = param_test1, scoring='r2', cv=5)\n",
    "gsearch1.fit(x_train,y_train)"
   ]
  },
  {
   "cell_type": "code",
   "execution_count": 49,
   "id": "a9d4f12f",
   "metadata": {},
   "outputs": [
    {
     "data": {
      "text/plain": [
       "(GradientBoostingRegressor(max_depth=8, max_features='sqrt', min_samples_leaf=50,\n",
       "                           min_samples_split=500, n_estimators=190,\n",
       "                           random_state=10, subsample=0.8),\n",
       " {'n_estimators': 190},\n",
       " 0.8339231733477732)"
      ]
     },
     "execution_count": 49,
     "metadata": {},
     "output_type": "execute_result"
    }
   ],
   "source": [
    "gsearch1.best_estimator_,gsearch1.best_params_, gsearch1.best_score_"
   ]
  },
  {
   "cell_type": "code",
   "execution_count": 50,
   "id": "e3f78c82",
   "metadata": {},
   "outputs": [
    {
     "data": {
      "text/plain": [
       "0.8765227805562372"
      ]
     },
     "execution_count": 50,
     "metadata": {},
     "output_type": "execute_result"
    }
   ],
   "source": [
    " gsearch1.score(x_test,y_test)"
   ]
  },
  {
   "cell_type": "code",
   "execution_count": null,
   "id": "89195190",
   "metadata": {},
   "outputs": [],
   "source": [
    "import joblib\n",
    "joblib.dump(gsearch1,\"CARPRICE_PREDICTION.obj\")"
   ]
  }
 ],
 "metadata": {
  "kernelspec": {
   "display_name": "Python 3",
   "language": "python",
   "name": "python3"
  },
  "language_info": {
   "codemirror_mode": {
    "name": "ipython",
    "version": 3
   },
   "file_extension": ".py",
   "mimetype": "text/x-python",
   "name": "python",
   "nbconvert_exporter": "python",
   "pygments_lexer": "ipython3",
   "version": "3.8.8"
  }
 },
 "nbformat": 4,
 "nbformat_minor": 5
}
