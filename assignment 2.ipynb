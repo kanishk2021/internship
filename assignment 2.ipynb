{
 "cells": [
  {
   "cell_type": "code",
   "execution_count": 1,
   "id": "b9ab7ad7",
   "metadata": {},
   "outputs": [
    {
     "name": "stdout",
     "output_type": "stream",
     "text": [
      "Requirement already satisfied: selenium in c:\\programdata\\anaconda3\\lib\\site-packages (4.1.0)\n",
      "Requirement already satisfied: urllib3[secure]~=1.26 in c:\\programdata\\anaconda3\\lib\\site-packages (from selenium) (1.26.4)\n",
      "Requirement already satisfied: trio~=0.17 in c:\\programdata\\anaconda3\\lib\\site-packages (from selenium) (0.19.0)\n",
      "Requirement already satisfied: trio-websocket~=0.9 in c:\\programdata\\anaconda3\\lib\\site-packages (from selenium) (0.9.2)\n",
      "Requirement already satisfied: attrs>=19.2.0 in c:\\programdata\\anaconda3\\lib\\site-packages (from trio~=0.17->selenium) (20.3.0)\n",
      "Requirement already satisfied: sortedcontainers in c:\\programdata\\anaconda3\\lib\\site-packages (from trio~=0.17->selenium) (2.3.0)\n",
      "Requirement already satisfied: sniffio in c:\\programdata\\anaconda3\\lib\\site-packages (from trio~=0.17->selenium) (1.2.0)\n",
      "Requirement already satisfied: cffi>=1.14 in c:\\programdata\\anaconda3\\lib\\site-packages (from trio~=0.17->selenium) (1.14.5)\n",
      "Requirement already satisfied: outcome in c:\\programdata\\anaconda3\\lib\\site-packages (from trio~=0.17->selenium) (1.1.0)\n",
      "Requirement already satisfied: async-generator>=1.9 in c:\\programdata\\anaconda3\\lib\\site-packages (from trio~=0.17->selenium) (1.10)\n",
      "Requirement already satisfied: idna in c:\\programdata\\anaconda3\\lib\\site-packages (from trio~=0.17->selenium) (2.10)\n",
      "Requirement already satisfied: pycparser in c:\\programdata\\anaconda3\\lib\\site-packages (from cffi>=1.14->trio~=0.17->selenium) (2.20)\n",
      "Requirement already satisfied: wsproto>=0.14 in c:\\programdata\\anaconda3\\lib\\site-packages (from trio-websocket~=0.9->selenium) (1.0.0)\n",
      "Requirement already satisfied: pyOpenSSL>=0.14 in c:\\programdata\\anaconda3\\lib\\site-packages (from urllib3[secure]~=1.26->selenium) (20.0.1)\n",
      "Requirement already satisfied: cryptography>=1.3.4 in c:\\programdata\\anaconda3\\lib\\site-packages (from urllib3[secure]~=1.26->selenium) (3.4.7)\n",
      "Requirement already satisfied: certifi in c:\\programdata\\anaconda3\\lib\\site-packages (from urllib3[secure]~=1.26->selenium) (2020.12.5)\n",
      "Requirement already satisfied: six>=1.5.2 in c:\\programdata\\anaconda3\\lib\\site-packages (from pyOpenSSL>=0.14->urllib3[secure]~=1.26->selenium) (1.15.0)\n",
      "Requirement already satisfied: h11<1,>=0.9.0 in c:\\programdata\\anaconda3\\lib\\site-packages (from wsproto>=0.14->trio-websocket~=0.9->selenium) (0.13.0)\n"
     ]
    }
   ],
   "source": [
    "Q1: Write a python program to scrape data for “Data Analyst” Job position in “Bangalore” location. You\n",
    "have to scrape the job-title, job-location, company_name, experience_required. You have to scrape first 10\n",
    "jobs data."
   ]
  },
  {
   "cell_type": "code",
   "execution_count": 2,
   "id": "fc962214",
   "metadata": {},
   "outputs": [
    {
     "name": "stdout",
     "output_type": "stream",
     "text": [
      "Requirement already satisfied: selenium in c:\\programdata\\anaconda3\\lib\\site-packages (4.1.0)\n",
      "Requirement already satisfied: trio-websocket~=0.9 in c:\\programdata\\anaconda3\\lib\\site-packages (from selenium) (0.9.2)\n",
      "Requirement already satisfied: urllib3[secure]~=1.26 in c:\\programdata\\anaconda3\\lib\\site-packages (from selenium) (1.26.4)\n",
      "Requirement already satisfied: trio~=0.17 in c:\\programdata\\anaconda3\\lib\\site-packages (from selenium) (0.19.0)\n",
      "Requirement already satisfied: async-generator>=1.9 in c:\\programdata\\anaconda3\\lib\\site-packages (from trio~=0.17->selenium) (1.10)\n",
      "Requirement already satisfied: outcome in c:\\programdata\\anaconda3\\lib\\site-packages (from trio~=0.17->selenium) (1.1.0)\n",
      "Requirement already satisfied: idna in c:\\programdata\\anaconda3\\lib\\site-packages (from trio~=0.17->selenium) (2.10)\n",
      "Requirement already satisfied: sortedcontainers in c:\\programdata\\anaconda3\\lib\\site-packages (from trio~=0.17->selenium) (2.3.0)\n",
      "Requirement already satisfied: cffi>=1.14 in c:\\programdata\\anaconda3\\lib\\site-packages (from trio~=0.17->selenium) (1.14.5)\n",
      "Requirement already satisfied: sniffio in c:\\programdata\\anaconda3\\lib\\site-packages (from trio~=0.17->selenium) (1.2.0)\n",
      "Requirement already satisfied: attrs>=19.2.0 in c:\\programdata\\anaconda3\\lib\\site-packages (from trio~=0.17->selenium) (20.3.0)\n",
      "Requirement already satisfied: pycparser in c:\\programdata\\anaconda3\\lib\\site-packages (from cffi>=1.14->trio~=0.17->selenium) (2.20)\n",
      "Requirement already satisfied: wsproto>=0.14 in c:\\programdata\\anaconda3\\lib\\site-packages (from trio-websocket~=0.9->selenium) (1.0.0)\n",
      "Requirement already satisfied: cryptography>=1.3.4 in c:\\programdata\\anaconda3\\lib\\site-packages (from urllib3[secure]~=1.26->selenium) (3.4.7)\n",
      "Requirement already satisfied: certifi in c:\\programdata\\anaconda3\\lib\\site-packages (from urllib3[secure]~=1.26->selenium) (2020.12.5)\n",
      "Requirement already satisfied: pyOpenSSL>=0.14 in c:\\programdata\\anaconda3\\lib\\site-packages (from urllib3[secure]~=1.26->selenium) (20.0.1)\n",
      "Requirement already satisfied: six>=1.5.2 in c:\\programdata\\anaconda3\\lib\\site-packages (from pyOpenSSL>=0.14->urllib3[secure]~=1.26->selenium) (1.15.0)\n",
      "Requirement already satisfied: h11<1,>=0.9.0 in c:\\programdata\\anaconda3\\lib\\site-packages (from wsproto>=0.14->trio-websocket~=0.9->selenium) (0.13.0)\n"
     ]
    }
   ],
   "source": [
    "!pip install selenium"
   ]
  },
  {
   "cell_type": "code",
   "execution_count": 29,
   "id": "fa27715e",
   "metadata": {},
   "outputs": [],
   "source": [
    "import selenium\n",
    "from selenium import webdriver\n",
    "import pandas as pd\n",
    "import warnings\n",
    "warnings.filterwarnings(\"ignore\")"
   ]
  },
  {
   "cell_type": "code",
   "execution_count": 30,
   "id": "a450abab",
   "metadata": {},
   "outputs": [],
   "source": [
    "driver=webdriver.Chrome(r'C:\\Users\\91708\\Downloads\\chromedriver_win32 (2)\\chromedriver.exe')"
   ]
  },
  {
   "cell_type": "code",
   "execution_count": 31,
   "id": "eb74d2ba",
   "metadata": {},
   "outputs": [],
   "source": [
    "url=\"https://www.naukri.com/\"\n",
    "driver.get(url)"
   ]
  },
  {
   "cell_type": "code",
   "execution_count": 32,
   "id": "8cb2dccf",
   "metadata": {},
   "outputs": [
    {
     "data": {
      "text/plain": [
       "<selenium.webdriver.remote.webelement.WebElement (session=\"4d7655700632064ee25507690d81a03a\", element=\"4a917cef-1bd9-45fe-becd-c376ec15476f\")>"
      ]
     },
     "execution_count": 32,
     "metadata": {},
     "output_type": "execute_result"
    }
   ],
   "source": [
    "search_job=driver.find_element_by_class_name(\"suggestor-input \")\n",
    "search_job"
   ]
  },
  {
   "cell_type": "code",
   "execution_count": 34,
   "id": "ea344ad2",
   "metadata": {},
   "outputs": [],
   "source": [
    "search_job.send_keys(\"Data Analyst\")"
   ]
  },
  {
   "cell_type": "code",
   "execution_count": 35,
   "id": "7abf0b62",
   "metadata": {},
   "outputs": [
    {
     "data": {
      "text/plain": [
       "<selenium.webdriver.remote.webelement.WebElement (session=\"4d7655700632064ee25507690d81a03a\", element=\"2bc4df67-8a4d-4002-b115-a67fa3f482e3\")>"
      ]
     },
     "execution_count": 35,
     "metadata": {},
     "output_type": "execute_result"
    }
   ],
   "source": [
    "search_locn=driver.find_element_by_xpath(\"/html/body/div/div[2]/div[3]/div/div/div[3]/div/div/div/input\")\n",
    "search_locn"
   ]
  },
  {
   "cell_type": "code",
   "execution_count": 36,
   "id": "4fe5145f",
   "metadata": {},
   "outputs": [],
   "source": [
    "search_locn.send_keys(\"Bangalore\")"
   ]
  },
  {
   "cell_type": "code",
   "execution_count": 37,
   "id": "d1a9549f",
   "metadata": {},
   "outputs": [
    {
     "data": {
      "text/plain": [
       "<selenium.webdriver.remote.webelement.WebElement (session=\"4d7655700632064ee25507690d81a03a\", element=\"06e14e1b-60df-4bd5-9bb1-d96144d3cb8d\")>"
      ]
     },
     "execution_count": 37,
     "metadata": {},
     "output_type": "execute_result"
    }
   ],
   "source": [
    "search_btn=driver.find_element_by_class_name(\"qsbSubmit\")\n",
    "search_btn"
   ]
  },
  {
   "cell_type": "code",
   "execution_count": 38,
   "id": "7e326217",
   "metadata": {},
   "outputs": [],
   "source": [
    "search_btn.click()"
   ]
  },
  {
   "cell_type": "code",
   "execution_count": 40,
   "id": "45226fde",
   "metadata": {},
   "outputs": [
    {
     "data": {
      "text/plain": [
       "20"
      ]
     },
     "execution_count": 40,
     "metadata": {},
     "output_type": "execute_result"
    }
   ],
   "source": [
    "title_tags=driver.find_elements_by_xpath('//a[@class=\"title fw500 ellipsis\"]')\n",
    "len(title_tags)"
   ]
  },
  {
   "cell_type": "code",
   "execution_count": 42,
   "id": "b648a277",
   "metadata": {},
   "outputs": [
    {
     "data": {
      "text/plain": [
       "[<selenium.webdriver.remote.webelement.WebElement (session=\"4d7655700632064ee25507690d81a03a\", element=\"d212ad60-ded0-44be-8e0b-6d37e1d3fd4a\")>,\n",
       " <selenium.webdriver.remote.webelement.WebElement (session=\"4d7655700632064ee25507690d81a03a\", element=\"71431f74-29d6-428d-83ca-f3caa5e33e82\")>,\n",
       " <selenium.webdriver.remote.webelement.WebElement (session=\"4d7655700632064ee25507690d81a03a\", element=\"97865f21-d63d-433b-b9ab-f46c9e5affcb\")>,\n",
       " <selenium.webdriver.remote.webelement.WebElement (session=\"4d7655700632064ee25507690d81a03a\", element=\"8af81ea4-911f-4463-b87d-4abb3568e2fa\")>,\n",
       " <selenium.webdriver.remote.webelement.WebElement (session=\"4d7655700632064ee25507690d81a03a\", element=\"53f0ff8f-5132-4452-badb-5d51a2b12e24\")>,\n",
       " <selenium.webdriver.remote.webelement.WebElement (session=\"4d7655700632064ee25507690d81a03a\", element=\"e4c20109-238c-4f2f-b73c-b6d4d0417204\")>,\n",
       " <selenium.webdriver.remote.webelement.WebElement (session=\"4d7655700632064ee25507690d81a03a\", element=\"71651532-3f50-47a0-ab88-db745322d795\")>,\n",
       " <selenium.webdriver.remote.webelement.WebElement (session=\"4d7655700632064ee25507690d81a03a\", element=\"9c80fcff-51d1-4444-b8bf-6cbcdf20de75\")>,\n",
       " <selenium.webdriver.remote.webelement.WebElement (session=\"4d7655700632064ee25507690d81a03a\", element=\"d4a7f7e8-4bd5-4810-8355-700facf4de15\")>,\n",
       " <selenium.webdriver.remote.webelement.WebElement (session=\"4d7655700632064ee25507690d81a03a\", element=\"64dd5277-996b-4d92-9b93-dd6afbdc7dd8\")>,\n",
       " <selenium.webdriver.remote.webelement.WebElement (session=\"4d7655700632064ee25507690d81a03a\", element=\"e1242d83-622d-4a42-9add-56dbda1a9272\")>,\n",
       " <selenium.webdriver.remote.webelement.WebElement (session=\"4d7655700632064ee25507690d81a03a\", element=\"b5a8705c-2699-4610-b67a-64c8349d9ba0\")>,\n",
       " <selenium.webdriver.remote.webelement.WebElement (session=\"4d7655700632064ee25507690d81a03a\", element=\"1230790e-8471-40b0-aeb5-ead4d0c5bd03\")>,\n",
       " <selenium.webdriver.remote.webelement.WebElement (session=\"4d7655700632064ee25507690d81a03a\", element=\"231497f1-f326-4794-99a5-bb25662c1977\")>,\n",
       " <selenium.webdriver.remote.webelement.WebElement (session=\"4d7655700632064ee25507690d81a03a\", element=\"3c762fdd-0c8d-455a-afb3-0937fdfa8129\")>,\n",
       " <selenium.webdriver.remote.webelement.WebElement (session=\"4d7655700632064ee25507690d81a03a\", element=\"3eba9ad8-be5e-45e6-acba-c6eb76e79a9e\")>,\n",
       " <selenium.webdriver.remote.webelement.WebElement (session=\"4d7655700632064ee25507690d81a03a\", element=\"ef1f4878-9a56-47b9-8bf9-fb14ec31d270\")>,\n",
       " <selenium.webdriver.remote.webelement.WebElement (session=\"4d7655700632064ee25507690d81a03a\", element=\"943a7853-543c-43f4-bb45-208760bf0e2d\")>,\n",
       " <selenium.webdriver.remote.webelement.WebElement (session=\"4d7655700632064ee25507690d81a03a\", element=\"711644e8-fb86-408b-8f97-b8b6cfd836b3\")>,\n",
       " <selenium.webdriver.remote.webelement.WebElement (session=\"4d7655700632064ee25507690d81a03a\", element=\"3eece0c3-f873-49b7-96b7-e75176828ff4\")>]"
      ]
     },
     "execution_count": 42,
     "metadata": {},
     "output_type": "execute_result"
    }
   ],
   "source": [
    "title_tags"
   ]
  },
  {
   "cell_type": "code",
   "execution_count": 43,
   "id": "1a5f80d7",
   "metadata": {},
   "outputs": [],
   "source": [
    "job_titles=[]\n",
    "for i in title_tags:\n",
    "    job_titles.append(i.text)"
   ]
  },
  {
   "cell_type": "code",
   "execution_count": 44,
   "id": "e3bce495",
   "metadata": {},
   "outputs": [
    {
     "data": {
      "text/plain": [
       "['Senior Data Analyst',\n",
       " 'Senior Data Analyst - Data Modeling/Database Design',\n",
       " 'QA Data Analyst',\n",
       " 'Data analyst',\n",
       " 'Data Analyst',\n",
       " 'Financial Data Analyst',\n",
       " 'OYO Rooms - Data Analyst / Business Analyst',\n",
       " 'Senior Data Analyst',\n",
       " 'Data Analyst - Python/SQL',\n",
       " 'Data Analyst - IT',\n",
       " 'Business Analyst/Data Analyst',\n",
       " 'Senior Data Analyst - KPO',\n",
       " 'Consultant - Data Analyst',\n",
       " 'Data Analyst',\n",
       " 'Data Analyst',\n",
       " 'Data analyst',\n",
       " 'Data Analyst',\n",
       " 'Pipeline/Piping Data Analyst Trainee',\n",
       " 'Data Analyst',\n",
       " 'Senior Data Analyst']"
      ]
     },
     "execution_count": 44,
     "metadata": {},
     "output_type": "execute_result"
    }
   ],
   "source": [
    "job_titles"
   ]
  },
  {
   "cell_type": "code",
   "execution_count": 55,
   "id": "0f6526f8",
   "metadata": {},
   "outputs": [
    {
     "data": {
      "text/plain": [
       "20"
      ]
     },
     "execution_count": 55,
     "metadata": {},
     "output_type": "execute_result"
    }
   ],
   "source": [
    "company_tags=driver.find_elements_by_xpath('//a[@class=\"subTitle ellipsis fleft\"]')\n",
    "len(company_tags)"
   ]
  },
  {
   "cell_type": "code",
   "execution_count": 56,
   "id": "21a6d05f",
   "metadata": {},
   "outputs": [],
   "source": [
    "company_name=[]\n",
    "for i in company_tags:\n",
    "    company_name.append(i.text)"
   ]
  },
  {
   "cell_type": "code",
   "execution_count": 58,
   "id": "e886b08c",
   "metadata": {},
   "outputs": [
    {
     "data": {
      "text/plain": [
       "['Flipkart',\n",
       " 'K & R Enterprises',\n",
       " 'Ralph Lauren',\n",
       " 'GSK India',\n",
       " 'GSK India',\n",
       " \"Moody's\",\n",
       " 'OyoRooms',\n",
       " 'Cerner',\n",
       " 'Affine',\n",
       " 'Yespired',\n",
       " 'Telamon HR Solutions',\n",
       " 'Huquo Consulting Pvt. Ltd',\n",
       " 'Flipkart',\n",
       " 'FCS Software Solutions',\n",
       " 'FCS Software Solutions',\n",
       " 'GSK India',\n",
       " 'Aldius Consulting Services Pvt Ltd (Paramantra)',\n",
       " 'TIMS SOLUTIONS PRIVATE LIMITED',\n",
       " 'Insure Pro 2.0',\n",
       " 'Liventus']"
      ]
     },
     "execution_count": 58,
     "metadata": {},
     "output_type": "execute_result"
    }
   ],
   "source": [
    "company_name"
   ]
  },
  {
   "cell_type": "code",
   "execution_count": 61,
   "id": "8478a055",
   "metadata": {},
   "outputs": [
    {
     "data": {
      "text/plain": [
       "20"
      ]
     },
     "execution_count": 61,
     "metadata": {},
     "output_type": "execute_result"
    }
   ],
   "source": [
    "exp_tags=driver.find_elements_by_xpath('//span[contains(@title,\"Yrs \")]')\n",
    "len(exp_tags)"
   ]
  },
  {
   "cell_type": "code",
   "execution_count": 64,
   "id": "3fd50510",
   "metadata": {},
   "outputs": [],
   "source": [
    "experience=[]\n",
    "for i in exp_tags:\n",
    "    experience.append(i.text)"
   ]
  },
  {
   "cell_type": "code",
   "execution_count": 65,
   "id": "3ae7da29",
   "metadata": {},
   "outputs": [
    {
     "data": {
      "text/plain": [
       "['4-6 Yrs',\n",
       " '4-6 Yrs',\n",
       " '0-3 Yrs',\n",
       " '5-9 Yrs',\n",
       " '7-10 Yrs',\n",
       " '0-2 Yrs',\n",
       " '2-6 Yrs',\n",
       " '2-5 Yrs',\n",
       " '3-5 Yrs',\n",
       " '3-8 Yrs',\n",
       " '3-5 Yrs',\n",
       " '7-12 Yrs',\n",
       " '1-3 Yrs',\n",
       " '3-8 Yrs',\n",
       " '3-8 Yrs',\n",
       " '5-9 Yrs',\n",
       " '0-2 Yrs',\n",
       " '0-4 Yrs',\n",
       " '0-2 Yrs',\n",
       " '5-8 Yrs']"
      ]
     },
     "execution_count": 65,
     "metadata": {},
     "output_type": "execute_result"
    }
   ],
   "source": [
    "experience"
   ]
  },
  {
   "cell_type": "code",
   "execution_count": 66,
   "id": "3c77a26a",
   "metadata": {},
   "outputs": [
    {
     "data": {
      "text/plain": [
       "20"
      ]
     },
     "execution_count": 66,
     "metadata": {},
     "output_type": "execute_result"
    }
   ],
   "source": [
    "locn=driver.find_elements_by_xpath('//li[@class=\"fleft grey-text br2 placeHolderLi location\"]')\n",
    "len(locn)"
   ]
  },
  {
   "cell_type": "code",
   "execution_count": 67,
   "id": "0aaf58c3",
   "metadata": {},
   "outputs": [],
   "source": [
    "location=[]\n",
    "for i in locn:\n",
    "    location.append(i.text)"
   ]
  },
  {
   "cell_type": "code",
   "execution_count": 68,
   "id": "1bd78887",
   "metadata": {},
   "outputs": [
    {
     "data": {
      "text/plain": [
       "['Bangalore/Bengaluru',\n",
       " 'Bangalore/Bengaluru',\n",
       " 'Bangalore/Bengaluru',\n",
       " 'Bangalore/Bengaluru',\n",
       " 'Bangalore/Bengaluru',\n",
       " 'Bangalore/Bengaluru',\n",
       " 'Bangalore/Bengaluru, Delhi / NCR, Mumbai (All Areas)',\n",
       " 'Bangalore/Bengaluru',\n",
       " 'Bangalore/Bengaluru',\n",
       " 'Bangalore/Bengaluru',\n",
       " 'Hyderabad/Secunderabad, Bangalore/Bengaluru, Delhi / NCR',\n",
       " 'Gurgaon/Gurugram, Bangalore/Bengaluru',\n",
       " 'Bangalore/Bengaluru',\n",
       " 'Bangalore/Bengaluru\\n(WFH during Covid)',\n",
       " 'Bangalore/Bengaluru\\n(WFH during Covid)',\n",
       " 'Bangalore/Bengaluru',\n",
       " 'Bangalore/Bengaluru',\n",
       " 'Bangalore/Bengaluru',\n",
       " 'Bangalore/Bengaluru(HSR Layout +7)',\n",
       " 'Remote']"
      ]
     },
     "execution_count": 68,
     "metadata": {},
     "output_type": "execute_result"
    }
   ],
   "source": [
    "location"
   ]
  },
  {
   "cell_type": "code",
   "execution_count": 73,
   "id": "2df9e0f0",
   "metadata": {},
   "outputs": [],
   "source": [
    "import pandas as pd\n",
    "df=pd.DataFrame({\"JOB_TITLE\":job_titles,\"COMPANY_NAME\":company_name,\"EXPERIENCE\":experience,\"LOCATION\":location})"
   ]
  },
  {
   "cell_type": "code",
   "execution_count": 74,
   "id": "6fdf5b77",
   "metadata": {},
   "outputs": [
    {
     "data": {
      "text/html": [
       "<div>\n",
       "<style scoped>\n",
       "    .dataframe tbody tr th:only-of-type {\n",
       "        vertical-align: middle;\n",
       "    }\n",
       "\n",
       "    .dataframe tbody tr th {\n",
       "        vertical-align: top;\n",
       "    }\n",
       "\n",
       "    .dataframe thead th {\n",
       "        text-align: right;\n",
       "    }\n",
       "</style>\n",
       "<table border=\"1\" class=\"dataframe\">\n",
       "  <thead>\n",
       "    <tr style=\"text-align: right;\">\n",
       "      <th></th>\n",
       "      <th>JOB_TITLE</th>\n",
       "      <th>COMPANY_NAME</th>\n",
       "      <th>EXPERIENCE</th>\n",
       "      <th>LOCATION</th>\n",
       "    </tr>\n",
       "  </thead>\n",
       "  <tbody>\n",
       "    <tr>\n",
       "      <th>0</th>\n",
       "      <td>Senior Data Analyst</td>\n",
       "      <td>Flipkart</td>\n",
       "      <td>4-6 Yrs</td>\n",
       "      <td>Bangalore/Bengaluru</td>\n",
       "    </tr>\n",
       "    <tr>\n",
       "      <th>1</th>\n",
       "      <td>Senior Data Analyst - Data Modeling/Database D...</td>\n",
       "      <td>K &amp; R Enterprises</td>\n",
       "      <td>4-6 Yrs</td>\n",
       "      <td>Bangalore/Bengaluru</td>\n",
       "    </tr>\n",
       "    <tr>\n",
       "      <th>2</th>\n",
       "      <td>QA Data Analyst</td>\n",
       "      <td>Ralph Lauren</td>\n",
       "      <td>0-3 Yrs</td>\n",
       "      <td>Bangalore/Bengaluru</td>\n",
       "    </tr>\n",
       "    <tr>\n",
       "      <th>3</th>\n",
       "      <td>Data analyst</td>\n",
       "      <td>GSK India</td>\n",
       "      <td>5-9 Yrs</td>\n",
       "      <td>Bangalore/Bengaluru</td>\n",
       "    </tr>\n",
       "    <tr>\n",
       "      <th>4</th>\n",
       "      <td>Data Analyst</td>\n",
       "      <td>GSK India</td>\n",
       "      <td>7-10 Yrs</td>\n",
       "      <td>Bangalore/Bengaluru</td>\n",
       "    </tr>\n",
       "    <tr>\n",
       "      <th>5</th>\n",
       "      <td>Financial Data Analyst</td>\n",
       "      <td>Moody's</td>\n",
       "      <td>0-2 Yrs</td>\n",
       "      <td>Bangalore/Bengaluru</td>\n",
       "    </tr>\n",
       "    <tr>\n",
       "      <th>6</th>\n",
       "      <td>OYO Rooms - Data Analyst / Business Analyst</td>\n",
       "      <td>OyoRooms</td>\n",
       "      <td>2-6 Yrs</td>\n",
       "      <td>Bangalore/Bengaluru, Delhi / NCR, Mumbai (All ...</td>\n",
       "    </tr>\n",
       "    <tr>\n",
       "      <th>7</th>\n",
       "      <td>Senior Data Analyst</td>\n",
       "      <td>Cerner</td>\n",
       "      <td>2-5 Yrs</td>\n",
       "      <td>Bangalore/Bengaluru</td>\n",
       "    </tr>\n",
       "    <tr>\n",
       "      <th>8</th>\n",
       "      <td>Data Analyst - Python/SQL</td>\n",
       "      <td>Affine</td>\n",
       "      <td>3-5 Yrs</td>\n",
       "      <td>Bangalore/Bengaluru</td>\n",
       "    </tr>\n",
       "    <tr>\n",
       "      <th>9</th>\n",
       "      <td>Data Analyst - IT</td>\n",
       "      <td>Yespired</td>\n",
       "      <td>3-8 Yrs</td>\n",
       "      <td>Bangalore/Bengaluru</td>\n",
       "    </tr>\n",
       "    <tr>\n",
       "      <th>10</th>\n",
       "      <td>Business Analyst/Data Analyst</td>\n",
       "      <td>Telamon HR Solutions</td>\n",
       "      <td>3-5 Yrs</td>\n",
       "      <td>Hyderabad/Secunderabad, Bangalore/Bengaluru, D...</td>\n",
       "    </tr>\n",
       "    <tr>\n",
       "      <th>11</th>\n",
       "      <td>Senior Data Analyst - KPO</td>\n",
       "      <td>Huquo Consulting Pvt. Ltd</td>\n",
       "      <td>7-12 Yrs</td>\n",
       "      <td>Gurgaon/Gurugram, Bangalore/Bengaluru</td>\n",
       "    </tr>\n",
       "    <tr>\n",
       "      <th>12</th>\n",
       "      <td>Consultant - Data Analyst</td>\n",
       "      <td>Flipkart</td>\n",
       "      <td>1-3 Yrs</td>\n",
       "      <td>Bangalore/Bengaluru</td>\n",
       "    </tr>\n",
       "    <tr>\n",
       "      <th>13</th>\n",
       "      <td>Data Analyst</td>\n",
       "      <td>FCS Software Solutions</td>\n",
       "      <td>3-8 Yrs</td>\n",
       "      <td>Bangalore/Bengaluru\\n(WFH during Covid)</td>\n",
       "    </tr>\n",
       "    <tr>\n",
       "      <th>14</th>\n",
       "      <td>Data Analyst</td>\n",
       "      <td>FCS Software Solutions</td>\n",
       "      <td>3-8 Yrs</td>\n",
       "      <td>Bangalore/Bengaluru\\n(WFH during Covid)</td>\n",
       "    </tr>\n",
       "    <tr>\n",
       "      <th>15</th>\n",
       "      <td>Data analyst</td>\n",
       "      <td>GSK India</td>\n",
       "      <td>5-9 Yrs</td>\n",
       "      <td>Bangalore/Bengaluru</td>\n",
       "    </tr>\n",
       "    <tr>\n",
       "      <th>16</th>\n",
       "      <td>Data Analyst</td>\n",
       "      <td>Aldius Consulting Services Pvt Ltd (Paramantra)</td>\n",
       "      <td>0-2 Yrs</td>\n",
       "      <td>Bangalore/Bengaluru</td>\n",
       "    </tr>\n",
       "    <tr>\n",
       "      <th>17</th>\n",
       "      <td>Pipeline/Piping Data Analyst Trainee</td>\n",
       "      <td>TIMS SOLUTIONS PRIVATE LIMITED</td>\n",
       "      <td>0-4 Yrs</td>\n",
       "      <td>Bangalore/Bengaluru</td>\n",
       "    </tr>\n",
       "    <tr>\n",
       "      <th>18</th>\n",
       "      <td>Data Analyst</td>\n",
       "      <td>Insure Pro 2.0</td>\n",
       "      <td>0-2 Yrs</td>\n",
       "      <td>Bangalore/Bengaluru(HSR Layout +7)</td>\n",
       "    </tr>\n",
       "    <tr>\n",
       "      <th>19</th>\n",
       "      <td>Senior Data Analyst</td>\n",
       "      <td>Liventus</td>\n",
       "      <td>5-8 Yrs</td>\n",
       "      <td>Remote</td>\n",
       "    </tr>\n",
       "  </tbody>\n",
       "</table>\n",
       "</div>"
      ],
      "text/plain": [
       "                                            JOB_TITLE  \\\n",
       "0                                 Senior Data Analyst   \n",
       "1   Senior Data Analyst - Data Modeling/Database D...   \n",
       "2                                     QA Data Analyst   \n",
       "3                                        Data analyst   \n",
       "4                                        Data Analyst   \n",
       "5                              Financial Data Analyst   \n",
       "6         OYO Rooms - Data Analyst / Business Analyst   \n",
       "7                                 Senior Data Analyst   \n",
       "8                           Data Analyst - Python/SQL   \n",
       "9                                   Data Analyst - IT   \n",
       "10                      Business Analyst/Data Analyst   \n",
       "11                          Senior Data Analyst - KPO   \n",
       "12                          Consultant - Data Analyst   \n",
       "13                                       Data Analyst   \n",
       "14                                       Data Analyst   \n",
       "15                                       Data analyst   \n",
       "16                                       Data Analyst   \n",
       "17               Pipeline/Piping Data Analyst Trainee   \n",
       "18                                       Data Analyst   \n",
       "19                                Senior Data Analyst   \n",
       "\n",
       "                                       COMPANY_NAME EXPERIENCE  \\\n",
       "0                                          Flipkart    4-6 Yrs   \n",
       "1                                 K & R Enterprises    4-6 Yrs   \n",
       "2                                      Ralph Lauren    0-3 Yrs   \n",
       "3                                         GSK India    5-9 Yrs   \n",
       "4                                         GSK India   7-10 Yrs   \n",
       "5                                           Moody's    0-2 Yrs   \n",
       "6                                          OyoRooms    2-6 Yrs   \n",
       "7                                            Cerner    2-5 Yrs   \n",
       "8                                            Affine    3-5 Yrs   \n",
       "9                                          Yespired    3-8 Yrs   \n",
       "10                             Telamon HR Solutions    3-5 Yrs   \n",
       "11                        Huquo Consulting Pvt. Ltd   7-12 Yrs   \n",
       "12                                         Flipkart    1-3 Yrs   \n",
       "13                           FCS Software Solutions    3-8 Yrs   \n",
       "14                           FCS Software Solutions    3-8 Yrs   \n",
       "15                                        GSK India    5-9 Yrs   \n",
       "16  Aldius Consulting Services Pvt Ltd (Paramantra)    0-2 Yrs   \n",
       "17                   TIMS SOLUTIONS PRIVATE LIMITED    0-4 Yrs   \n",
       "18                                   Insure Pro 2.0    0-2 Yrs   \n",
       "19                                         Liventus    5-8 Yrs   \n",
       "\n",
       "                                             LOCATION  \n",
       "0                                 Bangalore/Bengaluru  \n",
       "1                                 Bangalore/Bengaluru  \n",
       "2                                 Bangalore/Bengaluru  \n",
       "3                                 Bangalore/Bengaluru  \n",
       "4                                 Bangalore/Bengaluru  \n",
       "5                                 Bangalore/Bengaluru  \n",
       "6   Bangalore/Bengaluru, Delhi / NCR, Mumbai (All ...  \n",
       "7                                 Bangalore/Bengaluru  \n",
       "8                                 Bangalore/Bengaluru  \n",
       "9                                 Bangalore/Bengaluru  \n",
       "10  Hyderabad/Secunderabad, Bangalore/Bengaluru, D...  \n",
       "11              Gurgaon/Gurugram, Bangalore/Bengaluru  \n",
       "12                                Bangalore/Bengaluru  \n",
       "13            Bangalore/Bengaluru\\n(WFH during Covid)  \n",
       "14            Bangalore/Bengaluru\\n(WFH during Covid)  \n",
       "15                                Bangalore/Bengaluru  \n",
       "16                                Bangalore/Bengaluru  \n",
       "17                                Bangalore/Bengaluru  \n",
       "18                 Bangalore/Bengaluru(HSR Layout +7)  \n",
       "19                                             Remote  "
      ]
     },
     "execution_count": 74,
     "metadata": {},
     "output_type": "execute_result"
    }
   ],
   "source": [
    "df"
   ]
  },
  {
   "cell_type": "code",
   "execution_count": null,
   "id": "f205bf73",
   "metadata": {},
   "outputs": [],
   "source": [
    "Q2: Write a python program to scrape data for “Data Scientist” Job position in “Bangalore” location. You\n",
    "have to scrape the job-title, job-location, company_name"
   ]
  },
  {
   "cell_type": "code",
   "execution_count": 3,
   "id": "d97d13df",
   "metadata": {},
   "outputs": [
    {
     "name": "stdout",
     "output_type": "stream",
     "text": [
      "Requirement already satisfied: selenium in c:\\programdata\\anaconda3\\lib\\site-packages (4.1.0)\n",
      "Requirement already satisfied: urllib3[secure]~=1.26 in c:\\programdata\\anaconda3\\lib\\site-packages (from selenium) (1.26.4)\n",
      "Requirement already satisfied: trio~=0.17 in c:\\programdata\\anaconda3\\lib\\site-packages (from selenium) (0.19.0)\n",
      "Requirement already satisfied: trio-websocket~=0.9 in c:\\programdata\\anaconda3\\lib\\site-packages (from selenium) (0.9.2)\n",
      "Requirement already satisfied: idna in c:\\programdata\\anaconda3\\lib\\site-packages (from trio~=0.17->selenium) (2.10)\n",
      "Requirement already satisfied: attrs>=19.2.0 in c:\\programdata\\anaconda3\\lib\\site-packages (from trio~=0.17->selenium) (20.3.0)\n",
      "Requirement already satisfied: sniffio in c:\\programdata\\anaconda3\\lib\\site-packages (from trio~=0.17->selenium) (1.2.0)\n",
      "Requirement already satisfied: outcome in c:\\programdata\\anaconda3\\lib\\site-packages (from trio~=0.17->selenium) (1.1.0)\n",
      "Requirement already satisfied: async-generator>=1.9 in c:\\programdata\\anaconda3\\lib\\site-packages (from trio~=0.17->selenium) (1.10)\n",
      "Requirement already satisfied: sortedcontainers in c:\\programdata\\anaconda3\\lib\\site-packages (from trio~=0.17->selenium) (2.3.0)\n",
      "Requirement already satisfied: cffi>=1.14 in c:\\programdata\\anaconda3\\lib\\site-packages (from trio~=0.17->selenium) (1.14.5)\n",
      "Requirement already satisfied: pycparser in c:\\programdata\\anaconda3\\lib\\site-packages (from cffi>=1.14->trio~=0.17->selenium) (2.20)\n",
      "Requirement already satisfied: wsproto>=0.14 in c:\\programdata\\anaconda3\\lib\\site-packages (from trio-websocket~=0.9->selenium) (1.0.0)\n",
      "Requirement already satisfied: certifi in c:\\programdata\\anaconda3\\lib\\site-packages (from urllib3[secure]~=1.26->selenium) (2020.12.5)\n",
      "Requirement already satisfied: pyOpenSSL>=0.14 in c:\\programdata\\anaconda3\\lib\\site-packages (from urllib3[secure]~=1.26->selenium) (20.0.1)\n",
      "Requirement already satisfied: cryptography>=1.3.4 in c:\\programdata\\anaconda3\\lib\\site-packages (from urllib3[secure]~=1.26->selenium) (3.4.7)\n",
      "Requirement already satisfied: six>=1.5.2 in c:\\programdata\\anaconda3\\lib\\site-packages (from pyOpenSSL>=0.14->urllib3[secure]~=1.26->selenium) (1.15.0)\n",
      "Requirement already satisfied: h11<1,>=0.9.0 in c:\\programdata\\anaconda3\\lib\\site-packages (from wsproto>=0.14->trio-websocket~=0.9->selenium) (0.13.0)\n"
     ]
    }
   ],
   "source": [
    "!pip install selenium"
   ]
  },
  {
   "cell_type": "code",
   "execution_count": 4,
   "id": "74bbdf1c",
   "metadata": {},
   "outputs": [],
   "source": [
    "import selenium\n",
    "from selenium import webdriver\n",
    "import pandas as pd\n",
    "import warnings\n",
    "warnings.filterwarnings(\"ignore\")"
   ]
  },
  {
   "cell_type": "code",
   "execution_count": 5,
   "id": "4db0e10a",
   "metadata": {},
   "outputs": [],
   "source": [
    "driver=webdriver.Chrome(r'C:\\Users\\91708\\Downloads\\chromedriver_win32 (2)\\chromedriver.exe')"
   ]
  },
  {
   "cell_type": "code",
   "execution_count": 6,
   "id": "056d00f6",
   "metadata": {},
   "outputs": [],
   "source": [
    "url=\"https://www.naukri.com/\"\n",
    "driver.get(url)"
   ]
  },
  {
   "cell_type": "code",
   "execution_count": 7,
   "id": "fccc3746",
   "metadata": {},
   "outputs": [
    {
     "data": {
      "text/plain": [
       "<selenium.webdriver.remote.webelement.WebElement (session=\"7044d366f9997b7312cc25b9bdec4104\", element=\"212f9812-b3be-481a-8793-f6ccaab8f907\")>"
      ]
     },
     "execution_count": 7,
     "metadata": {},
     "output_type": "execute_result"
    }
   ],
   "source": [
    "search_job=driver.find_element_by_class_name(\"suggestor-input \")\n",
    "search_job"
   ]
  },
  {
   "cell_type": "code",
   "execution_count": 8,
   "id": "27066b80",
   "metadata": {},
   "outputs": [],
   "source": [
    "search_job.send_keys(\"Data Scientist\")"
   ]
  },
  {
   "cell_type": "code",
   "execution_count": 9,
   "id": "0d16bbb6",
   "metadata": {},
   "outputs": [
    {
     "data": {
      "text/plain": [
       "<selenium.webdriver.remote.webelement.WebElement (session=\"7044d366f9997b7312cc25b9bdec4104\", element=\"1f6295e3-4ce5-46cc-8a30-fbbd5ad44d4c\")>"
      ]
     },
     "execution_count": 9,
     "metadata": {},
     "output_type": "execute_result"
    }
   ],
   "source": [
    "search_locn=driver.find_element_by_xpath(\"/html/body/div/div[2]/div[3]/div/div/div[3]/div/div/div/input\")\n",
    "search_locn"
   ]
  },
  {
   "cell_type": "code",
   "execution_count": 10,
   "id": "1b1c8c30",
   "metadata": {},
   "outputs": [],
   "source": [
    "search_locn.send_keys(\"Bangalore\")"
   ]
  },
  {
   "cell_type": "code",
   "execution_count": 11,
   "id": "a7c8aceb",
   "metadata": {},
   "outputs": [
    {
     "data": {
      "text/plain": [
       "<selenium.webdriver.remote.webelement.WebElement (session=\"7044d366f9997b7312cc25b9bdec4104\", element=\"120eede7-6e51-4875-a44a-6c56292c3ad5\")>"
      ]
     },
     "execution_count": 11,
     "metadata": {},
     "output_type": "execute_result"
    }
   ],
   "source": [
    "search_btn=driver.find_element_by_class_name(\"qsbSubmit\")\n",
    "search_btn"
   ]
  },
  {
   "cell_type": "code",
   "execution_count": 12,
   "id": "acd1c4b6",
   "metadata": {},
   "outputs": [],
   "source": [
    "search_btn.click()"
   ]
  },
  {
   "cell_type": "code",
   "execution_count": 13,
   "id": "87860653",
   "metadata": {},
   "outputs": [
    {
     "data": {
      "text/plain": [
       "20"
      ]
     },
     "execution_count": 13,
     "metadata": {},
     "output_type": "execute_result"
    }
   ],
   "source": [
    "title_tags=driver.find_elements_by_xpath('//a[@class=\"title fw500 ellipsis\"]')\n",
    "len(title_tags)"
   ]
  },
  {
   "cell_type": "code",
   "execution_count": 14,
   "id": "17228ee4",
   "metadata": {},
   "outputs": [],
   "source": [
    "job_titles=[]\n",
    "for i in title_tags:\n",
    "    job_titles.append(i.text)"
   ]
  },
  {
   "cell_type": "code",
   "execution_count": 16,
   "id": "dbe3709f",
   "metadata": {},
   "outputs": [
    {
     "data": {
      "text/plain": [
       "['Global Tax Automation & Operations - Data Scientist Senior Analyst',\n",
       " 'Analyst / Data Scientist',\n",
       " 'Data Scientist: Advanced Analytics',\n",
       " 'Data Scientist: Advanced Analytics',\n",
       " 'Senior Data Scientist',\n",
       " 'Senior Data Scientist',\n",
       " 'Senior Data Scientist (Fintech)',\n",
       " 'Senior Data Scientist',\n",
       " 'Data Scientist - Lead / Architect - Looking For Early Joiners - Wipro',\n",
       " 'Data Scientist - Lead / Architect - Looking For Early Joiners - Wipro',\n",
       " 'Data Scientist - Lead / Architect - Looking For Early Joiners - Wipro',\n",
       " 'Data Scientist / Analyst',\n",
       " 'Lead Data Scientist - Machine Learning/ Data Mining',\n",
       " 'Data Scientist',\n",
       " 'Principal Data Scientist',\n",
       " 'Opportunity For Data Scientist Internship - Bengaluru',\n",
       " 'Louis Dreyfus Company Looking For Data Scientist',\n",
       " 'Wanted Data Scientists / Senior Data Scientists For our MNC client.',\n",
       " 'Data Scientist: Artificial Intelligence',\n",
       " 'Data Scientist: Artificial Intelligence']"
      ]
     },
     "execution_count": 16,
     "metadata": {},
     "output_type": "execute_result"
    }
   ],
   "source": [
    "job_titles"
   ]
  },
  {
   "cell_type": "code",
   "execution_count": 17,
   "id": "9e63e4da",
   "metadata": {},
   "outputs": [
    {
     "data": {
      "text/plain": [
       "20"
      ]
     },
     "execution_count": 17,
     "metadata": {},
     "output_type": "execute_result"
    }
   ],
   "source": [
    "company_tags=driver.find_elements_by_xpath('//a[@class=\"subTitle ellipsis fleft\"]')\n",
    "len(company_tags)"
   ]
  },
  {
   "cell_type": "code",
   "execution_count": 18,
   "id": "3a171278",
   "metadata": {},
   "outputs": [],
   "source": [
    "company_name=[]\n",
    "for i in company_tags:\n",
    "    company_name.append(i.text)"
   ]
  },
  {
   "cell_type": "code",
   "execution_count": 19,
   "id": "cc1cb854",
   "metadata": {},
   "outputs": [
    {
     "data": {
      "text/plain": [
       "['Dell',\n",
       " 'MilliporeSigma',\n",
       " 'IBM',\n",
       " 'IBM',\n",
       " 'Siemens',\n",
       " 'Sabre',\n",
       " 'NIRA',\n",
       " 'Shell',\n",
       " 'Wipro',\n",
       " 'Wipro',\n",
       " 'Wipro',\n",
       " 'Talentify',\n",
       " 'Wrackle Technologies Pvt Ltd',\n",
       " 'NAVIKENZ INDIA PRIVATE LIMITED',\n",
       " 'Walmart',\n",
       " 'Corner Stone Solutions',\n",
       " 'Louis Dreyfus Commodities',\n",
       " 'Andre Consultancy Services Private Limited',\n",
       " 'IBM',\n",
       " 'IBM']"
      ]
     },
     "execution_count": 19,
     "metadata": {},
     "output_type": "execute_result"
    }
   ],
   "source": [
    "company_name"
   ]
  },
  {
   "cell_type": "code",
   "execution_count": 20,
   "id": "603a08ec",
   "metadata": {},
   "outputs": [
    {
     "data": {
      "text/plain": [
       "20"
      ]
     },
     "execution_count": 20,
     "metadata": {},
     "output_type": "execute_result"
    }
   ],
   "source": [
    "locn=driver.find_elements_by_xpath('//li[@class=\"fleft grey-text br2 placeHolderLi location\"]')\n",
    "len(locn)"
   ]
  },
  {
   "cell_type": "code",
   "execution_count": 23,
   "id": "d0948b28",
   "metadata": {},
   "outputs": [],
   "source": [
    "location=[]\n",
    "for i in locn:\n",
    "    location.append(i.text)"
   ]
  },
  {
   "cell_type": "code",
   "execution_count": 24,
   "id": "9d951927",
   "metadata": {},
   "outputs": [
    {
     "data": {
      "text/plain": [
       "['Bangalore/Bengaluru',\n",
       " 'Bangalore/Bengaluru',\n",
       " 'Bangalore/Bengaluru',\n",
       " 'Bangalore/Bengaluru',\n",
       " 'Bangalore/Bengaluru',\n",
       " 'Bangalore/Bengaluru',\n",
       " 'Bangalore/Bengaluru',\n",
       " 'Chennai, Bangalore/Bengaluru',\n",
       " 'Kochi/Cochin, Kolkata, Pune, Gurgaon/Gurugram, Chennai, Coimbatore, Bangalore/Bengaluru, Mumbai (All Areas), Hyderabad',\n",
       " 'Hyderabad/Secunderabad, Pune, Chennai, Bangalore/Bengaluru',\n",
       " 'Kochi/Cochin, Kolkata, Pune, Gurgaon/Gurugram, Chennai, Coimbatore, Bangalore/Bengaluru, Mumbai (All Areas), Hyderabad',\n",
       " 'Hyderabad/Secunderabad, Bangalore/Bengaluru, Delhi / NCR',\n",
       " 'Bangalore/Bengaluru',\n",
       " 'Hyderabad/Secunderabad, Bangalore/Bengaluru, Delhi / NCR\\n(WFH during Covid)',\n",
       " 'Bangalore/Bengaluru',\n",
       " 'Indore, Bangalore/Bengaluru\\n(WFH during Covid)',\n",
       " 'Bangalore/Bengaluru',\n",
       " 'Noida, Chennai, Bangalore/Bengaluru',\n",
       " 'Bangalore/Bengaluru',\n",
       " 'Bangalore/Bengaluru']"
      ]
     },
     "execution_count": 24,
     "metadata": {},
     "output_type": "execute_result"
    }
   ],
   "source": [
    "location"
   ]
  },
  {
   "cell_type": "code",
   "execution_count": 25,
   "id": "90056277",
   "metadata": {},
   "outputs": [],
   "source": [
    "df=pd.DataFrame({\"JOB_TITLE\":job_titles,\"COMPANY_NAME\":company_name,\"LOCATION\":location})"
   ]
  },
  {
   "cell_type": "code",
   "execution_count": 26,
   "id": "20eff068",
   "metadata": {},
   "outputs": [
    {
     "data": {
      "text/html": [
       "<div>\n",
       "<style scoped>\n",
       "    .dataframe tbody tr th:only-of-type {\n",
       "        vertical-align: middle;\n",
       "    }\n",
       "\n",
       "    .dataframe tbody tr th {\n",
       "        vertical-align: top;\n",
       "    }\n",
       "\n",
       "    .dataframe thead th {\n",
       "        text-align: right;\n",
       "    }\n",
       "</style>\n",
       "<table border=\"1\" class=\"dataframe\">\n",
       "  <thead>\n",
       "    <tr style=\"text-align: right;\">\n",
       "      <th></th>\n",
       "      <th>JOB_TITLE</th>\n",
       "      <th>COMPANY_NAME</th>\n",
       "      <th>LOCATION</th>\n",
       "    </tr>\n",
       "  </thead>\n",
       "  <tbody>\n",
       "    <tr>\n",
       "      <th>0</th>\n",
       "      <td>Global Tax Automation &amp; Operations - Data Scie...</td>\n",
       "      <td>Dell</td>\n",
       "      <td>Bangalore/Bengaluru</td>\n",
       "    </tr>\n",
       "    <tr>\n",
       "      <th>1</th>\n",
       "      <td>Analyst / Data Scientist</td>\n",
       "      <td>MilliporeSigma</td>\n",
       "      <td>Bangalore/Bengaluru</td>\n",
       "    </tr>\n",
       "    <tr>\n",
       "      <th>2</th>\n",
       "      <td>Data Scientist: Advanced Analytics</td>\n",
       "      <td>IBM</td>\n",
       "      <td>Bangalore/Bengaluru</td>\n",
       "    </tr>\n",
       "    <tr>\n",
       "      <th>3</th>\n",
       "      <td>Data Scientist: Advanced Analytics</td>\n",
       "      <td>IBM</td>\n",
       "      <td>Bangalore/Bengaluru</td>\n",
       "    </tr>\n",
       "    <tr>\n",
       "      <th>4</th>\n",
       "      <td>Senior Data Scientist</td>\n",
       "      <td>Siemens</td>\n",
       "      <td>Bangalore/Bengaluru</td>\n",
       "    </tr>\n",
       "    <tr>\n",
       "      <th>5</th>\n",
       "      <td>Senior Data Scientist</td>\n",
       "      <td>Sabre</td>\n",
       "      <td>Bangalore/Bengaluru</td>\n",
       "    </tr>\n",
       "    <tr>\n",
       "      <th>6</th>\n",
       "      <td>Senior Data Scientist (Fintech)</td>\n",
       "      <td>NIRA</td>\n",
       "      <td>Bangalore/Bengaluru</td>\n",
       "    </tr>\n",
       "    <tr>\n",
       "      <th>7</th>\n",
       "      <td>Senior Data Scientist</td>\n",
       "      <td>Shell</td>\n",
       "      <td>Chennai, Bangalore/Bengaluru</td>\n",
       "    </tr>\n",
       "    <tr>\n",
       "      <th>8</th>\n",
       "      <td>Data Scientist - Lead / Architect - Looking Fo...</td>\n",
       "      <td>Wipro</td>\n",
       "      <td>Kochi/Cochin, Kolkata, Pune, Gurgaon/Gurugram,...</td>\n",
       "    </tr>\n",
       "    <tr>\n",
       "      <th>9</th>\n",
       "      <td>Data Scientist - Lead / Architect - Looking Fo...</td>\n",
       "      <td>Wipro</td>\n",
       "      <td>Hyderabad/Secunderabad, Pune, Chennai, Bangalo...</td>\n",
       "    </tr>\n",
       "    <tr>\n",
       "      <th>10</th>\n",
       "      <td>Data Scientist - Lead / Architect - Looking Fo...</td>\n",
       "      <td>Wipro</td>\n",
       "      <td>Kochi/Cochin, Kolkata, Pune, Gurgaon/Gurugram,...</td>\n",
       "    </tr>\n",
       "    <tr>\n",
       "      <th>11</th>\n",
       "      <td>Data Scientist / Analyst</td>\n",
       "      <td>Talentify</td>\n",
       "      <td>Hyderabad/Secunderabad, Bangalore/Bengaluru, D...</td>\n",
       "    </tr>\n",
       "    <tr>\n",
       "      <th>12</th>\n",
       "      <td>Lead Data Scientist - Machine Learning/ Data M...</td>\n",
       "      <td>Wrackle Technologies Pvt Ltd</td>\n",
       "      <td>Bangalore/Bengaluru</td>\n",
       "    </tr>\n",
       "    <tr>\n",
       "      <th>13</th>\n",
       "      <td>Data Scientist</td>\n",
       "      <td>NAVIKENZ INDIA PRIVATE LIMITED</td>\n",
       "      <td>Hyderabad/Secunderabad, Bangalore/Bengaluru, D...</td>\n",
       "    </tr>\n",
       "    <tr>\n",
       "      <th>14</th>\n",
       "      <td>Principal Data Scientist</td>\n",
       "      <td>Walmart</td>\n",
       "      <td>Bangalore/Bengaluru</td>\n",
       "    </tr>\n",
       "    <tr>\n",
       "      <th>15</th>\n",
       "      <td>Opportunity For Data Scientist Internship - Be...</td>\n",
       "      <td>Corner Stone Solutions</td>\n",
       "      <td>Indore, Bangalore/Bengaluru\\n(WFH during Covid)</td>\n",
       "    </tr>\n",
       "    <tr>\n",
       "      <th>16</th>\n",
       "      <td>Louis Dreyfus Company Looking For Data Scientist</td>\n",
       "      <td>Louis Dreyfus Commodities</td>\n",
       "      <td>Bangalore/Bengaluru</td>\n",
       "    </tr>\n",
       "    <tr>\n",
       "      <th>17</th>\n",
       "      <td>Wanted Data Scientists / Senior Data Scientist...</td>\n",
       "      <td>Andre Consultancy Services Private Limited</td>\n",
       "      <td>Noida, Chennai, Bangalore/Bengaluru</td>\n",
       "    </tr>\n",
       "    <tr>\n",
       "      <th>18</th>\n",
       "      <td>Data Scientist: Artificial Intelligence</td>\n",
       "      <td>IBM</td>\n",
       "      <td>Bangalore/Bengaluru</td>\n",
       "    </tr>\n",
       "    <tr>\n",
       "      <th>19</th>\n",
       "      <td>Data Scientist: Artificial Intelligence</td>\n",
       "      <td>IBM</td>\n",
       "      <td>Bangalore/Bengaluru</td>\n",
       "    </tr>\n",
       "  </tbody>\n",
       "</table>\n",
       "</div>"
      ],
      "text/plain": [
       "                                            JOB_TITLE  \\\n",
       "0   Global Tax Automation & Operations - Data Scie...   \n",
       "1                            Analyst / Data Scientist   \n",
       "2                  Data Scientist: Advanced Analytics   \n",
       "3                  Data Scientist: Advanced Analytics   \n",
       "4                               Senior Data Scientist   \n",
       "5                               Senior Data Scientist   \n",
       "6                     Senior Data Scientist (Fintech)   \n",
       "7                               Senior Data Scientist   \n",
       "8   Data Scientist - Lead / Architect - Looking Fo...   \n",
       "9   Data Scientist - Lead / Architect - Looking Fo...   \n",
       "10  Data Scientist - Lead / Architect - Looking Fo...   \n",
       "11                           Data Scientist / Analyst   \n",
       "12  Lead Data Scientist - Machine Learning/ Data M...   \n",
       "13                                     Data Scientist   \n",
       "14                           Principal Data Scientist   \n",
       "15  Opportunity For Data Scientist Internship - Be...   \n",
       "16   Louis Dreyfus Company Looking For Data Scientist   \n",
       "17  Wanted Data Scientists / Senior Data Scientist...   \n",
       "18            Data Scientist: Artificial Intelligence   \n",
       "19            Data Scientist: Artificial Intelligence   \n",
       "\n",
       "                                  COMPANY_NAME  \\\n",
       "0                                         Dell   \n",
       "1                               MilliporeSigma   \n",
       "2                                          IBM   \n",
       "3                                          IBM   \n",
       "4                                      Siemens   \n",
       "5                                        Sabre   \n",
       "6                                         NIRA   \n",
       "7                                        Shell   \n",
       "8                                        Wipro   \n",
       "9                                        Wipro   \n",
       "10                                       Wipro   \n",
       "11                                   Talentify   \n",
       "12                Wrackle Technologies Pvt Ltd   \n",
       "13              NAVIKENZ INDIA PRIVATE LIMITED   \n",
       "14                                     Walmart   \n",
       "15                      Corner Stone Solutions   \n",
       "16                   Louis Dreyfus Commodities   \n",
       "17  Andre Consultancy Services Private Limited   \n",
       "18                                         IBM   \n",
       "19                                         IBM   \n",
       "\n",
       "                                             LOCATION  \n",
       "0                                 Bangalore/Bengaluru  \n",
       "1                                 Bangalore/Bengaluru  \n",
       "2                                 Bangalore/Bengaluru  \n",
       "3                                 Bangalore/Bengaluru  \n",
       "4                                 Bangalore/Bengaluru  \n",
       "5                                 Bangalore/Bengaluru  \n",
       "6                                 Bangalore/Bengaluru  \n",
       "7                        Chennai, Bangalore/Bengaluru  \n",
       "8   Kochi/Cochin, Kolkata, Pune, Gurgaon/Gurugram,...  \n",
       "9   Hyderabad/Secunderabad, Pune, Chennai, Bangalo...  \n",
       "10  Kochi/Cochin, Kolkata, Pune, Gurgaon/Gurugram,...  \n",
       "11  Hyderabad/Secunderabad, Bangalore/Bengaluru, D...  \n",
       "12                                Bangalore/Bengaluru  \n",
       "13  Hyderabad/Secunderabad, Bangalore/Bengaluru, D...  \n",
       "14                                Bangalore/Bengaluru  \n",
       "15    Indore, Bangalore/Bengaluru\\n(WFH during Covid)  \n",
       "16                                Bangalore/Bengaluru  \n",
       "17                Noida, Chennai, Bangalore/Bengaluru  \n",
       "18                                Bangalore/Bengaluru  \n",
       "19                                Bangalore/Bengaluru  "
      ]
     },
     "execution_count": 26,
     "metadata": {},
     "output_type": "execute_result"
    }
   ],
   "source": [
    "df"
   ]
  },
  {
   "cell_type": "code",
   "execution_count": null,
   "id": "44f4f9e6",
   "metadata": {},
   "outputs": [],
   "source": [
    "Q4: Scrape data of first 100 sunglasses listings on flipkart.com. You have to scrape four attributes:\n",
    "1. Brand\n",
    "2. Product Description\n",
    "3. Price\n"
   ]
  },
  {
   "cell_type": "code",
   "execution_count": 27,
   "id": "32164cb6",
   "metadata": {},
   "outputs": [
    {
     "name": "stdout",
     "output_type": "stream",
     "text": [
      "Requirement already satisfied: selenium in c:\\programdata\\anaconda3\\lib\\site-packages (4.1.0)\n",
      "Requirement already satisfied: trio~=0.17 in c:\\programdata\\anaconda3\\lib\\site-packages (from selenium) (0.19.0)\n",
      "Requirement already satisfied: trio-websocket~=0.9 in c:\\programdata\\anaconda3\\lib\\site-packages (from selenium) (0.9.2)\n",
      "Requirement already satisfied: urllib3[secure]~=1.26 in c:\\programdata\\anaconda3\\lib\\site-packages (from selenium) (1.26.4)\n",
      "Requirement already satisfied: async-generator>=1.9 in c:\\programdata\\anaconda3\\lib\\site-packages (from trio~=0.17->selenium) (1.10)\n",
      "Requirement already satisfied: cffi>=1.14 in c:\\programdata\\anaconda3\\lib\\site-packages (from trio~=0.17->selenium) (1.14.5)\n",
      "Requirement already satisfied: sniffio in c:\\programdata\\anaconda3\\lib\\site-packages (from trio~=0.17->selenium) (1.2.0)\n",
      "Requirement already satisfied: idna in c:\\programdata\\anaconda3\\lib\\site-packages (from trio~=0.17->selenium) (2.10)\n",
      "Requirement already satisfied: outcome in c:\\programdata\\anaconda3\\lib\\site-packages (from trio~=0.17->selenium) (1.1.0)\n",
      "Requirement already satisfied: attrs>=19.2.0 in c:\\programdata\\anaconda3\\lib\\site-packages (from trio~=0.17->selenium) (20.3.0)\n",
      "Requirement already satisfied: sortedcontainers in c:\\programdata\\anaconda3\\lib\\site-packages (from trio~=0.17->selenium) (2.3.0)\n",
      "Requirement already satisfied: pycparser in c:\\programdata\\anaconda3\\lib\\site-packages (from cffi>=1.14->trio~=0.17->selenium) (2.20)\n",
      "Requirement already satisfied: wsproto>=0.14 in c:\\programdata\\anaconda3\\lib\\site-packages (from trio-websocket~=0.9->selenium) (1.0.0)\n",
      "Requirement already satisfied: pyOpenSSL>=0.14 in c:\\programdata\\anaconda3\\lib\\site-packages (from urllib3[secure]~=1.26->selenium) (20.0.1)\n",
      "Requirement already satisfied: certifi in c:\\programdata\\anaconda3\\lib\\site-packages (from urllib3[secure]~=1.26->selenium) (2020.12.5)\n",
      "Requirement already satisfied: cryptography>=1.3.4 in c:\\programdata\\anaconda3\\lib\\site-packages (from urllib3[secure]~=1.26->selenium) (3.4.7)\n",
      "Requirement already satisfied: six>=1.5.2 in c:\\programdata\\anaconda3\\lib\\site-packages (from pyOpenSSL>=0.14->urllib3[secure]~=1.26->selenium) (1.15.0)\n",
      "Requirement already satisfied: h11<1,>=0.9.0 in c:\\programdata\\anaconda3\\lib\\site-packages (from wsproto>=0.14->trio-websocket~=0.9->selenium) (0.13.0)\n"
     ]
    }
   ],
   "source": [
    "!pip install selenium"
   ]
  },
  {
   "cell_type": "code",
   "execution_count": 28,
   "id": "c430e674",
   "metadata": {},
   "outputs": [],
   "source": [
    "import selenium\n",
    "from selenium import webdriver\n",
    "import pandas as pd\n",
    "import warnings\n",
    "warnings.filterwarnings(\"ignore\")"
   ]
  },
  {
   "cell_type": "code",
   "execution_count": 29,
   "id": "7bcd4165",
   "metadata": {},
   "outputs": [],
   "source": [
    "driver=webdriver.Chrome(r'C:\\Users\\91708\\Downloads\\chromedriver_win32 (2)\\chromedriver.exe')"
   ]
  },
  {
   "cell_type": "code",
   "execution_count": 30,
   "id": "dbd191b1",
   "metadata": {},
   "outputs": [],
   "source": [
    "url=\"http://www.flipkart.com/\"\n",
    "driver.get(url)"
   ]
  },
  {
   "cell_type": "code",
   "execution_count": 31,
   "id": "cb8cfc79",
   "metadata": {},
   "outputs": [],
   "source": [
    "search=driver.find_element_by_class_name(\"_3704LK\")"
   ]
  },
  {
   "cell_type": "code",
   "execution_count": 32,
   "id": "79e42c01",
   "metadata": {},
   "outputs": [],
   "source": [
    "search.send_keys(\"sunglasses\")"
   ]
  },
  {
   "cell_type": "code",
   "execution_count": 36,
   "id": "30882bbd",
   "metadata": {},
   "outputs": [
    {
     "data": {
      "text/plain": [
       "<selenium.webdriver.remote.webelement.WebElement (session=\"7332cf42b2df8ea322bba69ec9102191\", element=\"1141a0e5-e7a8-4af7-877b-cc4755cb113b\")>"
      ]
     },
     "execution_count": 36,
     "metadata": {},
     "output_type": "execute_result"
    }
   ],
   "source": [
    "search_btn=driver.find_element_by_class_name(\"_34RNph\")\n",
    "search_btn"
   ]
  },
  {
   "cell_type": "code",
   "execution_count": 40,
   "id": "1157a1b9",
   "metadata": {},
   "outputs": [],
   "source": [
    "search_btn.click()"
   ]
  },
  {
   "cell_type": "code",
   "execution_count": 43,
   "id": "2ef99565",
   "metadata": {},
   "outputs": [],
   "source": [
    "brand_name=driver.find_elements_by_xpath('//div[@class=\"_2WkVRV\"]')"
   ]
  },
  {
   "cell_type": "code",
   "execution_count": 44,
   "id": "a99cb2a8",
   "metadata": {},
   "outputs": [
    {
     "data": {
      "text/plain": [
       "40"
      ]
     },
     "execution_count": 44,
     "metadata": {},
     "output_type": "execute_result"
    }
   ],
   "source": [
    "len(brand_name)"
   ]
  },
  {
   "cell_type": "code",
   "execution_count": 45,
   "id": "4dd4a861",
   "metadata": {},
   "outputs": [],
   "source": [
    "brand=[]\n",
    "for i in brand_name:\n",
    "    brand.append(i.text)"
   ]
  },
  {
   "cell_type": "code",
   "execution_count": 46,
   "id": "6b95cf4f",
   "metadata": {},
   "outputs": [
    {
     "data": {
      "text/plain": [
       "['VINCENT CHASE',\n",
       " 'VINCENT CHASE',\n",
       " 'GANSTA',\n",
       " 'GANSTA',\n",
       " 'Elligator',\n",
       " 'SRPM',\n",
       " 'SUNBEE',\n",
       " 'VINCENT CHASE',\n",
       " 'Fastrack',\n",
       " 'SHAAH COLLECTIONS',\n",
       " 'New Specs',\n",
       " 'VILLAIN',\n",
       " 'PIRASO',\n",
       " 'SHAAH COLLECTIONS',\n",
       " 'Fastrack',\n",
       " 'VINCENT CHASE',\n",
       " 'kingsunglasses',\n",
       " 'SUNBEE',\n",
       " 'agera',\n",
       " 'VINCENT CHASE',\n",
       " 'GANSTA',\n",
       " 'GANSTA',\n",
       " 'PHENOMENAL',\n",
       " 'ROZZETTA CRAFT',\n",
       " 'PIRASO',\n",
       " 'ROZZETTA CRAFT',\n",
       " 'PIRASO',\n",
       " 'ROZZETTA CRAFT',\n",
       " 'Elligator',\n",
       " 'PHENOMENAL',\n",
       " 'Johaena',\n",
       " 'VINCENT CHASE',\n",
       " 'PHENOMENAL',\n",
       " 'GANSTA',\n",
       " 'Elligator',\n",
       " 'ROYAL SON',\n",
       " 'Lee Topper',\n",
       " 'New Specs',\n",
       " 'Lee Topper',\n",
       " 'VINCENT CHASE']"
      ]
     },
     "execution_count": 46,
     "metadata": {},
     "output_type": "execute_result"
    }
   ],
   "source": [
    "brand"
   ]
  },
  {
   "cell_type": "code",
   "execution_count": 47,
   "id": "925551ef",
   "metadata": {},
   "outputs": [],
   "source": [
    "product_desc=driver.find_elements_by_xpath('//div[@class=\"_2B099V\"]')"
   ]
  },
  {
   "cell_type": "code",
   "execution_count": 48,
   "id": "f74cee56",
   "metadata": {},
   "outputs": [
    {
     "data": {
      "text/plain": [
       "40"
      ]
     },
     "execution_count": 48,
     "metadata": {},
     "output_type": "execute_result"
    }
   ],
   "source": [
    "len(product_desc)"
   ]
  },
  {
   "cell_type": "code",
   "execution_count": 49,
   "id": "2198354e",
   "metadata": {},
   "outputs": [],
   "source": [
    "description=[]\n",
    "for i in product_desc:\n",
    "    description.append(i.text)"
   ]
  },
  {
   "cell_type": "code",
   "execution_count": 50,
   "id": "f0b2e9db",
   "metadata": {},
   "outputs": [
    {
     "data": {
      "text/plain": [
       "['VINCENT CHASE\\nby Lenskart Polarized, UV Protection Wayfarer Sunglasse...\\n₹1,483₹2,50040% off\\nFree delivery',\n",
       " 'VINCENT CHASE\\nby Lenskart Polarized, UV Protection Wayfarer Sunglasse...\\n₹1,129₹1,99943% off\\nFree delivery',\n",
       " 'GANSTA\\nUV Protection, Riding Glasses Wayfarer Sunglasses (53)\\n₹159₹1,79991% off\\nDeal of the Day',\n",
       " 'GANSTA\\nUV Protection Aviator Sunglasses (57)\\n₹234₹1,99988% off\\nDeal of the Day\\nSize Medium',\n",
       " 'Elligator\\nUV Protection Round Sunglasses (54)\\n₹198₹2,49592% off\\nDeal of the Day',\n",
       " 'SRPM\\nUV Protection Wayfarer Sunglasses (50)\\n₹138₹1,29989% off\\nDeal of the Day',\n",
       " 'SUNBEE\\nUV Protection, Polarized Wayfarer Sunglasses (Free Size...\\n₹193₹1,29985% off',\n",
       " 'VINCENT CHASE\\nby Lenskart Polarized, UV Protection Wayfarer Sunglasse...\\n₹1,365₹2,50045% off\\nSize Large',\n",
       " 'Fastrack\\nUV Protection Wayfarer Sunglasses (Free Size)\\n₹729₹89918% off\\nFree delivery\\nBuy 2 items, save extra 5%',\n",
       " 'SHAAH COLLECTIONS\\nUV Protection, Polarized, Mirrored Rectangular Sunglass...\\n₹115₹1,69993% off',\n",
       " 'New Specs\\nUV Protection Rectangular Sunglasses (Free Size)\\n₹184₹1,99990% off',\n",
       " 'VILLAIN\\nOthers Wayfarer Sunglasses (Free Size)\\n₹1,049₹1,74940% off\\nFree delivery',\n",
       " 'PIRASO\\nUV Protection Aviator Sunglasses (54)\\n₹179₹1,59988% off',\n",
       " 'SHAAH COLLECTIONS\\nUV Protection, Polarized, Mirrored Rectangular Sunglass...\\n₹131₹99986% off',\n",
       " 'Fastrack\\nUV Protection Rectangular Sunglasses (Free Size)\\n₹579₹79927% off\\nFree delivery\\nBuy 2 items, save extra 5%',\n",
       " 'VINCENT CHASE\\nby Lenskart Polarized, UV Protection Wayfarer Sunglasse...\\n₹1,483₹2,50040% off\\nFree delivery',\n",
       " 'kingsunglasses\\nUV Protection Round Sunglasses (54)\\n₹136₹99986% off',\n",
       " 'SUNBEE\\nUV Protection, Polarized, Mirrored Round Sunglasses (Fr...\\n₹221₹1,69986% off',\n",
       " 'agera\\nGradient Aviator Sunglasses (55)\\n₹186₹1,14983% off\\nDeal of the Day',\n",
       " 'VINCENT CHASE\\nby Lenskart Polarized, UV Protection Wayfarer Sunglasse...\\n₹1,365₹1,99931% off\\nFree delivery',\n",
       " 'GANSTA\\nUV Protection Aviator Sunglasses (57)\\n₹183₹1,04982% off\\nDeal of the Day',\n",
       " 'GANSTA\\nUV Protection, Riding Glasses Wayfarer Sunglasses (53)\\n₹199₹1,99590% off\\nDeal of the Day',\n",
       " 'PHENOMENAL\\nUV Protection Retro Square Sunglasses (53)\\n₹215₹99978% off',\n",
       " 'ROZZETTA CRAFT\\nUV Protection, Gradient Retro Square Sunglasses (Free S...\\n₹299₹1,99985% off',\n",
       " 'PIRASO\\nUV Protection Aviator Sunglasses (54)\\n₹150₹1,59990% off',\n",
       " 'ROZZETTA CRAFT\\nUV Protection, Gradient Rectangular Sunglasses (Free Si...\\n₹349₹1,99982% off',\n",
       " 'PIRASO\\nUV Protection Aviator Sunglasses (54)\\n₹150₹1,59990% off',\n",
       " 'ROZZETTA CRAFT\\nUV Protection, Riding Glasses Rectangular Sunglasses (F...\\n₹399₹2,22582% off',\n",
       " 'Elligator\\nUV Protection Round Sunglasses (53)\\n₹139₹1,49790% off\\nDeal of the Day',\n",
       " 'PHENOMENAL\\nUV Protection Retro Square Sunglasses (Free Size)\\n₹259₹1,99987% off',\n",
       " 'Johaena\\nRiding Glasses, UV Protection Oval Sunglasses (48)\\n₹102₹1,19991% off\\nDeal of the Day',\n",
       " 'VINCENT CHASE\\nby Lenskart Polarized, UV Protection Round Sunglasses (...\\n₹1,365₹2,50045% off\\nFree delivery',\n",
       " 'PHENOMENAL\\nUV Protection, Mirrored Retro Square Sunglasses (53)\\n₹249₹1,99987% off',\n",
       " 'GANSTA\\nUV Protection Rectangular Sunglasses (60)\\n₹174₹1,29986% off\\nDeal of the Day',\n",
       " 'Elligator\\nUV Protection Round Sunglasses (54)\\n₹215₹1,29983% off',\n",
       " 'ROYAL SON\\nUV Protection, Gradient Butterfly Sunglasses (55)\\n₹614₹1,99969% off\\nFree delivery\\nDeal of the Day',\n",
       " 'Lee Topper\\nRiding Glasses, Night Vision Wrap-around Sunglasses (Fr...\\n₹226₹2,49990% off',\n",
       " 'New Specs\\nMirrored, UV Protection, Riding Glasses, Others Round S...\\n₹209₹1,39985% off',\n",
       " 'Lee Topper\\nUV Protection Rectangular Sunglasses (Free Size)\\n₹149₹99985% off',\n",
       " 'VINCENT CHASE\\nby Lenskart Polarized, UV Protection Wayfarer Sunglasse...\\n₹1,365₹2,50045% off\\nFree delivery']"
      ]
     },
     "execution_count": 50,
     "metadata": {},
     "output_type": "execute_result"
    }
   ],
   "source": [
    "description"
   ]
  },
  {
   "cell_type": "code",
   "execution_count": 51,
   "id": "d0c9ce2f",
   "metadata": {},
   "outputs": [],
   "source": [
    "price_pro=driver.find_elements_by_xpath('//div[@class=\"_30jeq3\"]')"
   ]
  },
  {
   "cell_type": "code",
   "execution_count": 52,
   "id": "d7fa37fe",
   "metadata": {},
   "outputs": [
    {
     "data": {
      "text/plain": [
       "40"
      ]
     },
     "execution_count": 52,
     "metadata": {},
     "output_type": "execute_result"
    }
   ],
   "source": [
    "len(price_pro)"
   ]
  },
  {
   "cell_type": "code",
   "execution_count": 53,
   "id": "c7a127ad",
   "metadata": {},
   "outputs": [],
   "source": [
    "price=[]\n",
    "for i in price_pro:\n",
    "    price.append(i.text)"
   ]
  },
  {
   "cell_type": "code",
   "execution_count": 54,
   "id": "ee4e7a71",
   "metadata": {},
   "outputs": [
    {
     "data": {
      "text/plain": [
       "['₹1,483',\n",
       " '₹1,129',\n",
       " '₹159',\n",
       " '₹234',\n",
       " '₹198',\n",
       " '₹138',\n",
       " '₹193',\n",
       " '₹1,365',\n",
       " '₹729',\n",
       " '₹115',\n",
       " '₹184',\n",
       " '₹1,049',\n",
       " '₹179',\n",
       " '₹131',\n",
       " '₹579',\n",
       " '₹1,483',\n",
       " '₹136',\n",
       " '₹221',\n",
       " '₹186',\n",
       " '₹1,365',\n",
       " '₹183',\n",
       " '₹199',\n",
       " '₹215',\n",
       " '₹299',\n",
       " '₹150',\n",
       " '₹349',\n",
       " '₹150',\n",
       " '₹399',\n",
       " '₹139',\n",
       " '₹259',\n",
       " '₹102',\n",
       " '₹1,365',\n",
       " '₹249',\n",
       " '₹174',\n",
       " '₹215',\n",
       " '₹614',\n",
       " '₹226',\n",
       " '₹209',\n",
       " '₹149',\n",
       " '₹1,365']"
      ]
     },
     "execution_count": 54,
     "metadata": {},
     "output_type": "execute_result"
    }
   ],
   "source": [
    "price"
   ]
  },
  {
   "cell_type": "code",
   "execution_count": 55,
   "id": "fd6e5832",
   "metadata": {},
   "outputs": [],
   "source": [
    "df=pd.DataFrame({\"BRAND\":brand,\"DESCRIPTION\":description,\"PRICE\":price})"
   ]
  },
  {
   "cell_type": "code",
   "execution_count": 56,
   "id": "5bab46bf",
   "metadata": {},
   "outputs": [
    {
     "data": {
      "text/html": [
       "<div>\n",
       "<style scoped>\n",
       "    .dataframe tbody tr th:only-of-type {\n",
       "        vertical-align: middle;\n",
       "    }\n",
       "\n",
       "    .dataframe tbody tr th {\n",
       "        vertical-align: top;\n",
       "    }\n",
       "\n",
       "    .dataframe thead th {\n",
       "        text-align: right;\n",
       "    }\n",
       "</style>\n",
       "<table border=\"1\" class=\"dataframe\">\n",
       "  <thead>\n",
       "    <tr style=\"text-align: right;\">\n",
       "      <th></th>\n",
       "      <th>BRAND</th>\n",
       "      <th>DESCRIPTION</th>\n",
       "      <th>PRICE</th>\n",
       "    </tr>\n",
       "  </thead>\n",
       "  <tbody>\n",
       "    <tr>\n",
       "      <th>0</th>\n",
       "      <td>VINCENT CHASE</td>\n",
       "      <td>VINCENT CHASE\\nby Lenskart Polarized, UV Prote...</td>\n",
       "      <td>₹1,483</td>\n",
       "    </tr>\n",
       "    <tr>\n",
       "      <th>1</th>\n",
       "      <td>VINCENT CHASE</td>\n",
       "      <td>VINCENT CHASE\\nby Lenskart Polarized, UV Prote...</td>\n",
       "      <td>₹1,129</td>\n",
       "    </tr>\n",
       "    <tr>\n",
       "      <th>2</th>\n",
       "      <td>GANSTA</td>\n",
       "      <td>GANSTA\\nUV Protection, Riding Glasses Wayfarer...</td>\n",
       "      <td>₹159</td>\n",
       "    </tr>\n",
       "    <tr>\n",
       "      <th>3</th>\n",
       "      <td>GANSTA</td>\n",
       "      <td>GANSTA\\nUV Protection Aviator Sunglasses (57)\\...</td>\n",
       "      <td>₹234</td>\n",
       "    </tr>\n",
       "    <tr>\n",
       "      <th>4</th>\n",
       "      <td>Elligator</td>\n",
       "      <td>Elligator\\nUV Protection Round Sunglasses (54)...</td>\n",
       "      <td>₹198</td>\n",
       "    </tr>\n",
       "    <tr>\n",
       "      <th>5</th>\n",
       "      <td>SRPM</td>\n",
       "      <td>SRPM\\nUV Protection Wayfarer Sunglasses (50)\\n...</td>\n",
       "      <td>₹138</td>\n",
       "    </tr>\n",
       "    <tr>\n",
       "      <th>6</th>\n",
       "      <td>SUNBEE</td>\n",
       "      <td>SUNBEE\\nUV Protection, Polarized Wayfarer Sung...</td>\n",
       "      <td>₹193</td>\n",
       "    </tr>\n",
       "    <tr>\n",
       "      <th>7</th>\n",
       "      <td>VINCENT CHASE</td>\n",
       "      <td>VINCENT CHASE\\nby Lenskart Polarized, UV Prote...</td>\n",
       "      <td>₹1,365</td>\n",
       "    </tr>\n",
       "    <tr>\n",
       "      <th>8</th>\n",
       "      <td>Fastrack</td>\n",
       "      <td>Fastrack\\nUV Protection Wayfarer Sunglasses (F...</td>\n",
       "      <td>₹729</td>\n",
       "    </tr>\n",
       "    <tr>\n",
       "      <th>9</th>\n",
       "      <td>SHAAH COLLECTIONS</td>\n",
       "      <td>SHAAH COLLECTIONS\\nUV Protection, Polarized, M...</td>\n",
       "      <td>₹115</td>\n",
       "    </tr>\n",
       "    <tr>\n",
       "      <th>10</th>\n",
       "      <td>New Specs</td>\n",
       "      <td>New Specs\\nUV Protection Rectangular Sunglasse...</td>\n",
       "      <td>₹184</td>\n",
       "    </tr>\n",
       "    <tr>\n",
       "      <th>11</th>\n",
       "      <td>VILLAIN</td>\n",
       "      <td>VILLAIN\\nOthers Wayfarer Sunglasses (Free Size...</td>\n",
       "      <td>₹1,049</td>\n",
       "    </tr>\n",
       "    <tr>\n",
       "      <th>12</th>\n",
       "      <td>PIRASO</td>\n",
       "      <td>PIRASO\\nUV Protection Aviator Sunglasses (54)\\...</td>\n",
       "      <td>₹179</td>\n",
       "    </tr>\n",
       "    <tr>\n",
       "      <th>13</th>\n",
       "      <td>SHAAH COLLECTIONS</td>\n",
       "      <td>SHAAH COLLECTIONS\\nUV Protection, Polarized, M...</td>\n",
       "      <td>₹131</td>\n",
       "    </tr>\n",
       "    <tr>\n",
       "      <th>14</th>\n",
       "      <td>Fastrack</td>\n",
       "      <td>Fastrack\\nUV Protection Rectangular Sunglasses...</td>\n",
       "      <td>₹579</td>\n",
       "    </tr>\n",
       "    <tr>\n",
       "      <th>15</th>\n",
       "      <td>VINCENT CHASE</td>\n",
       "      <td>VINCENT CHASE\\nby Lenskart Polarized, UV Prote...</td>\n",
       "      <td>₹1,483</td>\n",
       "    </tr>\n",
       "    <tr>\n",
       "      <th>16</th>\n",
       "      <td>kingsunglasses</td>\n",
       "      <td>kingsunglasses\\nUV Protection Round Sunglasses...</td>\n",
       "      <td>₹136</td>\n",
       "    </tr>\n",
       "    <tr>\n",
       "      <th>17</th>\n",
       "      <td>SUNBEE</td>\n",
       "      <td>SUNBEE\\nUV Protection, Polarized, Mirrored Rou...</td>\n",
       "      <td>₹221</td>\n",
       "    </tr>\n",
       "    <tr>\n",
       "      <th>18</th>\n",
       "      <td>agera</td>\n",
       "      <td>agera\\nGradient Aviator Sunglasses (55)\\n₹186₹...</td>\n",
       "      <td>₹186</td>\n",
       "    </tr>\n",
       "    <tr>\n",
       "      <th>19</th>\n",
       "      <td>VINCENT CHASE</td>\n",
       "      <td>VINCENT CHASE\\nby Lenskart Polarized, UV Prote...</td>\n",
       "      <td>₹1,365</td>\n",
       "    </tr>\n",
       "    <tr>\n",
       "      <th>20</th>\n",
       "      <td>GANSTA</td>\n",
       "      <td>GANSTA\\nUV Protection Aviator Sunglasses (57)\\...</td>\n",
       "      <td>₹183</td>\n",
       "    </tr>\n",
       "    <tr>\n",
       "      <th>21</th>\n",
       "      <td>GANSTA</td>\n",
       "      <td>GANSTA\\nUV Protection, Riding Glasses Wayfarer...</td>\n",
       "      <td>₹199</td>\n",
       "    </tr>\n",
       "    <tr>\n",
       "      <th>22</th>\n",
       "      <td>PHENOMENAL</td>\n",
       "      <td>PHENOMENAL\\nUV Protection Retro Square Sunglas...</td>\n",
       "      <td>₹215</td>\n",
       "    </tr>\n",
       "    <tr>\n",
       "      <th>23</th>\n",
       "      <td>ROZZETTA CRAFT</td>\n",
       "      <td>ROZZETTA CRAFT\\nUV Protection, Gradient Retro ...</td>\n",
       "      <td>₹299</td>\n",
       "    </tr>\n",
       "    <tr>\n",
       "      <th>24</th>\n",
       "      <td>PIRASO</td>\n",
       "      <td>PIRASO\\nUV Protection Aviator Sunglasses (54)\\...</td>\n",
       "      <td>₹150</td>\n",
       "    </tr>\n",
       "    <tr>\n",
       "      <th>25</th>\n",
       "      <td>ROZZETTA CRAFT</td>\n",
       "      <td>ROZZETTA CRAFT\\nUV Protection, Gradient Rectan...</td>\n",
       "      <td>₹349</td>\n",
       "    </tr>\n",
       "    <tr>\n",
       "      <th>26</th>\n",
       "      <td>PIRASO</td>\n",
       "      <td>PIRASO\\nUV Protection Aviator Sunglasses (54)\\...</td>\n",
       "      <td>₹150</td>\n",
       "    </tr>\n",
       "    <tr>\n",
       "      <th>27</th>\n",
       "      <td>ROZZETTA CRAFT</td>\n",
       "      <td>ROZZETTA CRAFT\\nUV Protection, Riding Glasses ...</td>\n",
       "      <td>₹399</td>\n",
       "    </tr>\n",
       "    <tr>\n",
       "      <th>28</th>\n",
       "      <td>Elligator</td>\n",
       "      <td>Elligator\\nUV Protection Round Sunglasses (53)...</td>\n",
       "      <td>₹139</td>\n",
       "    </tr>\n",
       "    <tr>\n",
       "      <th>29</th>\n",
       "      <td>PHENOMENAL</td>\n",
       "      <td>PHENOMENAL\\nUV Protection Retro Square Sunglas...</td>\n",
       "      <td>₹259</td>\n",
       "    </tr>\n",
       "    <tr>\n",
       "      <th>30</th>\n",
       "      <td>Johaena</td>\n",
       "      <td>Johaena\\nRiding Glasses, UV Protection Oval Su...</td>\n",
       "      <td>₹102</td>\n",
       "    </tr>\n",
       "    <tr>\n",
       "      <th>31</th>\n",
       "      <td>VINCENT CHASE</td>\n",
       "      <td>VINCENT CHASE\\nby Lenskart Polarized, UV Prote...</td>\n",
       "      <td>₹1,365</td>\n",
       "    </tr>\n",
       "    <tr>\n",
       "      <th>32</th>\n",
       "      <td>PHENOMENAL</td>\n",
       "      <td>PHENOMENAL\\nUV Protection, Mirrored Retro Squa...</td>\n",
       "      <td>₹249</td>\n",
       "    </tr>\n",
       "    <tr>\n",
       "      <th>33</th>\n",
       "      <td>GANSTA</td>\n",
       "      <td>GANSTA\\nUV Protection Rectangular Sunglasses (...</td>\n",
       "      <td>₹174</td>\n",
       "    </tr>\n",
       "    <tr>\n",
       "      <th>34</th>\n",
       "      <td>Elligator</td>\n",
       "      <td>Elligator\\nUV Protection Round Sunglasses (54)...</td>\n",
       "      <td>₹215</td>\n",
       "    </tr>\n",
       "    <tr>\n",
       "      <th>35</th>\n",
       "      <td>ROYAL SON</td>\n",
       "      <td>ROYAL SON\\nUV Protection, Gradient Butterfly S...</td>\n",
       "      <td>₹614</td>\n",
       "    </tr>\n",
       "    <tr>\n",
       "      <th>36</th>\n",
       "      <td>Lee Topper</td>\n",
       "      <td>Lee Topper\\nRiding Glasses, Night Vision Wrap-...</td>\n",
       "      <td>₹226</td>\n",
       "    </tr>\n",
       "    <tr>\n",
       "      <th>37</th>\n",
       "      <td>New Specs</td>\n",
       "      <td>New Specs\\nMirrored, UV Protection, Riding Gla...</td>\n",
       "      <td>₹209</td>\n",
       "    </tr>\n",
       "    <tr>\n",
       "      <th>38</th>\n",
       "      <td>Lee Topper</td>\n",
       "      <td>Lee Topper\\nUV Protection Rectangular Sunglass...</td>\n",
       "      <td>₹149</td>\n",
       "    </tr>\n",
       "    <tr>\n",
       "      <th>39</th>\n",
       "      <td>VINCENT CHASE</td>\n",
       "      <td>VINCENT CHASE\\nby Lenskart Polarized, UV Prote...</td>\n",
       "      <td>₹1,365</td>\n",
       "    </tr>\n",
       "  </tbody>\n",
       "</table>\n",
       "</div>"
      ],
      "text/plain": [
       "                BRAND                                        DESCRIPTION  \\\n",
       "0       VINCENT CHASE  VINCENT CHASE\\nby Lenskart Polarized, UV Prote...   \n",
       "1       VINCENT CHASE  VINCENT CHASE\\nby Lenskart Polarized, UV Prote...   \n",
       "2              GANSTA  GANSTA\\nUV Protection, Riding Glasses Wayfarer...   \n",
       "3              GANSTA  GANSTA\\nUV Protection Aviator Sunglasses (57)\\...   \n",
       "4           Elligator  Elligator\\nUV Protection Round Sunglasses (54)...   \n",
       "5                SRPM  SRPM\\nUV Protection Wayfarer Sunglasses (50)\\n...   \n",
       "6              SUNBEE  SUNBEE\\nUV Protection, Polarized Wayfarer Sung...   \n",
       "7       VINCENT CHASE  VINCENT CHASE\\nby Lenskart Polarized, UV Prote...   \n",
       "8            Fastrack  Fastrack\\nUV Protection Wayfarer Sunglasses (F...   \n",
       "9   SHAAH COLLECTIONS  SHAAH COLLECTIONS\\nUV Protection, Polarized, M...   \n",
       "10          New Specs  New Specs\\nUV Protection Rectangular Sunglasse...   \n",
       "11            VILLAIN  VILLAIN\\nOthers Wayfarer Sunglasses (Free Size...   \n",
       "12             PIRASO  PIRASO\\nUV Protection Aviator Sunglasses (54)\\...   \n",
       "13  SHAAH COLLECTIONS  SHAAH COLLECTIONS\\nUV Protection, Polarized, M...   \n",
       "14           Fastrack  Fastrack\\nUV Protection Rectangular Sunglasses...   \n",
       "15      VINCENT CHASE  VINCENT CHASE\\nby Lenskart Polarized, UV Prote...   \n",
       "16     kingsunglasses  kingsunglasses\\nUV Protection Round Sunglasses...   \n",
       "17             SUNBEE  SUNBEE\\nUV Protection, Polarized, Mirrored Rou...   \n",
       "18              agera  agera\\nGradient Aviator Sunglasses (55)\\n₹186₹...   \n",
       "19      VINCENT CHASE  VINCENT CHASE\\nby Lenskart Polarized, UV Prote...   \n",
       "20             GANSTA  GANSTA\\nUV Protection Aviator Sunglasses (57)\\...   \n",
       "21             GANSTA  GANSTA\\nUV Protection, Riding Glasses Wayfarer...   \n",
       "22         PHENOMENAL  PHENOMENAL\\nUV Protection Retro Square Sunglas...   \n",
       "23     ROZZETTA CRAFT  ROZZETTA CRAFT\\nUV Protection, Gradient Retro ...   \n",
       "24             PIRASO  PIRASO\\nUV Protection Aviator Sunglasses (54)\\...   \n",
       "25     ROZZETTA CRAFT  ROZZETTA CRAFT\\nUV Protection, Gradient Rectan...   \n",
       "26             PIRASO  PIRASO\\nUV Protection Aviator Sunglasses (54)\\...   \n",
       "27     ROZZETTA CRAFT  ROZZETTA CRAFT\\nUV Protection, Riding Glasses ...   \n",
       "28          Elligator  Elligator\\nUV Protection Round Sunglasses (53)...   \n",
       "29         PHENOMENAL  PHENOMENAL\\nUV Protection Retro Square Sunglas...   \n",
       "30            Johaena  Johaena\\nRiding Glasses, UV Protection Oval Su...   \n",
       "31      VINCENT CHASE  VINCENT CHASE\\nby Lenskart Polarized, UV Prote...   \n",
       "32         PHENOMENAL  PHENOMENAL\\nUV Protection, Mirrored Retro Squa...   \n",
       "33             GANSTA  GANSTA\\nUV Protection Rectangular Sunglasses (...   \n",
       "34          Elligator  Elligator\\nUV Protection Round Sunglasses (54)...   \n",
       "35          ROYAL SON  ROYAL SON\\nUV Protection, Gradient Butterfly S...   \n",
       "36         Lee Topper  Lee Topper\\nRiding Glasses, Night Vision Wrap-...   \n",
       "37          New Specs  New Specs\\nMirrored, UV Protection, Riding Gla...   \n",
       "38         Lee Topper  Lee Topper\\nUV Protection Rectangular Sunglass...   \n",
       "39      VINCENT CHASE  VINCENT CHASE\\nby Lenskart Polarized, UV Prote...   \n",
       "\n",
       "     PRICE  \n",
       "0   ₹1,483  \n",
       "1   ₹1,129  \n",
       "2     ₹159  \n",
       "3     ₹234  \n",
       "4     ₹198  \n",
       "5     ₹138  \n",
       "6     ₹193  \n",
       "7   ₹1,365  \n",
       "8     ₹729  \n",
       "9     ₹115  \n",
       "10    ₹184  \n",
       "11  ₹1,049  \n",
       "12    ₹179  \n",
       "13    ₹131  \n",
       "14    ₹579  \n",
       "15  ₹1,483  \n",
       "16    ₹136  \n",
       "17    ₹221  \n",
       "18    ₹186  \n",
       "19  ₹1,365  \n",
       "20    ₹183  \n",
       "21    ₹199  \n",
       "22    ₹215  \n",
       "23    ₹299  \n",
       "24    ₹150  \n",
       "25    ₹349  \n",
       "26    ₹150  \n",
       "27    ₹399  \n",
       "28    ₹139  \n",
       "29    ₹259  \n",
       "30    ₹102  \n",
       "31  ₹1,365  \n",
       "32    ₹249  \n",
       "33    ₹174  \n",
       "34    ₹215  \n",
       "35    ₹614  \n",
       "36    ₹226  \n",
       "37    ₹209  \n",
       "38    ₹149  \n",
       "39  ₹1,365  "
      ]
     },
     "execution_count": 56,
     "metadata": {},
     "output_type": "execute_result"
    }
   ],
   "source": [
    "df"
   ]
  },
  {
   "cell_type": "code",
   "execution_count": null,
   "id": "7a0072b9",
   "metadata": {},
   "outputs": [],
   "source": [
    "Q7: Go to the link - https://www.myntra.com/shoes\n",
    "Set Price filter to “Rs. 7149 to Rs. 14099 ” , Color filter to “Black”, as shown inthe below image"
   ]
  },
  {
   "cell_type": "code",
   "execution_count": 57,
   "id": "89735d94",
   "metadata": {},
   "outputs": [
    {
     "name": "stdout",
     "output_type": "stream",
     "text": [
      "Requirement already satisfied: selenium in c:\\programdata\\anaconda3\\lib\\site-packages (4.1.0)\n",
      "Requirement already satisfied: urllib3[secure]~=1.26 in c:\\programdata\\anaconda3\\lib\\site-packages (from selenium) (1.26.4)\n",
      "Requirement already satisfied: trio-websocket~=0.9 in c:\\programdata\\anaconda3\\lib\\site-packages (from selenium) (0.9.2)\n",
      "Requirement already satisfied: trio~=0.17 in c:\\programdata\\anaconda3\\lib\\site-packages (from selenium) (0.19.0)\n",
      "Requirement already satisfied: outcome in c:\\programdata\\anaconda3\\lib\\site-packages (from trio~=0.17->selenium) (1.1.0)\n",
      "Requirement already satisfied: sniffio in c:\\programdata\\anaconda3\\lib\\site-packages (from trio~=0.17->selenium) (1.2.0)\n",
      "Requirement already satisfied: idna in c:\\programdata\\anaconda3\\lib\\site-packages (from trio~=0.17->selenium) (2.10)\n",
      "Requirement already satisfied: sortedcontainers in c:\\programdata\\anaconda3\\lib\\site-packages (from trio~=0.17->selenium) (2.3.0)\n",
      "Requirement already satisfied: async-generator>=1.9 in c:\\programdata\\anaconda3\\lib\\site-packages (from trio~=0.17->selenium) (1.10)\n",
      "Requirement already satisfied: cffi>=1.14 in c:\\programdata\\anaconda3\\lib\\site-packages (from trio~=0.17->selenium) (1.14.5)\n",
      "Requirement already satisfied: attrs>=19.2.0 in c:\\programdata\\anaconda3\\lib\\site-packages (from trio~=0.17->selenium) (20.3.0)\n",
      "Requirement already satisfied: pycparser in c:\\programdata\\anaconda3\\lib\\site-packages (from cffi>=1.14->trio~=0.17->selenium) (2.20)\n",
      "Requirement already satisfied: wsproto>=0.14 in c:\\programdata\\anaconda3\\lib\\site-packages (from trio-websocket~=0.9->selenium) (1.0.0)\n",
      "Requirement already satisfied: pyOpenSSL>=0.14 in c:\\programdata\\anaconda3\\lib\\site-packages (from urllib3[secure]~=1.26->selenium) (20.0.1)\n",
      "Requirement already satisfied: cryptography>=1.3.4 in c:\\programdata\\anaconda3\\lib\\site-packages (from urllib3[secure]~=1.26->selenium) (3.4.7)\n",
      "Requirement already satisfied: certifi in c:\\programdata\\anaconda3\\lib\\site-packages (from urllib3[secure]~=1.26->selenium) (2020.12.5)\n",
      "Requirement already satisfied: six>=1.5.2 in c:\\programdata\\anaconda3\\lib\\site-packages (from pyOpenSSL>=0.14->urllib3[secure]~=1.26->selenium) (1.15.0)\n",
      "Requirement already satisfied: h11<1,>=0.9.0 in c:\\programdata\\anaconda3\\lib\\site-packages (from wsproto>=0.14->trio-websocket~=0.9->selenium) (0.13.0)\n"
     ]
    }
   ],
   "source": [
    "!pip install selenium"
   ]
  },
  {
   "cell_type": "code",
   "execution_count": 58,
   "id": "17aca4e5",
   "metadata": {},
   "outputs": [],
   "source": [
    "import selenium\n",
    "from selenium import webdriver\n",
    "import pandas as pd\n",
    "import warnings\n",
    "warnings.filterwarnings(\"ignore\")"
   ]
  },
  {
   "cell_type": "code",
   "execution_count": 59,
   "id": "323fe505",
   "metadata": {},
   "outputs": [],
   "source": [
    "driver=webdriver.Chrome(r'C:\\Users\\91708\\Downloads\\chromedriver_win32 (2)\\chromedriver.exe')"
   ]
  },
  {
   "cell_type": "code",
   "execution_count": 60,
   "id": "fb691865",
   "metadata": {},
   "outputs": [],
   "source": [
    "url=\"http://www.myntra.com/shoes\"\n",
    "driver.get(url)"
   ]
  },
  {
   "cell_type": "code",
   "execution_count": 61,
   "id": "e1ae4556",
   "metadata": {},
   "outputs": [
    {
     "data": {
      "text/plain": [
       "<selenium.webdriver.remote.webelement.WebElement (session=\"1c2278abae643aa012f7176b5cff802c\", element=\"9e906d08-15cd-4f3e-af52-384b6142c904\")>"
      ]
     },
     "execution_count": 61,
     "metadata": {},
     "output_type": "execute_result"
    }
   ],
   "source": [
    "set_price=driver.find_element_by_xpath('/html/body/div[2]/div/div[1]/main/div[3]/div[1]/section/div/div[5]/ul/li[2]/label/div')\n",
    "set_price"
   ]
  },
  {
   "cell_type": "code",
   "execution_count": 62,
   "id": "8fb2f6be",
   "metadata": {},
   "outputs": [],
   "source": [
    "set_price.click()"
   ]
  },
  {
   "cell_type": "code",
   "execution_count": 63,
   "id": "abd74f4e",
   "metadata": {},
   "outputs": [
    {
     "data": {
      "text/plain": [
       "<selenium.webdriver.remote.webelement.WebElement (session=\"1c2278abae643aa012f7176b5cff802c\", element=\"c35596d6-c8af-4813-afaf-06a038a33b7a\")>"
      ]
     },
     "execution_count": 63,
     "metadata": {},
     "output_type": "execute_result"
    }
   ],
   "source": [
    "set_color=driver.find_element_by_xpath('/html/body/div[2]/div/div[1]/main/div[3]/div[1]/section/div/div[6]/ul/li[1]/label/div')\n",
    "set_color"
   ]
  },
  {
   "cell_type": "code",
   "execution_count": 64,
   "id": "6aab0982",
   "metadata": {},
   "outputs": [],
   "source": [
    "set_color.click()"
   ]
  },
  {
   "cell_type": "code",
   "execution_count": 65,
   "id": "a7e6158d",
   "metadata": {},
   "outputs": [],
   "source": [
    "brand_name=driver.find_elements_by_xpath('//h3[@class=\"product-brand\"]')"
   ]
  },
  {
   "cell_type": "code",
   "execution_count": 66,
   "id": "b9d87589",
   "metadata": {},
   "outputs": [
    {
     "data": {
      "text/plain": [
       "50"
      ]
     },
     "execution_count": 66,
     "metadata": {},
     "output_type": "execute_result"
    }
   ],
   "source": [
    "len(brand_name)"
   ]
  },
  {
   "cell_type": "code",
   "execution_count": 67,
   "id": "1462b47a",
   "metadata": {},
   "outputs": [],
   "source": [
    "pro_des=driver.find_elements_by_xpath('//h4[@class=\"product-product\"]')"
   ]
  },
  {
   "cell_type": "code",
   "execution_count": 68,
   "id": "b8fec316",
   "metadata": {},
   "outputs": [
    {
     "data": {
      "text/plain": [
       "50"
      ]
     },
     "execution_count": 68,
     "metadata": {},
     "output_type": "execute_result"
    }
   ],
   "source": [
    "len(pro_des)"
   ]
  },
  {
   "cell_type": "code",
   "execution_count": 69,
   "id": "563fdf1f",
   "metadata": {},
   "outputs": [],
   "source": [
    "pro_price=driver.find_elements_by_xpath('//div[@class=\"product-price\"]')"
   ]
  },
  {
   "cell_type": "code",
   "execution_count": 70,
   "id": "c7e90e3a",
   "metadata": {},
   "outputs": [
    {
     "data": {
      "text/plain": [
       "50"
      ]
     },
     "execution_count": 70,
     "metadata": {},
     "output_type": "execute_result"
    }
   ],
   "source": [
    "len(pro_price)"
   ]
  },
  {
   "cell_type": "code",
   "execution_count": 71,
   "id": "15192ce4",
   "metadata": {},
   "outputs": [],
   "source": [
    "brand=[]\n",
    "for i in brand_name:\n",
    "    brand.append(i.text)"
   ]
  },
  {
   "cell_type": "code",
   "execution_count": 72,
   "id": "112dae75",
   "metadata": {},
   "outputs": [
    {
     "data": {
      "text/plain": [
       "['Nike',\n",
       " 'Nike',\n",
       " 'Nike',\n",
       " 'Tommy Hilfiger',\n",
       " 'Puma',\n",
       " 'Puma',\n",
       " 'Puma',\n",
       " 'Puma',\n",
       " 'ASICS',\n",
       " 'Tommy Hilfiger',\n",
       " 'Skechers',\n",
       " 'Puma',\n",
       " 'Tommy Hilfiger',\n",
       " 'Puma',\n",
       " 'RARE RABBIT',\n",
       " 'Hush Puppies',\n",
       " 'DAVINCHI',\n",
       " 'Hush Puppies',\n",
       " 'Tommy Hilfiger',\n",
       " 'Hush Puppies',\n",
       " 'Columbia',\n",
       " 'Puma',\n",
       " 'Xtep',\n",
       " 'Puma',\n",
       " 'Bugatti',\n",
       " 'Puma',\n",
       " 'PUMA Motorsport',\n",
       " 'Tommy Hilfiger',\n",
       " 'Clarks',\n",
       " 'Saint G',\n",
       " 'Heel & Buckle London',\n",
       " 'Geox',\n",
       " 'Saint G',\n",
       " 'ALDO',\n",
       " 'FILA',\n",
       " 'Bugatti',\n",
       " 'Clarks',\n",
       " 'RARE RABBIT',\n",
       " 'DAVINCHI',\n",
       " 'Saint G',\n",
       " 'Tommy Hilfiger',\n",
       " 'Saint G',\n",
       " 'Clarks',\n",
       " 'DAVINCHI',\n",
       " 'Nike',\n",
       " 'Saint G',\n",
       " 'Saint G',\n",
       " 'Bugatti',\n",
       " 'Puma',\n",
       " 'Columbia']"
      ]
     },
     "execution_count": 72,
     "metadata": {},
     "output_type": "execute_result"
    }
   ],
   "source": [
    "brand"
   ]
  },
  {
   "cell_type": "code",
   "execution_count": 73,
   "id": "0a2998b7",
   "metadata": {},
   "outputs": [],
   "source": [
    "description=[]\n",
    "for i in pro_des:\n",
    "    description.append(i.text)"
   ]
  },
  {
   "cell_type": "code",
   "execution_count": 74,
   "id": "0b5f252c",
   "metadata": {},
   "outputs": [
    {
     "data": {
      "text/plain": [
       "['Men Winflo 7 Running Shoes',\n",
       " 'Men Blazer Court Skateboarding',\n",
       " 'Men Air Max Dawn Sneakers',\n",
       " 'Men Leather Sneakers',\n",
       " 'Men Jamming 2.0 Running Shoes',\n",
       " 'Men Running Shoes',\n",
       " 'Men Magnify Nitro Running',\n",
       " 'Men Deviate Nitro Running Shoe',\n",
       " 'Women Running Shoes',\n",
       " 'Men Leather Sneakers',\n",
       " 'Men Go Run Hyper Burst Running',\n",
       " 'Women Magnify Nitro Shoes',\n",
       " 'Men Textured Loafers',\n",
       " 'Men Electrify Nitro Running',\n",
       " 'Men Leather Slip-On Sneakers',\n",
       " 'Men Solid Leather Formal Slip-Ons',\n",
       " 'Men Textured Formal Leather Loafers',\n",
       " 'Men Perforations Leather Slip-On Sneakers',\n",
       " 'Leather Sandals',\n",
       " 'Men Solid Formal Slip-Ons',\n",
       " 'Women REDMOND V2 TrekkingShoe',\n",
       " 'Women Velocity NITRO Runners',\n",
       " 'Men Running Shoes',\n",
       " 'Men Training or Gym Shoes',\n",
       " 'Men Walking Shoes',\n",
       " 'Women Eternity Nitro Running',\n",
       " 'Unisex Ferrari Drift8 Sneakers',\n",
       " 'Women CLEAT Textured Sneakers',\n",
       " 'Men Solid Leather Formal Loafers',\n",
       " 'Leather Block Heeled Boots',\n",
       " 'Men Textured Leather Formal Loafers',\n",
       " 'Men Leather Loafers',\n",
       " 'Men Mid-Top Chelsea Boots',\n",
       " 'Wedge Sandals',\n",
       " 'Women Leather Sneakers',\n",
       " 'Men Textured Leather High-Top Flat Boots',\n",
       " 'Men Solid Formal Leather Derbys',\n",
       " 'Men Leather Flat Boots',\n",
       " 'Ustraa black',\n",
       " 'Women Leather Heeled Boots',\n",
       " 'Women ELEVATED Leather Sneaker',\n",
       " 'Women Leather Heeled Boots',\n",
       " 'Men Solid Leather Formal Brogues',\n",
       " 'Solid Slip On Shoes',\n",
       " 'Women Air Max Furyosa Sneakers',\n",
       " 'Leather Boots with Buckles',\n",
       " 'Women Kitten Heeled Boots',\n",
       " 'Men Black Walking Shoes',\n",
       " 'Women Eternity NITRO Shoes',\n",
       " 'Men FACET OUTDRY Trekking Shoe']"
      ]
     },
     "execution_count": 74,
     "metadata": {},
     "output_type": "execute_result"
    }
   ],
   "source": [
    "description"
   ]
  },
  {
   "cell_type": "code",
   "execution_count": 75,
   "id": "4ef29728",
   "metadata": {},
   "outputs": [],
   "source": [
    "price=[]\n",
    "for i in pro_price:\n",
    "    price.append(i.text)"
   ]
  },
  {
   "cell_type": "code",
   "execution_count": 76,
   "id": "3abd22cd",
   "metadata": {},
   "outputs": [
    {
     "data": {
      "text/plain": [
       "['Rs. 7995',\n",
       " 'Rs. 7495',\n",
       " 'Rs. 10995',\n",
       " 'Rs. 7999',\n",
       " 'Rs. 12999',\n",
       " 'Rs. 12999',\n",
       " 'Rs. 7799Rs. 12999(40% OFF)',\n",
       " 'Rs. 10499Rs. 14999(30% OFF)',\n",
       " 'Rs. 7999',\n",
       " 'Rs. 7999',\n",
       " 'Rs. 7224Rs. 8499(15% OFF)',\n",
       " 'Rs. 7799Rs. 12999(40% OFF)',\n",
       " 'Rs. 8999',\n",
       " 'Rs. 9999',\n",
       " 'Rs. 7999',\n",
       " 'Rs. 8999',\n",
       " 'Rs. 8990',\n",
       " 'Rs. 7999',\n",
       " 'Rs. 7599',\n",
       " 'Rs. 9999',\n",
       " 'Rs. 7999',\n",
       " 'Rs. 7149Rs. 10999(35% OFF)',\n",
       " 'Rs. 7699',\n",
       " 'Rs. 7999',\n",
       " 'Rs. 7199Rs. 8999(20% OFF)',\n",
       " 'Rs. 7149Rs. 12999(45% OFF)',\n",
       " 'Rs. 7999',\n",
       " 'Rs. 7739Rs. 8599(10% OFF)',\n",
       " 'Rs. 7999',\n",
       " 'Rs. 9265Rs. 10900(15% OFF)',\n",
       " 'Rs. 13990',\n",
       " 'Rs. 10990',\n",
       " 'Rs. 10500Rs. 10900(Rs. 400 OFF)',\n",
       " 'Rs. 7999',\n",
       " 'Rs. 8499',\n",
       " 'Rs. 8399Rs. 11999(30% OFF)',\n",
       " 'Rs. 9999',\n",
       " 'Rs. 7999Rs. 9999(20% OFF)',\n",
       " 'Rs. 8990',\n",
       " 'Rs. 12325Rs. 14500(15% OFF)',\n",
       " 'Rs. 7219Rs. 7599(5% OFF)',\n",
       " 'Rs. 11473Rs. 14900(23% OFF)',\n",
       " 'Rs. 7999',\n",
       " 'Rs. 7990',\n",
       " 'Rs. 11470Rs. 13495(15% OFF)',\n",
       " 'Rs. 8925Rs. 10500(15% OFF)',\n",
       " 'Rs. 7565Rs. 8900(15% OFF)',\n",
       " 'Rs. 7199Rs. 8999(20% OFF)',\n",
       " 'Rs. 12999',\n",
       " 'Rs. 12999']"
      ]
     },
     "execution_count": 76,
     "metadata": {},
     "output_type": "execute_result"
    }
   ],
   "source": [
    "price"
   ]
  },
  {
   "cell_type": "code",
   "execution_count": 77,
   "id": "c2925e85",
   "metadata": {},
   "outputs": [],
   "source": [
    "next_btn=driver.find_element_by_xpath('/html/body/div[2]/div/div[1]/main/div[3]/div[2]/div/div[2]/section/div[2]/ul/li[12]/a')"
   ]
  },
  {
   "cell_type": "code",
   "execution_count": 78,
   "id": "d3fe4c41",
   "metadata": {},
   "outputs": [],
   "source": [
    "next_btn.click()"
   ]
  },
  {
   "cell_type": "code",
   "execution_count": 79,
   "id": "7ab35642",
   "metadata": {},
   "outputs": [],
   "source": [
    "brand_name=driver.find_elements_by_xpath('//h3[@class=\"product-brand\"]')"
   ]
  },
  {
   "cell_type": "code",
   "execution_count": 80,
   "id": "14cd0345",
   "metadata": {},
   "outputs": [
    {
     "data": {
      "text/plain": [
       "50"
      ]
     },
     "execution_count": 80,
     "metadata": {},
     "output_type": "execute_result"
    }
   ],
   "source": [
    "len(brand_name)"
   ]
  },
  {
   "cell_type": "code",
   "execution_count": 81,
   "id": "119678a7",
   "metadata": {},
   "outputs": [
    {
     "data": {
      "text/plain": [
       "50"
      ]
     },
     "execution_count": 81,
     "metadata": {},
     "output_type": "execute_result"
    }
   ],
   "source": [
    "pro_des=driver.find_elements_by_xpath('//h4[@class=\"product-product\"]')\n",
    "len(pro_des)"
   ]
  },
  {
   "cell_type": "code",
   "execution_count": 82,
   "id": "5fdc918d",
   "metadata": {},
   "outputs": [
    {
     "data": {
      "text/plain": [
       "50"
      ]
     },
     "execution_count": 82,
     "metadata": {},
     "output_type": "execute_result"
    }
   ],
   "source": [
    "pro_price=driver.find_elements_by_xpath('//h4[@class=\"product-product\"]')\n",
    "len(pro_price)"
   ]
  },
  {
   "cell_type": "code",
   "execution_count": 83,
   "id": "11310828",
   "metadata": {},
   "outputs": [],
   "source": [
    "for i in brand_name:\n",
    "    brand.append(i.text)"
   ]
  },
  {
   "cell_type": "code",
   "execution_count": 84,
   "id": "e032d1ff",
   "metadata": {},
   "outputs": [
    {
     "data": {
      "text/plain": [
       "100"
      ]
     },
     "execution_count": 84,
     "metadata": {},
     "output_type": "execute_result"
    }
   ],
   "source": [
    "len(brand)"
   ]
  },
  {
   "cell_type": "code",
   "execution_count": 85,
   "id": "51a2ad8c",
   "metadata": {},
   "outputs": [],
   "source": [
    "for i in pro_des:\n",
    "    description.append(i.text)"
   ]
  },
  {
   "cell_type": "code",
   "execution_count": 86,
   "id": "5f4ac613",
   "metadata": {},
   "outputs": [
    {
     "data": {
      "text/plain": [
       "100"
      ]
     },
     "execution_count": 86,
     "metadata": {},
     "output_type": "execute_result"
    }
   ],
   "source": [
    "len(description)"
   ]
  },
  {
   "cell_type": "code",
   "execution_count": 87,
   "id": "0f73aaa3",
   "metadata": {},
   "outputs": [],
   "source": [
    "for i in pro_price:\n",
    "    price.append(i.text)"
   ]
  },
  {
   "cell_type": "code",
   "execution_count": 88,
   "id": "8c0cf452",
   "metadata": {},
   "outputs": [
    {
     "data": {
      "text/plain": [
       "100"
      ]
     },
     "execution_count": 88,
     "metadata": {},
     "output_type": "execute_result"
    }
   ],
   "source": [
    "len(price)"
   ]
  },
  {
   "cell_type": "code",
   "execution_count": 89,
   "id": "49c7b0f7",
   "metadata": {},
   "outputs": [],
   "source": [
    "df=pd.DataFrame({\"BRAND\":brand,\"DESCRIPTION\":description,\"PRICE\":price})"
   ]
  },
  {
   "cell_type": "code",
   "execution_count": 90,
   "id": "2e7220e5",
   "metadata": {},
   "outputs": [
    {
     "data": {
      "text/html": [
       "<div>\n",
       "<style scoped>\n",
       "    .dataframe tbody tr th:only-of-type {\n",
       "        vertical-align: middle;\n",
       "    }\n",
       "\n",
       "    .dataframe tbody tr th {\n",
       "        vertical-align: top;\n",
       "    }\n",
       "\n",
       "    .dataframe thead th {\n",
       "        text-align: right;\n",
       "    }\n",
       "</style>\n",
       "<table border=\"1\" class=\"dataframe\">\n",
       "  <thead>\n",
       "    <tr style=\"text-align: right;\">\n",
       "      <th></th>\n",
       "      <th>BRAND</th>\n",
       "      <th>DESCRIPTION</th>\n",
       "      <th>PRICE</th>\n",
       "    </tr>\n",
       "  </thead>\n",
       "  <tbody>\n",
       "    <tr>\n",
       "      <th>0</th>\n",
       "      <td>Nike</td>\n",
       "      <td>Men Winflo 7 Running Shoes</td>\n",
       "      <td>Rs. 7995</td>\n",
       "    </tr>\n",
       "    <tr>\n",
       "      <th>1</th>\n",
       "      <td>Nike</td>\n",
       "      <td>Men Blazer Court Skateboarding</td>\n",
       "      <td>Rs. 7495</td>\n",
       "    </tr>\n",
       "    <tr>\n",
       "      <th>2</th>\n",
       "      <td>Nike</td>\n",
       "      <td>Men Air Max Dawn Sneakers</td>\n",
       "      <td>Rs. 10995</td>\n",
       "    </tr>\n",
       "    <tr>\n",
       "      <th>3</th>\n",
       "      <td>Tommy Hilfiger</td>\n",
       "      <td>Men Leather Sneakers</td>\n",
       "      <td>Rs. 7999</td>\n",
       "    </tr>\n",
       "    <tr>\n",
       "      <th>4</th>\n",
       "      <td>Puma</td>\n",
       "      <td>Men Jamming 2.0 Running Shoes</td>\n",
       "      <td>Rs. 12999</td>\n",
       "    </tr>\n",
       "    <tr>\n",
       "      <th>...</th>\n",
       "      <td>...</td>\n",
       "      <td>...</td>\n",
       "      <td>...</td>\n",
       "    </tr>\n",
       "    <tr>\n",
       "      <th>95</th>\n",
       "      <td>Saint G</td>\n",
       "      <td>Women Leather Heeled Boots</td>\n",
       "      <td>Women Leather Heeled Boots</td>\n",
       "    </tr>\n",
       "    <tr>\n",
       "      <th>96</th>\n",
       "      <td>Pavers England</td>\n",
       "      <td>Men Printed Loafers</td>\n",
       "      <td>Men Printed Loafers</td>\n",
       "    </tr>\n",
       "    <tr>\n",
       "      <th>97</th>\n",
       "      <td>ALDO</td>\n",
       "      <td>Leather Slim Heels</td>\n",
       "      <td>Leather Slim Heels</td>\n",
       "    </tr>\n",
       "    <tr>\n",
       "      <th>98</th>\n",
       "      <td>Geox</td>\n",
       "      <td>Leather Platform Sandals</td>\n",
       "      <td>Leather Platform Sandals</td>\n",
       "    </tr>\n",
       "    <tr>\n",
       "      <th>99</th>\n",
       "      <td>Geox</td>\n",
       "      <td>Men Striped Leather Sneakers</td>\n",
       "      <td>Men Striped Leather Sneakers</td>\n",
       "    </tr>\n",
       "  </tbody>\n",
       "</table>\n",
       "<p>100 rows × 3 columns</p>\n",
       "</div>"
      ],
      "text/plain": [
       "             BRAND                     DESCRIPTION  \\\n",
       "0             Nike      Men Winflo 7 Running Shoes   \n",
       "1             Nike  Men Blazer Court Skateboarding   \n",
       "2             Nike       Men Air Max Dawn Sneakers   \n",
       "3   Tommy Hilfiger            Men Leather Sneakers   \n",
       "4             Puma   Men Jamming 2.0 Running Shoes   \n",
       "..             ...                             ...   \n",
       "95         Saint G      Women Leather Heeled Boots   \n",
       "96  Pavers England             Men Printed Loafers   \n",
       "97            ALDO              Leather Slim Heels   \n",
       "98            Geox        Leather Platform Sandals   \n",
       "99            Geox    Men Striped Leather Sneakers   \n",
       "\n",
       "                           PRICE  \n",
       "0                       Rs. 7995  \n",
       "1                       Rs. 7495  \n",
       "2                      Rs. 10995  \n",
       "3                       Rs. 7999  \n",
       "4                      Rs. 12999  \n",
       "..                           ...  \n",
       "95    Women Leather Heeled Boots  \n",
       "96           Men Printed Loafers  \n",
       "97            Leather Slim Heels  \n",
       "98      Leather Platform Sandals  \n",
       "99  Men Striped Leather Sneakers  \n",
       "\n",
       "[100 rows x 3 columns]"
      ]
     },
     "execution_count": 90,
     "metadata": {},
     "output_type": "execute_result"
    }
   ],
   "source": [
    "df"
   ]
  },
  {
   "cell_type": "code",
   "execution_count": null,
   "id": "7b2c53e6",
   "metadata": {},
   "outputs": [],
   "source": [
    "Q9: Write a python program to scrape data for first 10 job results for Data Scientist Designation in Noida\n",
    "location. You have to scrape company name, No. of days ago when job was posted, Rating of the company.\n",
    "This task will be done in following steps:"
   ]
  },
  {
   "cell_type": "code",
   "execution_count": 91,
   "id": "27033df3",
   "metadata": {},
   "outputs": [
    {
     "name": "stdout",
     "output_type": "stream",
     "text": [
      "Requirement already satisfied: selenium in c:\\programdata\\anaconda3\\lib\\site-packages (4.1.0)\n",
      "Requirement already satisfied: trio~=0.17 in c:\\programdata\\anaconda3\\lib\\site-packages (from selenium) (0.19.0)\n",
      "Requirement already satisfied: trio-websocket~=0.9 in c:\\programdata\\anaconda3\\lib\\site-packages (from selenium) (0.9.2)\n",
      "Requirement already satisfied: urllib3[secure]~=1.26 in c:\\programdata\\anaconda3\\lib\\site-packages (from selenium) (1.26.4)\n",
      "Requirement already satisfied: cffi>=1.14 in c:\\programdata\\anaconda3\\lib\\site-packages (from trio~=0.17->selenium) (1.14.5)\n",
      "Requirement already satisfied: idna in c:\\programdata\\anaconda3\\lib\\site-packages (from trio~=0.17->selenium) (2.10)\n",
      "Requirement already satisfied: sniffio in c:\\programdata\\anaconda3\\lib\\site-packages (from trio~=0.17->selenium) (1.2.0)\n",
      "Requirement already satisfied: outcome in c:\\programdata\\anaconda3\\lib\\site-packages (from trio~=0.17->selenium) (1.1.0)\n",
      "Requirement already satisfied: sortedcontainers in c:\\programdata\\anaconda3\\lib\\site-packages (from trio~=0.17->selenium) (2.3.0)\n",
      "Requirement already satisfied: attrs>=19.2.0 in c:\\programdata\\anaconda3\\lib\\site-packages (from trio~=0.17->selenium) (20.3.0)\n",
      "Requirement already satisfied: async-generator>=1.9 in c:\\programdata\\anaconda3\\lib\\site-packages (from trio~=0.17->selenium) (1.10)\n",
      "Requirement already satisfied: pycparser in c:\\programdata\\anaconda3\\lib\\site-packages (from cffi>=1.14->trio~=0.17->selenium) (2.20)\n",
      "Requirement already satisfied: wsproto>=0.14 in c:\\programdata\\anaconda3\\lib\\site-packages (from trio-websocket~=0.9->selenium) (1.0.0)\n",
      "Requirement already satisfied: cryptography>=1.3.4 in c:\\programdata\\anaconda3\\lib\\site-packages (from urllib3[secure]~=1.26->selenium) (3.4.7)\n",
      "Requirement already satisfied: certifi in c:\\programdata\\anaconda3\\lib\\site-packages (from urllib3[secure]~=1.26->selenium) (2020.12.5)\n",
      "Requirement already satisfied: pyOpenSSL>=0.14 in c:\\programdata\\anaconda3\\lib\\site-packages (from urllib3[secure]~=1.26->selenium) (20.0.1)\n",
      "Requirement already satisfied: six>=1.5.2 in c:\\programdata\\anaconda3\\lib\\site-packages (from pyOpenSSL>=0.14->urllib3[secure]~=1.26->selenium) (1.15.0)\n",
      "Requirement already satisfied: h11<1,>=0.9.0 in c:\\programdata\\anaconda3\\lib\\site-packages (from wsproto>=0.14->trio-websocket~=0.9->selenium) (0.13.0)\n"
     ]
    }
   ],
   "source": [
    "!pip install selenium"
   ]
  },
  {
   "cell_type": "code",
   "execution_count": 92,
   "id": "43c65f4f",
   "metadata": {},
   "outputs": [],
   "source": [
    "import selenium\n",
    "from selenium import webdriver\n",
    "import pandas as pd\n",
    "import warnings\n",
    "warnings.filterwarnings(\"ignore\")"
   ]
  },
  {
   "cell_type": "code",
   "execution_count": 93,
   "id": "8cb95768",
   "metadata": {},
   "outputs": [],
   "source": [
    "driver=webdriver.Chrome(r'C:\\Users\\91708\\Downloads\\chromedriver_win32 (2)\\chromedriver.exe')"
   ]
  },
  {
   "cell_type": "code",
   "execution_count": 94,
   "id": "e7a84d37",
   "metadata": {},
   "outputs": [],
   "source": [
    "url=\"http://www.ambitionbox.com/\"\n",
    "driver.get(url)"
   ]
  },
  {
   "cell_type": "code",
   "execution_count": 95,
   "id": "a24bc483",
   "metadata": {},
   "outputs": [],
   "source": [
    "search_job=driver.find_element_by_xpath('/html/body/div[1]/nav/nav/a[6]')"
   ]
  },
  {
   "cell_type": "code",
   "execution_count": 96,
   "id": "8d648072",
   "metadata": {},
   "outputs": [],
   "source": [
    "search_job.click()"
   ]
  },
  {
   "cell_type": "code",
   "execution_count": 97,
   "id": "8cecbf1b",
   "metadata": {},
   "outputs": [
    {
     "data": {
      "text/plain": [
       "<selenium.webdriver.remote.webelement.WebElement (session=\"67f52cb2e8cc57d4a2abaca076eb62de\", element=\"c6e239fe-c80e-47ee-bb1b-7ce58d4fc28b\")>"
      ]
     },
     "execution_count": 97,
     "metadata": {},
     "output_type": "execute_result"
    }
   ],
   "source": [
    "job=driver.find_element_by_xpath(\"/html/body/div/div/div/div[2]/div[1]/div/div/div/div/span/input\")\n",
    "job"
   ]
  },
  {
   "cell_type": "code",
   "execution_count": 98,
   "id": "19eaa714",
   "metadata": {},
   "outputs": [],
   "source": [
    "job.send_keys(\"Data Scientist\")"
   ]
  },
  {
   "cell_type": "code",
   "execution_count": 99,
   "id": "cda7ffb8",
   "metadata": {},
   "outputs": [],
   "source": [
    "search_btn=driver.find_element_by_xpath(\"/html/body/div/div/div/div[2]/div[1]/div/div/div/button\")"
   ]
  },
  {
   "cell_type": "code",
   "execution_count": 100,
   "id": "e7736ca8",
   "metadata": {},
   "outputs": [],
   "source": [
    "search_btn.click()"
   ]
  },
  {
   "cell_type": "code",
   "execution_count": 101,
   "id": "fc0c59de",
   "metadata": {},
   "outputs": [],
   "source": [
    "locn_btn=driver.find_element_by_xpath(\"/html/body/div/div/div/div[2]/div[2]/div[1]/div/div/div/div[2]/div[1]/p\")"
   ]
  },
  {
   "cell_type": "code",
   "execution_count": 102,
   "id": "72d152f2",
   "metadata": {},
   "outputs": [],
   "source": [
    "locn_btn.click()"
   ]
  },
  {
   "cell_type": "code",
   "execution_count": 103,
   "id": "9fc73f6d",
   "metadata": {},
   "outputs": [],
   "source": [
    "search_locn=driver.find_element_by_xpath(\"/html/body/div/div/div/div[2]/div[2]/div[1]/div/div/div/div[2]/div[2]/div/div[2]/input\")"
   ]
  },
  {
   "cell_type": "code",
   "execution_count": 104,
   "id": "72dc1642",
   "metadata": {},
   "outputs": [],
   "source": [
    "search_locn.send_keys(\"Noida\")"
   ]
  },
  {
   "cell_type": "code",
   "execution_count": 105,
   "id": "03c70c65",
   "metadata": {},
   "outputs": [],
   "source": [
    "locn_select=driver.find_element_by_xpath(\"/html/body/div/div/div/div[2]/div[2]/div[1]/div/div/div/div[2]/div[2]/div/div[3]/div[1]/div[1]/div/label\")"
   ]
  },
  {
   "cell_type": "code",
   "execution_count": 106,
   "id": "896f666b",
   "metadata": {},
   "outputs": [],
   "source": [
    "locn_select.click()"
   ]
  },
  {
   "cell_type": "code",
   "execution_count": 107,
   "id": "9211bcdb",
   "metadata": {},
   "outputs": [
    {
     "data": {
      "text/plain": [
       "11"
      ]
     },
     "execution_count": 107,
     "metadata": {},
     "output_type": "execute_result"
    }
   ],
   "source": [
    "title_tags=driver.find_elements_by_xpath('//div[@class=\"company-info\"]')\n",
    "len(title_tags)"
   ]
  },
  {
   "cell_type": "code",
   "execution_count": 108,
   "id": "6b4a3172",
   "metadata": {},
   "outputs": [
    {
     "data": {
      "text/plain": [
       "10"
      ]
     },
     "execution_count": 108,
     "metadata": {},
     "output_type": "execute_result"
    }
   ],
   "source": [
    "rating_comp=driver.find_elements_by_xpath('//span[@class=\"body-small\"]')\n",
    "len(rating_comp)"
   ]
  },
  {
   "cell_type": "code",
   "execution_count": 109,
   "id": "bd1d499f",
   "metadata": {},
   "outputs": [
    {
     "data": {
      "text/plain": [
       "20"
      ]
     },
     "execution_count": 109,
     "metadata": {},
     "output_type": "execute_result"
    }
   ],
   "source": [
    "days_ago=driver.find_elements_by_xpath('//span[@class=\"body-small-l\"]')\n",
    "len(days_ago)"
   ]
  },
  {
   "cell_type": "code",
   "execution_count": 110,
   "id": "598537bd",
   "metadata": {},
   "outputs": [],
   "source": [
    "company=[]\n",
    "for i in title_tags:\n",
    "    company.append(i.text)"
   ]
  },
  {
   "cell_type": "code",
   "execution_count": 111,
   "id": "9bc2dcb8",
   "metadata": {},
   "outputs": [
    {
     "data": {
      "text/plain": [
       "['Jubilant Foodworks Limited\\n · \\n3.9\\nbased on 537 Reviews',\n",
       " 'Jubilant Foodworks Limited\\n3.9\\n(537 Reviews)',\n",
       " 'HCL Technologies\\n3.8\\n(15.6k Reviews)',\n",
       " 'EY GDS\\n3.7\\n(4k Reviews)',\n",
       " 'Tavant Technologies India Pvt. Ltd.\\n4.0\\n(258 Reviews)',\n",
       " 'Denave India Pvt Ltd.\\n4.0\\n(370 Reviews)',\n",
       " 'EXL Service\\n3.8\\n(3.8k Reviews)',\n",
       " 'CHT Sapiense\\n3.8\\n(114 Reviews)',\n",
       " 'Pitney Bowes India Pvt ltd\\n4.2\\n(97 Reviews)',\n",
       " 'Zyoin\\n4.1\\n(68 Reviews)',\n",
       " 'Ameriprise Financial\\n4.0\\n(282 Reviews)']"
      ]
     },
     "execution_count": 111,
     "metadata": {},
     "output_type": "execute_result"
    }
   ],
   "source": [
    "company"
   ]
  },
  {
   "cell_type": "code",
   "execution_count": 112,
   "id": "fa59fb54",
   "metadata": {},
   "outputs": [],
   "source": [
    "rating=[]\n",
    "for i in rating_comp:\n",
    "    rating.append(i.text)"
   ]
  },
  {
   "cell_type": "code",
   "execution_count": 113,
   "id": "a3a8a948",
   "metadata": {},
   "outputs": [
    {
     "data": {
      "text/plain": [
       "['3.9', '3.8', '3.7', '4.0', '4.0', '3.8', '3.8', '4.2', '4.1', '4.0']"
      ]
     },
     "execution_count": 113,
     "metadata": {},
     "output_type": "execute_result"
    }
   ],
   "source": [
    "rating"
   ]
  },
  {
   "cell_type": "code",
   "execution_count": 114,
   "id": "5ba26386",
   "metadata": {},
   "outputs": [],
   "source": [
    "days=[]\n",
    "for i in days_ago:\n",
    "    days.append(i.text)"
   ]
  },
  {
   "cell_type": "code",
   "execution_count": 115,
   "id": "70c3594f",
   "metadata": {},
   "outputs": [
    {
     "data": {
      "text/plain": [
       "['17d ago',\n",
       " 'via naukri.com',\n",
       " '30d ago',\n",
       " 'via naukri.com',\n",
       " '1mon ago',\n",
       " 'via iimjobs.com',\n",
       " '11d ago',\n",
       " 'via naukri.com',\n",
       " '11d ago',\n",
       " 'via naukri.com',\n",
       " '24d ago',\n",
       " 'via naukri.com',\n",
       " '5d ago',\n",
       " 'via iimjobs.com',\n",
       " '1mon ago',\n",
       " 'via naukri.com',\n",
       " '9d ago',\n",
       " 'via hirist.com',\n",
       " '1mon ago',\n",
       " 'via naukri.com']"
      ]
     },
     "execution_count": 115,
     "metadata": {},
     "output_type": "execute_result"
    }
   ],
   "source": [
    "days"
   ]
  },
  {
   "cell_type": "code",
   "execution_count": null,
   "id": "6872c3c9",
   "metadata": {},
   "outputs": [],
   "source": []
  }
 ],
 "metadata": {
  "kernelspec": {
   "display_name": "Python 3",
   "language": "python",
   "name": "python3"
  },
  "language_info": {
   "codemirror_mode": {
    "name": "ipython",
    "version": 3
   },
   "file_extension": ".py",
   "mimetype": "text/x-python",
   "name": "python",
   "nbconvert_exporter": "python",
   "pygments_lexer": "ipython3",
   "version": "3.8.8"
  }
 },
 "nbformat": 4,
 "nbformat_minor": 5
}
